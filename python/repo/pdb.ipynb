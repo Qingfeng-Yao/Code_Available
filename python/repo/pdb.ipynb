{
 "cells": [
  {
   "cell_type": "code",
   "execution_count": null,
   "metadata": {},
   "outputs": [],
   "source": [
    "# Python调试器pdb\n",
    "# pdb有2种用法\n",
    "# 非侵入式方法（不用额外修改源代码，在命令行下直接运行就能调试）\n",
    "python3 -m pdb filename.py\n",
    "# 侵入式方法（需要在被调试的代码中添加一行代码然后再正常运行代码）\n",
    "import pdb;pdb.set_trace()\n",
    "# 当你在命令行看到下面这个提示符(Pdb)时，说明已经正确打开了pdb 然后就可以开始输入pdb命令了"
   ]
  }
 ],
 "metadata": {
  "language_info": {
   "name": "python"
  },
  "orig_nbformat": 4
 },
 "nbformat": 4,
 "nbformat_minor": 2
}
