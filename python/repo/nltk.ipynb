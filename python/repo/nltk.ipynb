{
 "cells": [
  {
   "cell_type": "code",
   "execution_count": null,
   "metadata": {},
   "outputs": [],
   "source": [
    "# nltk.download('reuters', download_dir=directory) # 若数据集已经下载好，即可注释掉这条语句\n",
    "# if directory not in nltk.data.path:\n",
    "#         nltk.data.path.append(directory)\n",
    "from nltk.corpus import reuters\n",
    "doc_ids = reuters.fileids()\n",
    "# split_set_doc_ids = list(filter(lambda doc: doc.startswith(split_set), doc_ids)) # split_set: 'train' 'test'\n",
    "# reuters.raw(id): 根据id获得原始文本\n",
    "# labels = reuters.categories(id): 根据id获得标签"
   ]
  },
  {
   "cell_type": "code",
   "execution_count": null,
   "metadata": {},
   "outputs": [],
   "source": [
    "from nltk import word_tokenize # 对英文文本进行分词\n",
    "# ' '.join(word_tokenize(reuters.raw(id))\n",
    "\n",
    "from nltk.tokenize import word_tokenize\n",
    "# word_tokens = word_tokenize(text) # 得到一个列表"
   ]
  },
  {
   "cell_type": "code",
   "execution_count": null,
   "metadata": {},
   "outputs": [],
   "source": [
    "from nltk.corpus import stopwords\n",
    "stop_words = set(stopwords.words('english'))"
   ]
  }
 ],
 "metadata": {
  "language_info": {
   "name": "python"
  },
  "orig_nbformat": 4
 },
 "nbformat": 4,
 "nbformat_minor": 2
}
