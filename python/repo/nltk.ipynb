{
 "cells": [
  {
   "cell_type": "code",
   "execution_count": null,
   "metadata": {},
   "outputs": [],
   "source": [
    "# nltk.download('reuters', download_dir=directory) # 若数据集已经下载好，即可注释掉这条语句\n",
    "# if directory not in nltk.data.path:\n",
    "#         nltk.data.path.append(directory)\n",
    "from nltk.corpus import reuters\n",
    "doc_ids = reuters.fileids()\n",
    "# split_set_doc_ids = list(filter(lambda doc: doc.startswith(split_set), doc_ids)) # split_set: 'train' 'test'\n",
    "# reuters.raw(id): 根据id获得原始文本\n",
    "# labels = reuters.categories(id): 根据id获得标签"
   ]
  },
  {
   "cell_type": "code",
   "execution_count": null,
   "metadata": {},
   "outputs": [],
   "source": [
    "from nltk import word_tokenize # 对英文文本进行分词\n",
    "# ' '.join(word_tokenize(reuters.raw(id))\n",
    "\n",
    "from nltk.tokenize import word_tokenize\n",
    "# word_tokens = word_tokenize(text) # 得到一个列表"
   ]
  },
  {
   "cell_type": "code",
   "execution_count": null,
   "metadata": {},
   "outputs": [],
   "source": [
    "from nltk.corpus import stopwords\n",
    "stop_words = set(stopwords.words('english'))"
   ]
  },
  {
   "cell_type": "code",
   "execution_count": 1,
   "metadata": {},
   "outputs": [
    {
     "name": "stdout",
     "output_type": "stream",
     "text": [
      "knive\n",
      "knife\n"
     ]
    }
   ],
   "source": [
    "from nltk.stem import SnowballStemmer\n",
    "stemmer = SnowballStemmer(\"english\") # 选择语言\n",
    "from nltk.stem import WordNetLemmatizer \n",
    "wnl = WordNetLemmatizer()\n",
    "\n",
    "# SnowballStemmer较为激进，转换有可能出现错误\n",
    "# 这里较为推荐使用WordNetLemmatizer，它一般只在非常肯定的情况下才进行转换，否则会返回原来的单词\n",
    "\n",
    "print(stemmer.stem('knives'))\n",
    "# knive\n",
    "print(wnl.lemmatize('knives'))\n",
    "# knife"
   ]
  }
 ],
 "metadata": {
  "interpreter": {
   "hash": "94b8ce2ec9a5bb238eaac0e1491a1a39f3b317a5c834f567228f3f456bc35b60"
  },
  "kernelspec": {
   "display_name": "Python 3.7.11 ('base': conda)",
   "language": "python",
   "name": "python3"
  },
  "language_info": {
   "codemirror_mode": {
    "name": "ipython",
    "version": 3
   },
   "file_extension": ".py",
   "mimetype": "text/x-python",
   "name": "python",
   "nbconvert_exporter": "python",
   "pygments_lexer": "ipython3",
   "version": "3.7.11"
  },
  "orig_nbformat": 4
 },
 "nbformat": 4,
 "nbformat_minor": 2
}
