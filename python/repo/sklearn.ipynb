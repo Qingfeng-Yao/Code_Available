{
 "cells": [
  {
   "cell_type": "code",
   "execution_count": null,
   "metadata": {},
   "outputs": [],
   "source": [
    "from sklearn.feature_extraction.text import TfidfVectorizer\n",
    "from sklearn.decomposition import TruncatedSVD\n",
    "from sklearn.pipeline import make_pipeline\n",
    "from sklearn.preprocessing import Normalizer"
   ]
  },
  {
   "cell_type": "code",
   "execution_count": null,
   "metadata": {},
   "outputs": [],
   "source": [
    "# token_pattern = \"(?u)\\\\b\\\\w+\\\\b\"\n",
    "# tfidf_vectorizer = TfidfVectorizer(token_pattern=token_pattern)\n",
    "# tfidf_feature = tfidf_vectorizer.fit_transform(texts)  # texts是文本列表，每个元素是空格连接的字符串"
   ]
  },
  {
   "cell_type": "code",
   "execution_count": null,
   "metadata": {},
   "outputs": [],
   "source": [
    "# svd = TruncatedSVD(n_components)\n",
    "# normalizer = Normalizer(copy=False)\n",
    "# lsa = make_pipeline(svd, normalizer)\n",
    "\n",
    "# lsa_feature = lsa.fit_transform(X)"
   ]
  },
  {
   "cell_type": "code",
   "execution_count": null,
   "metadata": {},
   "outputs": [],
   "source": [
    "from sklearn.feature_extraction.text import TfidfTransformer\n",
    "transformer = TfidfTransformer()\n",
    "# tfidf = transformer.fit_transform(counts) # counts是个numpy数组，shape为(len(train_set), vocab_size)，统计词频\n",
    "# tfidf[i, row['text']].toarray().astype(np.float32).flatten()\n",
    "# 输入文本已经被编码的情况下使用这个方式计算tfidf\n",
    "\n",
    "# tfidf = transformer.transform(counts) # 用训练集拟合，对测试集直接进行变换，此处的counts为测试集的词频统计"
   ]
  },
  {
   "cell_type": "code",
   "execution_count": null,
   "metadata": {},
   "outputs": [],
   "source": [
    "from sklearn.metrics import confusion_matrix\n",
    "# confusion_matrix(all_targets, all_preds).astype(float) # 输出一个二维矩阵，维数与类总数相等\n",
    "\n",
    "from sklearn.metrics import roc_auc_score"
   ]
  },
  {
   "cell_type": "code",
   "execution_count": null,
   "metadata": {},
   "outputs": [],
   "source": [
    "from sklearn.cluster import KMeans\n",
    "kmeans = KMeans(n_clusters).fit(X) # X是嵌入矩阵\n",
    "centers = kmeans.cluster_centers_ / np.linalg.norm(kmeans.cluster_centers_, ord=2, axis=1, keepdims=True)"
   ]
  }
 ],
 "metadata": {
  "language_info": {
   "name": "python"
  },
  "orig_nbformat": 4
 },
 "nbformat": 4,
 "nbformat_minor": 2
}
