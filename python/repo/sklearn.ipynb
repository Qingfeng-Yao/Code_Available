{
 "cells": [
  {
   "cell_type": "code",
   "execution_count": null,
   "metadata": {},
   "outputs": [],
   "source": [
    "from sklearn.feature_extraction.text import TfidfVectorizer\n",
    "from sklearn.decomposition import TruncatedSVD\n",
    "from sklearn.pipeline import make_pipeline\n",
    "from sklearn.preprocessing import Normalizer"
   ]
  },
  {
   "cell_type": "code",
   "execution_count": null,
   "metadata": {},
   "outputs": [],
   "source": [
    "# token_pattern = \"(?u)\\\\b\\\\w+\\\\b\"\n",
    "# tfidf_vectorizer = TfidfVectorizer(token_pattern=token_pattern)\n",
    "# tfidf_feature = tfidf_vectorizer.fit_transform(texts)  # texts是文本列表，每个元素是空格连接的字符串"
   ]
  },
  {
   "cell_type": "code",
   "execution_count": null,
   "metadata": {},
   "outputs": [],
   "source": [
    "# svd = TruncatedSVD(n_components)\n",
    "# normalizer = Normalizer(copy=False)\n",
    "# lsa = make_pipeline(svd, normalizer)\n",
    "\n",
    "# lsa_feature = lsa.fit_transform(X)"
   ]
  },
  {
   "cell_type": "code",
   "execution_count": null,
   "metadata": {},
   "outputs": [],
   "source": [
    "from sklearn.feature_extraction.text import TfidfTransformer\n",
    "transformer = TfidfTransformer()\n",
    "# tfidf = transformer.fit_transform(counts) # counts是个numpy数组，shape为(len(train_set), vocab_size)，统计词频\n",
    "# tfidf[i, row['text']].toarray().astype(np.float32).flatten()\n",
    "# 输入文本已经被编码的情况下使用这个方式计算tfidf\n",
    "\n",
    "# tfidf = transformer.transform(counts) # 用训练集拟合，对测试集直接进行变换，此处的counts为测试集的词频统计"
   ]
  },
  {
   "cell_type": "code",
   "execution_count": null,
   "metadata": {},
   "outputs": [],
   "source": [
    "from sklearn.metrics import confusion_matrix\n",
    "# confusion_matrix(all_targets, all_preds).astype(float) # 输出一个二维矩阵，维数与类总数相等 输入都是numpy\n",
    "# 横轴预测分类, 纵轴真实分类\n",
    "\n",
    "from sklearn.metrics import roc_auc_score\n",
    "\n",
    "# sklearn.metrics.accuracy_score(y_true, y_pred, normalize=True, sample_weight=None)\n",
    "# normalize：默认值为True，返回正确分类的比例；False，返回正确分类的样本数\n",
    "# 在多标签分类中， 该函数会返回子集的准确率。在正负样本不平衡的情况下，准确率这个评价指标有很大的缺陷。\n",
    "\n",
    "\n",
    "# average_precision_score(y_true, y_score, average=‘macro’, sample_weight=None):根据预测得分计算平均精度(AP)\n",
    "# confusion_matrix(y_true, y_pred, labels=None, sample_weight=None):通过计算混淆矩阵来评估分类的准确性 返回混淆矩阵\n",
    "# roc_auc_score(y_true, y_score, average=‘macro’, sample_weight=None)：计算ROC曲线下的面积就是AUC的值，the larger the better\n",
    "\n",
    "# f1_score(y_true, y_pred, labels=None, pos_label=1, average=‘binary’, sample_weight=None): F1值 F1 = 2 * (precision * recall) / (precision + recall) precision(查准率)=TP/(TP+FP) recall(查全率)=TP/(TP+FN)\n",
    "\t# 参数average还可以取: micro(全局指标), macro(计算每个标签的指标并计算未加权平均/没有考虑标签不平衡), weighted(计算每个标签的指标并计算加权平均/考虑标签不平衡/可能导致F得分不在精确率和召回率之间)\n",
    "# precision_score(y_true, y_pred, labels=None, pos_label=1, average=‘binary’,) ：查准率或者精度； precision(查准率)=TP/(TP+FP)\n",
    "# recall_score(y_true, y_pred, labels=None, pos_label=1, average=‘binary’, sample_weight=None)：查全率 ；recall(查全率)=TP/(TP+FN)\n",
    "\t"
   ]
  },
  {
   "cell_type": "code",
   "execution_count": null,
   "metadata": {},
   "outputs": [],
   "source": [
    "from sklearn.cluster import KMeans\n",
    "kmeans = KMeans(n_clusters).fit(X) # X是嵌入矩阵\n",
    "centers = kmeans.cluster_centers_ / np.linalg.norm(kmeans.cluster_centers_, ord=2, axis=1, keepdims=True)"
   ]
  }
 ],
 "metadata": {
  "language_info": {
   "name": "python"
  },
  "orig_nbformat": 4
 },
 "nbformat": 4,
 "nbformat_minor": 2
}
