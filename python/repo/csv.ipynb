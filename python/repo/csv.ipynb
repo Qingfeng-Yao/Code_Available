{
 "cells": [
  {
   "cell_type": "code",
   "execution_count": 1,
   "metadata": {},
   "outputs": [],
   "source": [
    "import csv"
   ]
  },
  {
   "cell_type": "code",
   "execution_count": null,
   "metadata": {},
   "outputs": [],
   "source": [
    "# 打开csv文件\n",
    "path = \"\"\n",
    "with open(path) as csvfile:\n",
    "\tcsv_reader = csv.reader(csvfile)\n",
    "\theader = next(csv_reader) # 打印列名\n",
    "\tfor row in csv_reader: \n",
    "\t\tprint(row) # 返回的是列表\n",
    "# 或者使用pandas读取(pandas读取要慢)\n",
    "# csv读取到的是str"
   ]
  },
  {
   "cell_type": "code",
   "execution_count": null,
   "metadata": {},
   "outputs": [],
   "source": [
    "with open(path, 'w') as f:\n",
    "    tsv_w = csv.writer(f, delimiter='\\t')\n",
    "    tsv_w.writerow([\"index\",\"a_name\",\"b_name\"])\n",
    "    tsv_w.writerows([[0,1,3],[1,2,3],[2,3,4]])"
   ]
  }
 ],
 "metadata": {
  "interpreter": {
   "hash": "8e0a5121830260c2b3ba71b278117289a5158901009d117b6fbf784f99dd631f"
  },
  "kernelspec": {
   "display_name": "Python 3.6.13 64-bit ('ctrtf': conda)",
   "language": "python",
   "name": "python3"
  },
  "language_info": {
   "codemirror_mode": {
    "name": "ipython",
    "version": 3
   },
   "file_extension": ".py",
   "mimetype": "text/x-python",
   "name": "python",
   "nbconvert_exporter": "python",
   "pygments_lexer": "ipython3",
   "version": "3.6.13"
  },
  "orig_nbformat": 4
 },
 "nbformat": 4,
 "nbformat_minor": 2
}
