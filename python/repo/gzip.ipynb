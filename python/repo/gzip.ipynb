{
 "cells": [
  {
   "cell_type": "code",
   "execution_count": null,
   "metadata": {},
   "outputs": [],
   "source": [
    "import gzip\n",
    "with gzip.open(\"msmarco-doctrain-queries.tsv.gz\", 'rt', encoding='utf8') as f:\n",
    "# 模式参数可以是二进制模式的'r', 'rb', 'a', 'ab', 'w', 'wb', 'x'或'xb'中的任何一个\n",
    "# 或者是文本模式的'rt', 'at', 'wt'或'xt'\n",
    "# 默认是'rb'\n",
    "# 'x'用于独占创建, 若文件已经存在则失败"
   ]
  }
 ],
 "metadata": {
  "language_info": {
   "name": "python"
  },
  "orig_nbformat": 4
 },
 "nbformat": 4,
 "nbformat_minor": 2
}
