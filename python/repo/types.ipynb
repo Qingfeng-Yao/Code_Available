{
 "cells": [
  {
   "cell_type": "code",
   "execution_count": null,
   "metadata": {},
   "outputs": [],
   "source": [
    "# type(fn)==types.FunctionType\n",
    "# type(abs)==types.BuiltinFunctionType\n",
    "# type(lambda x: x)==types.LambdaType\n",
    "# type((x for x in range(10)))==types.GeneratorType"
   ]
  }
 ],
 "metadata": {
  "language_info": {
   "name": "python"
  },
  "orig_nbformat": 4
 },
 "nbformat": 4,
 "nbformat_minor": 2
}
