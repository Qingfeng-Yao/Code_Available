{
 "cells": [
  {
   "cell_type": "code",
   "execution_count": 4,
   "metadata": {},
   "outputs": [],
   "source": [
    "import collections"
   ]
  },
  {
   "cell_type": "code",
   "execution_count": null,
   "metadata": {},
   "outputs": [],
   "source": [
    "# 字典\n",
    "\n",
    "# defaultdict: 创建一个类似dict对象\n",
    "\t# 接受一个工厂函数作为参数, 可以是list, set, str等等\n",
    "\t# 当key不存在时, 返回的是工厂函数的默认值\n",
    "\t# 比如list对应[], str对应的是空字符串, set对应set(), int对应0\n",
    "\t# 当工厂函数为int时, 里面任何values都是int的实例, 就算不存在的key, d[key]也有一个默认值0, 可以自行赋值\n",
    "d = collections.defaultdict(int) \n",
    "print(d[1]) # 0\n",
    "def constant_factory(value):\n",
    "\treturn lambda: value\n",
    "d = collections.defaultdict(constant_factory(1)) \n",
    "print(d[1]) # 1\n",
    "\n",
    "# Oredereddict是有序的, 按照什么顺序添加, 输出的就是什么顺序\n",
    "# 普通的dict是无序的, 不管按什么顺序添加, 输出的都是无序的, 随机的\n",
    "# 实现了对字典对象中元素的排序\n",
    "dd = {'banana': 3, 'apple': 4, 'pear': 1, 'orange': 2}\n",
    "# 按key排序\n",
    "kd = collections.OrderedDict(sorted(dd.items(), key=lambda t: t[0]))\n",
    "print(kd) # OrderedDict([('apple', 4), ('banana', 3), ('orange', 2), ('pear', 1)])\n",
    "# 按照value排序\n",
    "vd = collections.OrderedDict(sorted(dd.items(), key=lambda t: t[1]))\n",
    "print(vd) # OrderedDict([('pear', 1), ('orange', 2), ('banana', 3), ('apple', 4)])\n",
    "\n",
    "\n",
    "# Counter: 以字典的形式统计元素个数\n",
    "A=['a','b','b','c','d','b','a']\n",
    "c = collections.Counter(A)\n",
    "print(c) # Counter({'b': 3, 'a': 2, 'c': 1, 'd': 1})\n",
    "# Counter中值最大的前几个key\n",
    "print(c.most_common(2)) # 不加参数则输出全部, [('b', 3), ('a', 2)]"
   ]
  },
  {
   "cell_type": "code",
   "execution_count": null,
   "metadata": {},
   "outputs": [],
   "source": [
    "# 队列\n",
    "\n",
    "d=collections.deque('abcdefg') # 和list很像, deque(['a', 'b', 'c', 'd', 'e', 'f', 'g'])\n",
    "\n",
    "# deque是通过extend方法初始化集合元素的, 同时可以通过extendleft将结合元素从\"左边\"加入到集合中\n",
    "# append默认从集合的右边增加数组元素，而另一个appendleft可以从集合的左边增加元素\n",
    "# 与append和appendleft方法对应的还有pop和popleft方法分别用于从集合中取出元素\n",
    "d1=collections.deque()\n",
    "d2=collections.deque()\n",
    "d1.extend('abcdefg') # deque(['a', 'b', 'c', 'd', 'e', 'f', 'g'])\n",
    "d2.extendleft(range(6)) # deque([5, 4, 3, 2, 1, 0])\n",
    "d1.append('h') # deque(['a', 'b', 'c', 'd', 'e', 'f', 'g', 'h'])"
   ]
  },
  {
   "cell_type": "code",
   "execution_count": 8,
   "metadata": {},
   "outputs": [
    {
     "name": "stdout",
     "output_type": "stream",
     "text": [
      "10 20\n",
      "10 20\n"
     ]
    }
   ],
   "source": [
    "# 命名元组\n",
    "\n",
    "from collections import namedtuple\n",
    "coordinate = namedtuple('Coordinate', ['x', 'y'])\n",
    "co = coordinate(10,20)\n",
    "print(co.x,co.y)\n",
    "print(co[0],co[1])"
   ]
  },
  {
   "cell_type": "code",
   "execution_count": null,
   "metadata": {},
   "outputs": [],
   "source": [
    "from collections import Iterable\n",
    "# 可以被next()函数调用并不断返回下一个值的对象称为迭代器: Iterator\n",
    "# 可以使用isinstance()判断一个对象是否是Iterator对象\n",
    "# 生成器都是Iterator对象, 但list, dict, str虽然是Iterable, 却不是Iterator\n",
    "# 把list, dict, str等Iterable变成Iterator可以使用iter()函数"
   ]
  }
 ],
 "metadata": {
  "interpreter": {
   "hash": "8e0a5121830260c2b3ba71b278117289a5158901009d117b6fbf784f99dd631f"
  },
  "kernelspec": {
   "display_name": "Python 3.6.13 64-bit ('ctrtf': conda)",
   "name": "python3"
  },
  "language_info": {
   "codemirror_mode": {
    "name": "ipython",
    "version": 3
   },
   "file_extension": ".py",
   "mimetype": "text/x-python",
   "name": "python",
   "nbconvert_exporter": "python",
   "pygments_lexer": "ipython3",
   "version": "3.6.13"
  },
  "orig_nbformat": 4
 },
 "nbformat": 4,
 "nbformat_minor": 2
}
