{
 "cells": [
  {
   "cell_type": "code",
   "execution_count": null,
   "metadata": {},
   "outputs": [],
   "source": [
    "from loguru import logger\n",
    "\n",
    "logger.add('logs/{}.log'.format(args.dataset), rotation='500 MB', level='INFO')\n",
    "# 通过上面的配置可以实现每500 MB 储存一个文件，每个log文件过大就会创建一个 log 文件\n",
    "logger.info(args)\n",
    "\n",
    "logger.remove"
   ]
  }
 ],
 "metadata": {
  "language_info": {
   "name": "python"
  },
  "orig_nbformat": 4
 },
 "nbformat": 4,
 "nbformat_minor": 2
}
