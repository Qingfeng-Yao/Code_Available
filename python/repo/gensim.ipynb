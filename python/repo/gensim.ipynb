{
 "cells": [
  {
   "cell_type": "code",
   "execution_count": 1,
   "metadata": {},
   "outputs": [],
   "source": [
    "from gensim import models\n",
    "# Word2Vec\n",
    "# model = models.Word2Vec(text_list, workers, min_count, window, vector_size, sg, iter) \n",
    "\t# 其中text_list列表中每一个元素可以是空格隔开的字符串, 或是其他分隔符号如逗号隔开的字符串\n",
    "\t# epochs\n",
    "\t# model.wv.index2word\n",
    "\t# model.wv.vectors\n",
    "\t# model.wv[w]得到w对应的向量\n",
    "\t# embeddings_index = dict(zip(model.wv.index2word, model.wv.vectors))\n",
    "# 中文模型\n",
    "\t# model = models.Word2Vec.load('./model/wiki.zh.text.model')\n",
    "\n",
    "# FastText\n",
    "# model = models.FastText(vector_size=4, window=3, min_count=1)\n",
    "\n",
    "from gensim.models import KeyedVectors\n",
    "# model = KeyedVectors.load_word2vec_format(file_path)\n",
    "\t# file_path可取'wiki-news-300d-1M.vec'(fasttext), 需要提前下载\n",
    "\t# url='https://dl.fbaipublicfiles.com/fasttext/vectors-english/wiki-news-300d-1M.vec.zip'\n",
    "\t# req = urllib.request.Request(url), file = urllib.request.urlopen(req), with open(os.path.join(dest_dir, dest_file), 'wb') as output: output.write(file.read())\n",
    "# 中文模型\n",
    "# model = KeyedVectors.load_word2vec_format('sgns.zhihu.word')\n",
    "# model.most_similar('数学')"
   ]
  },
  {
   "cell_type": "code",
   "execution_count": 1,
   "metadata": {},
   "outputs": [
    {
     "name": "stdout",
     "output_type": "stream",
     "text": [
      "['human', 'interface', 'computer']\n",
      "9\n"
     ]
    }
   ],
   "source": [
    "from gensim.test.utils import common_texts, lee_corpus_lists\n",
    "print(common_texts[0])\n",
    "print(len(common_texts))"
   ]
  }
 ],
 "metadata": {
  "interpreter": {
   "hash": "94b8ce2ec9a5bb238eaac0e1491a1a39f3b317a5c834f567228f3f456bc35b60"
  },
  "kernelspec": {
   "display_name": "Python 3.7.11 ('base')",
   "language": "python",
   "name": "python3"
  },
  "language_info": {
   "codemirror_mode": {
    "name": "ipython",
    "version": 3
   },
   "file_extension": ".py",
   "mimetype": "text/x-python",
   "name": "python",
   "nbconvert_exporter": "python",
   "pygments_lexer": "ipython3",
   "version": "3.7.10"
  },
  "metadata": {
   "interpreter": {
    "hash": "72506cc1e4b0dce5eb876f653d1c5faf29777724f7cbfb23a9a7a2a764425624"
   }
  },
  "orig_nbformat": 2
 },
 "nbformat": 4,
 "nbformat_minor": 2
}
