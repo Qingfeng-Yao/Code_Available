{
 "cells": [
  {
   "cell_type": "code",
   "execution_count": null,
   "metadata": {},
   "outputs": [],
   "source": [
    "import jieba\n",
    "jieba.setLogLevel(logging.INFO)"
   ]
  },
  {
   "cell_type": "code",
   "execution_count": null,
   "metadata": {},
   "outputs": [],
   "source": [
    "# jieba.load_userdict(x)\n",
    "# jieba.cut"
   ]
  },
  {
   "cell_type": "code",
   "execution_count": null,
   "metadata": {},
   "outputs": [],
   "source": [
    "import jieba.posseg as psg\n",
    "text = \"去北京大学玩\"\n",
    "#词性标注\n",
    "seg = psg.cut(text)\n",
    " \n",
    "#将词性标注结果打印出来\n",
    "for ele in seg:\n",
    "    print(ele)\n",
    "去/v\n",
    "北京大学/nt\n",
    "玩/v\n",
    "# n: 名词 nt: 机构团体 ns: 地名 nr/nrfg/nrt: 人名 nz: 其他专有名词\n",
    "# v: 动词 vn: 名动词\n",
    "# t: 时间词"
   ]
  }
 ],
 "metadata": {
  "language_info": {
   "name": "python"
  },
  "orig_nbformat": 4
 },
 "nbformat": 4,
 "nbformat_minor": 2
}
