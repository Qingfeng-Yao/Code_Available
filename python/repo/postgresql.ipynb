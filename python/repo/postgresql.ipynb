{
 "cells": [
  {
   "cell_type": "markdown",
   "metadata": {},
   "source": [
    "Linux上安装和使用postgresql数据库"
   ]
  },
  {
   "cell_type": "markdown",
   "metadata": {},
   "source": [
    "- `sudo apt-get install postgresql postgresql-client`\n",
    "- `psql`，可指定参数，其中-U指 用户，-d指 数据库，-h指 服务器，-p指 端口\n",
    "- `\\q`退出\n",
    "- 创建数据库：`create database dbname;`\n",
    "- 查找数据库：`\\l`，其中默认已经存在数据库`postgres`，需要修改其密码`alter user postgres password '123';`\n",
    "- 查看表格信息：`\\d tablename`\n",
    "- 删除表格：`drop table tablename;`\n",
    "- 插入：`insert into student (student_name, age, class_name) values ('s4', 20, 'class3');`，若插入全部字段值，则可以不用指定字段"
   ]
  },
  {
   "cell_type": "markdown",
   "metadata": {},
   "source": [
    "python中使用postgresql数据库"
   ]
  },
  {
   "cell_type": "markdown",
   "metadata": {},
   "source": [
    "- pip安装是使用psycopg2-binary\n",
    "- 利用psycopg2操作postgresql的步骤为：\n",
    "    - 连接数据库\n",
    "    - 获取指针\n",
    "    - 执行SQL语句\n",
    "    - 提交事务\n",
    "    - 关闭连接"
   ]
  },
  {
   "cell_type": "code",
   "execution_count": 1,
   "metadata": {},
   "outputs": [],
   "source": [
    "import psycopg2\n",
    "# pg数据库\n",
    "# psycopg2.pool  连接池  --> ThreadedConnectionPool多线程下使用  --> .getconn()   -->  .putconn(conn)\n",
    "## cursor = conn.cursor()   cursor.execute(sql, params)    cursor.fetchall()\n",
    "## cursor.description，但它不包含表名，只包含字段名"
   ]
  },
  {
   "cell_type": "code",
   "execution_count": 3,
   "metadata": {},
   "outputs": [],
   "source": [
    "conn = psycopg2.connect(dbname=\"postgres\", user=\"postgres\", password=\"123\", host=\"127.0.0.1\", port=\"5432\")"
   ]
  },
  {
   "cell_type": "code",
   "execution_count": 4,
   "metadata": {},
   "outputs": [],
   "source": [
    "cur = conn.cursor()"
   ]
  },
  {
   "cell_type": "code",
   "execution_count": 12,
   "metadata": {},
   "outputs": [
    {
     "data": {
      "text/plain": [
       "[(1, 's1', 18, 'class1'),\n",
       " (2, 's2', 22, 'class1'),\n",
       " (3, 's3', 18, 'class2'),\n",
       " (4, 's2', 22, 'class1'),\n",
       " (5, 's1', 18, 'class1'),\n",
       " (6, 's4', 20, 'class3'),\n",
       " (10, 's7', 20, 'class3'),\n",
       " (7, 's6', 21, 'class2')]"
      ]
     },
     "execution_count": 12,
     "metadata": {},
     "output_type": "execute_result"
    }
   ],
   "source": [
    "cur.execute(\"select * from student\") # 第一列是主键会自增，可自定义\n",
    "cur.fetchall()"
   ]
  },
  {
   "cell_type": "code",
   "execution_count": 13,
   "metadata": {},
   "outputs": [
    {
     "data": {
      "text/plain": [
       "[('s1', 18)]"
      ]
     },
     "execution_count": 13,
     "metadata": {},
     "output_type": "execute_result"
    }
   ],
   "source": [
    "cur.execute(\"select student_name, age from student where student_name = %s and age = %s limit %s\", ['s1', 18, 1]) # 不确定量的查询一定记得要加limit\n",
    "# 若sql语句中传入的值为列表则使用：'select title, text from bbs_linking where id = ANY(%s)', [remain_linkids]\n",
    "cur.fetchall()\n"
   ]
  },
  {
   "cell_type": "code",
   "execution_count": 14,
   "metadata": {},
   "outputs": [
    {
     "data": {
      "text/plain": [
       "(Column(name='student_name', type_code=1043), Column(name='age', type_code=23))"
      ]
     },
     "execution_count": 14,
     "metadata": {},
     "output_type": "execute_result"
    }
   ],
   "source": [
    "cur.description"
   ]
  },
  {
   "cell_type": "code",
   "execution_count": 51,
   "metadata": {},
   "outputs": [],
   "source": [
    "# 提交事务\n",
    "conn.commit()\n",
    "# 关闭连接\n",
    "conn.close()"
   ]
  },
  {
   "cell_type": "code",
   "execution_count": null,
   "metadata": {},
   "outputs": [],
   "source": []
  }
 ],
 "metadata": {
  "kernelspec": {
   "display_name": "Python 3.8.3 64-bit ('base': conda)",
   "name": "python38364bitbaseconda82055ebab7b245fbaf9b55f5fde93dd1"
  },
  "language_info": {
   "codemirror_mode": {
    "name": "ipython",
    "version": 3
   },
   "file_extension": ".py",
   "mimetype": "text/x-python",
   "name": "python",
   "nbconvert_exporter": "python",
   "pygments_lexer": "ipython3",
   "version": "3.8.3-final"
  },
  "orig_nbformat": 2
 },
 "nbformat": 4,
 "nbformat_minor": 2
}
