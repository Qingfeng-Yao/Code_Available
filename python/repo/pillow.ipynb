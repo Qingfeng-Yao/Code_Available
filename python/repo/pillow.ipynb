{
 "cells": [
  {
   "cell_type": "code",
   "execution_count": null,
   "metadata": {},
   "outputs": [],
   "source": [
    "# PIL\n",
    "from PIL import ImageFile\n",
    "ImageFile.LOAD_TRUNCATED_IMAGES = True\n",
    "# 实际上会导致你加载的图片少掉一部分，虽然在大数据中，偶尔一两张被裁掉没什么大问题，但是还是应当注意，不要暴力用才好"
   ]
  }
 ],
 "metadata": {
  "language_info": {
   "name": "python"
  },
  "orig_nbformat": 4
 },
 "nbformat": 4,
 "nbformat_minor": 2
}
