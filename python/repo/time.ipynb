{
 "cells": [
  {
   "cell_type": "code",
   "execution_count": 2,
   "metadata": {},
   "outputs": [
    {
     "data": {
      "text/plain": [
       "1653535477.1111817"
      ]
     },
     "execution_count": 2,
     "metadata": {},
     "output_type": "execute_result"
    }
   ],
   "source": [
    "import time\n",
    "time.time() # 返回当前时间的时间戳(1970纪元后经过的浮点秒数)"
   ]
  },
  {
   "cell_type": "code",
   "execution_count": 3,
   "metadata": {},
   "outputs": [
    {
     "name": "stdout",
     "output_type": "stream",
     "text": [
      "time.struct_time(tm_year=2022, tm_mon=5, tm_mday=26, tm_hour=11, tm_min=24, tm_sec=39, tm_wday=3, tm_yday=146, tm_isdst=0)\n",
      "05_26-11-24-39\n"
     ]
    }
   ],
   "source": [
    "print(time.localtime(time.time()))\n",
    "print(time.strftime('%m_%d-%H-%M-%S', time.localtime(time.time())))\n",
    "# wday: 星期, 取值区间为[0,6], 其中0代表星期一, 1代表星期二, 以此类推 \n",
    "# yday: 从每年的1月1日开始的天数, 取值区间为[0,365], 其中0代表1月1日, 1代表1月2日, 以此类推"
   ]
  }
 ],
 "metadata": {
  "interpreter": {
   "hash": "94b8ce2ec9a5bb238eaac0e1491a1a39f3b317a5c834f567228f3f456bc35b60"
  },
  "kernelspec": {
   "display_name": "Python 3.7.10 ('base')",
   "language": "python",
   "name": "python3"
  },
  "language_info": {
   "codemirror_mode": {
    "name": "ipython",
    "version": 3
   },
   "file_extension": ".py",
   "mimetype": "text/x-python",
   "name": "python",
   "nbconvert_exporter": "python",
   "pygments_lexer": "ipython3",
   "version": "3.7.11"
  },
  "orig_nbformat": 4
 },
 "nbformat": 4,
 "nbformat_minor": 2
}
