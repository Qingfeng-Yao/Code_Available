{
 "cells": [
  {
   "cell_type": "code",
   "execution_count": 1,
   "metadata": {},
   "outputs": [
    {
     "data": {
      "text/plain": [
       "2022"
      ]
     },
     "execution_count": 1,
     "metadata": {},
     "output_type": "execute_result"
    }
   ],
   "source": [
    "import datetime\n",
    "datetime.datetime.now().year"
   ]
  },
  {
   "cell_type": "code",
   "execution_count": 2,
   "metadata": {},
   "outputs": [
    {
     "data": {
      "text/plain": [
       "93"
      ]
     },
     "execution_count": 2,
     "metadata": {},
     "output_type": "execute_result"
    }
   ],
   "source": [
    "# 输入日期， 判断这一天是这一年的第几天？ 2019.4.3\n",
    "def ymd():\n",
    "    year = input(\"请输入年份: \")\n",
    "    month = input(\"请输入月份: \")\n",
    "    day = input(\"请输入天: \")\n",
    "    date1 = datetime.date(year=int(year),month=int(month),day=int(day))\n",
    "    date2 = datetime.date(year=int(year),month=1,day=1)\n",
    "    return (date1-date2).days+1\n",
    "ymd()"
   ]
  },
  {
   "cell_type": "code",
   "execution_count": null,
   "metadata": {},
   "outputs": [],
   "source": [
    "from datetime import datetime, timedelta, timezone\n",
    "datetime.now().strftime('%Y-%m-%d_%H%M')\n",
    "datetime.now(tz=timezone.utc) - timedelta(days=1)  \n",
    "# datetime.now(): 现在的时间, 输出形如datetime.datetime(2020, 9, 22, 10, 1, 51, 103027) \n",
    "# str转换为形如'2020-09-22 10:02:53.905482'\n",
    "# timedelta中的参数还可为hours, minutes"
   ]
  },
  {
   "cell_type": "code",
   "execution_count": null,
   "metadata": {},
   "outputs": [],
   "source": [
    "# 把一个datetime类型转换为timestamp只需要简单调用timestamp()方法   \n",
    "# timestamp是一个浮点数, 整数位表示秒, 无时区概念   \n",
    "# datetime有时区\n",
    "# 要把timestamp转换为datetime, 使用datetime提供的fromtimestamp()方法   \n",
    "# datetime.fromtimestamp(a)"
   ]
  }
 ],
 "metadata": {
  "interpreter": {
   "hash": "8e0a5121830260c2b3ba71b278117289a5158901009d117b6fbf784f99dd631f"
  },
  "kernelspec": {
   "display_name": "Python 3.6.13 64-bit ('ctrtf': conda)",
   "name": "python3"
  },
  "language_info": {
   "codemirror_mode": {
    "name": "ipython",
    "version": 3
   },
   "file_extension": ".py",
   "mimetype": "text/x-python",
   "name": "python",
   "nbconvert_exporter": "python",
   "pygments_lexer": "ipython3",
   "version": "3.6.13"
  },
  "orig_nbformat": 4
 },
 "nbformat": 4,
 "nbformat_minor": 2
}
