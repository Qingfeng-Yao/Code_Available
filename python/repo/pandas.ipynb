{
 "cells": [
  {
   "cell_type": "code",
   "execution_count": null,
   "metadata": {},
   "outputs": [],
   "source": [
    "import pandas as pd\n",
    "# pd.concat([df1, df2], axis=0, ignore_index=True)  垂直叠加，ignore_index默认为False，为True即重新排列索引"
   ]
  },
  {
   "cell_type": "code",
   "execution_count": null,
   "metadata": {},
   "outputs": [],
   "source": [
    "# df.reset_index(drop=True) drop=True表示把原来的索引index列去掉，重置index"
   ]
  },
  {
   "cell_type": "code",
   "execution_count": null,
   "metadata": {},
   "outputs": [],
   "source": [
    "# df.head() # 默认返回前5行数据\n",
    "# df.sample\n",
    "import pandas as pd\n",
    "df = pd.DataFrame({'name':['zhao','qian','sun','wang'],'mark':[150,122,155,132],'gender':['female','female','male','male']})\n",
    "print(df)\n",
    "print(df.head(1))\n",
    "print(df.sample(2))\n",
    "print(df.sample(frac=0.75))"
   ]
  },
  {
   "cell_type": "code",
   "execution_count": null,
   "metadata": {},
   "outputs": [],
   "source": [
    "pd.DataFrame.from_dict(data) # value是列表"
   ]
  },
  {
   "cell_type": "code",
   "execution_count": null,
   "metadata": {},
   "outputs": [],
   "source": [
    "# df.apply(lambda ...)"
   ]
  },
  {
   "cell_type": "code",
   "execution_count": null,
   "metadata": {},
   "outputs": [],
   "source": [
    "pd.set_option('display.max_columns', 20)"
   ]
  },
  {
   "cell_type": "code",
   "execution_count": null,
   "metadata": {},
   "outputs": [],
   "source": [
    "column_names = ['id','event_type','timestamp','os_type','event_id','device_id','topic_id','src','recommend_idx','link_tag','is_push','view_time','userid','al','page_tab','version','src_detailed']\n",
    "data = pd.read_csv(full_path, header=None, names=column_names)\n",
    "data.head()\n",
    "data['event_type'].unique()\n",
    "data.iloc[2]\n",
    "data.shape\n",
    "\n",
    "data = data[['event_type', 'timestamp', 'event_id', 'topic_id', 'view_time', 'userid']]\n",
    "data = data.dropna()\n",
    "\n",
    "data = data[(data['event_type']==12)&(data['view_time']>5)]\n",
    "data['userid'] = data['userid'].map(lambda x: int(x))\n",
    "data = data.reset_index(drop=True)"
   ]
  },
  {
   "cell_type": "code",
   "execution_count": null,
   "metadata": {},
   "outputs": [],
   "source": [
    "## 把dataframe和np.array的相互转换\n",
    "## dataframe转化成array： df=df.values\n",
    "## array转化成dataframe：df = pd.DataFrame(df)\n",
    "# 'DataFrame' object has no attribute 'as_matrix'\n",
    "## df.as_matrix() 弃用 --> 使用df.values\n",
    "# DataFrame.reset_index： When we reset the index, the old index is added as a column, and a new sequential index is used；We can use the drop parameter to avoid the old index being added as a column\n",
    "# DataFrame.rename(columns={\"A\": \"a\", \"B\": \"c\"})\n",
    "# DataFrame.groupby\n",
    "# DataFrame.shift:横向或纵向平移数据(正参数默认向下平移)\n",
    "# DataFrame.loc 第一个参数是行的索引，第二个参数是列的索引\n",
    "# DataFrame.agg  参数可为['sum', 'min']，即分别计算每一列的相应值\n",
    "# DataFrame.rolling\n",
    "# DataFrame.iloc  索引\n",
    "# DataFrame.dropna  参数axis{0 or ‘index’, 1 or ‘columns’}, default 0  \n",
    "## dropna()： Drop the rows where at least one element is missing.\n",
    "## 参数how{‘any’, ‘all’}, default ‘any’  Determine if row or column is removed from DataFrame, when we have at least one NA or all NA.\n",
    "### ‘any’ : If any NA values are present, drop that row or column.\n",
    "### ‘all’ : If all values are NA, drop that row or column.\n",
    "# pd.concat(objs/list, axis=0, join='outer')  相同字段的表首尾相接\n",
    "# df.sample(n=None, frac=None, replace=False, weights=None, random_state=None, axis=None)\n",
    "## n/要抽取的行数; frac/抽取行的比例; replace/是否为有放回抽样，True:有放回抽样，False:不放回抽样; axis/选择抽取数据的行还是列，axis=0:抽取行，axis=1:抽取列\n",
    "## 在df.sample()函数中设置frac=1.0时可以实现shuffle\n",
    "import pandas as pd\n",
    "# data = pd.read_pickle(file) 返回类型为<class 'pandas.core.frame.DataFrame'>\n",
    "## data.drop() 去除特征属性;  data.corr() 得到两两属性之间的关系值(矩阵形式，相同属性值为1)\n",
    "## data.as_matrix()改写成data.values 返回类型为<class 'numpy.ndarray'>\n",
    "# pd.read_csv  返回类型为<class 'pandas.core.frame.DataFrame'>\n",
    "## header=0 表示第一行是数据的第一行，而非文件的第一行\n",
    "# from pandas.tseries.frequencies import to_offset | freq_str=\"5min\" | offset=to_offset(freq_str) | <5 * Minutes> | offset.name | 'T' | offset.n | 5"
   ]
  }
 ],
 "metadata": {
  "language_info": {
   "name": "python"
  },
  "orig_nbformat": 4
 },
 "nbformat": 4,
 "nbformat_minor": 2
}
