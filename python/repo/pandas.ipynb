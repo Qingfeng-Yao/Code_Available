{
 "cells": [
  {
   "cell_type": "code",
   "execution_count": null,
   "metadata": {},
   "outputs": [],
   "source": [
    "import pandas as pd\n",
    "# pd.concat([df1, df2], axis=0, ignore_index=True)  垂直叠加，ignore_index默认为False，为True即重新排列索引"
   ]
  },
  {
   "cell_type": "code",
   "execution_count": null,
   "metadata": {},
   "outputs": [],
   "source": [
    "# df.reset_index(drop=True) drop=True表示把原来的索引index列去掉，重置index"
   ]
  },
  {
   "cell_type": "code",
   "execution_count": null,
   "metadata": {},
   "outputs": [],
   "source": [
    "# df.head() # 默认返回前5行数据\n",
    "# df.sample\n",
    "import pandas as pd\n",
    "df = pd.DataFrame({'name':['zhao','qian','sun','wang'],'mark':[150,122,155,132],'gender':['female','female','male','male']})\n",
    "print(df)\n",
    "print(df.head(1))\n",
    "print(df.sample(2))\n",
    "print(df.sample(frac=0.75))"
   ]
  },
  {
   "cell_type": "code",
   "execution_count": null,
   "metadata": {},
   "outputs": [],
   "source": [
    "pd.DataFrame.from_dict(data) # value是列表"
   ]
  },
  {
   "cell_type": "code",
   "execution_count": null,
   "metadata": {},
   "outputs": [],
   "source": [
    "# df.apply(lambda ...)"
   ]
  },
  {
   "cell_type": "code",
   "execution_count": null,
   "metadata": {},
   "outputs": [],
   "source": [
    "pd.set_option('display.max_columns', 20)"
   ]
  },
  {
   "cell_type": "code",
   "execution_count": null,
   "metadata": {},
   "outputs": [],
   "source": [
    "column_names = ['id','event_type','timestamp','os_type','event_id','device_id','topic_id','src','recommend_idx','link_tag','is_push','view_time','userid','al','page_tab','version','src_detailed']\n",
    "data = pd.read_csv(full_path, header=None, names=column_names)\n",
    "data.head()\n",
    "data['event_type'].unique()\n",
    "data.iloc[2]\n",
    "data.shape\n",
    "\n",
    "data = data[['event_type', 'timestamp', 'event_id', 'topic_id', 'view_time', 'userid']]\n",
    "data = data.dropna()\n",
    "\n",
    "data = data[(data['event_type']==12)&(data['view_time']>5)]\n",
    "data['userid'] = data['userid'].map(lambda x: int(x))\n",
    "data = data.reset_index(drop=True)"
   ]
  },
  {
   "cell_type": "code",
   "execution_count": null,
   "metadata": {},
   "outputs": [],
   "source": []
  }
 ],
 "metadata": {
  "language_info": {
   "name": "python"
  },
  "orig_nbformat": 4
 },
 "nbformat": 4,
 "nbformat_minor": 2
}
