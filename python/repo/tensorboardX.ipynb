{
 "cells": [
  {
   "cell_type": "code",
   "execution_count": 2,
   "metadata": {},
   "outputs": [],
   "source": [
    "from tensorboardX import SummaryWriter"
   ]
  },
  {
   "cell_type": "code",
   "execution_count": null,
   "metadata": {},
   "outputs": [],
   "source": [
    "log_dir = \"log\"\n",
    "writer = SummaryWriter(log_dir=log_dir) # log_dir下会产生一个文件\n",
    "writer.add_scalar('acc/test_top1_best', best_acc1, epoch)"
   ]
  },
  {
   "cell_type": "code",
   "execution_count": null,
   "metadata": {},
   "outputs": [],
   "source": [
    "writer.add_scalar\n",
    "# 将标量添加到 summary\n",
    "# 第一个参数string/名称, 第二个参数value, 第三个参数global_step/全局同步值\n",
    "\n",
    "writer.add_scalars()\n",
    "# 添加多个标量数据到 summary 中\n",
    "# 第一个参数string/名称, 第二个参数value/dict, 第三个参数global_step/全局同步值\n",
    "\n",
    "# 两者共同点\n",
    "# 第一个参数可简单理解为保存到 tensorboard 日志文件中的标量图像的名称\n",
    "# 第二个参数可简单理解为图像的 y 轴数据\n",
    "# 第三个参数可简单理解为图像的 x 轴数据\n",
    "# 第四个参数都是可选参数，用于记录发生的时间，默认为 time.time()"
   ]
  }
 ],
 "metadata": {
  "interpreter": {
   "hash": "8e0a5121830260c2b3ba71b278117289a5158901009d117b6fbf784f99dd631f"
  },
  "kernelspec": {
   "display_name": "Python 3.6.13 64-bit ('ctrtf': conda)",
   "language": "python",
   "name": "python3"
  },
  "language_info": {
   "codemirror_mode": {
    "name": "ipython",
    "version": 3
   },
   "file_extension": ".py",
   "mimetype": "text/x-python",
   "name": "python",
   "nbconvert_exporter": "python",
   "pygments_lexer": "ipython3",
   "version": "3.6.13"
  },
  "orig_nbformat": 4
 },
 "nbformat": 4,
 "nbformat_minor": 2
}
