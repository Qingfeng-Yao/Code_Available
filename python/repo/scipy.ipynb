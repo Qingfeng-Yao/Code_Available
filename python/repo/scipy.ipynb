{
 "cells": [
  {
   "cell_type": "code",
   "execution_count": null,
   "metadata": {},
   "outputs": [],
   "source": [
    "import scipy.io as sio\n",
    "mat_data = sio.loadmat(root) # root如cifar10-gist\n",
    "\n",
    "numpy数据格式\n",
    "mat_data['testgnd'].astype(np.int)"
   ]
  },
  {
   "cell_type": "code",
   "execution_count": null,
   "metadata": {},
   "outputs": [],
   "source": [
    "# ndarray 与 scipy.sparse.csr.csr_matrix 的互转\n",
    "import scipy.sparse\n",
    "my_matrix = scipy.sparse.csr_matrix((2,2))\n",
    "my_array = my_matrix.A\n",
    "\n",
    "A = np.array([[1,2,0],[0,0,3],[1,0,4]])\n",
    "sA = sparse.csr_matrix(A)"
   ]
  },
  {
   "cell_type": "code",
   "execution_count": null,
   "metadata": {},
   "outputs": [],
   "source": [
    "sklearn的TfidfVectorizer得到的tfidf向量矩阵类型是<class 'scipy.sparse.csr.csr_matrix'>\n",
    "不能直接转成numpy, 然后转成torch\n",
    "需要先query_feature = np.array(tfidf_feature.A), 然后query_data = torch.from_numpy(query_feature).float()\n",
    "\n",
    "from scipy.stats import pearsonr"
   ]
  }
 ],
 "metadata": {
  "language_info": {
   "name": "python"
  },
  "orig_nbformat": 4
 },
 "nbformat": 4,
 "nbformat_minor": 2
}
