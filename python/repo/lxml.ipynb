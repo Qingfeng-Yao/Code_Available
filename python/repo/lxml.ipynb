{
 "cells": [
  {
   "cell_type": "code",
   "execution_count": null,
   "metadata": {},
   "outputs": [],
   "source": [
    "from lxml import etree\n",
    "html_str = etree.HTML(r) / r = requests.get(url, timeout=200).text\n",
    "result = etree.tostring(html_str)\n",
    "print(result.decode('utf-8'))"
   ]
  },
  {
   "cell_type": "code",
   "execution_count": null,
   "metadata": {},
   "outputs": [],
   "source": [
    "html_str.xpath('//*[@id=\"maincontent\"]/div/ul/li')\n",
    "'''\n",
    "查找网页源码中的xpath: \n",
    "    使用Chrome浏览器的开发者工具，可以快速获取XPath表达式\n",
    "    点击选择光标，选择页面上的元素位置，在控制台右键选择Copy XPath，表达式就复制到粘贴板中了\n",
    "'''"
   ]
  }
 ],
 "metadata": {
  "language_info": {
   "name": "python"
  },
  "orig_nbformat": 4
 },
 "nbformat": 4,
 "nbformat_minor": 2
}
