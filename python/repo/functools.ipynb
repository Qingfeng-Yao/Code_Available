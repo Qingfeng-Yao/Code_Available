{
 "cells": [
  {
   "cell_type": "code",
   "execution_count": null,
   "metadata": {},
   "outputs": [],
   "source": [
    "import functools # 提供了一系列的高阶函数以及对可调用对象的操作\n",
    "from functools import cmp_to_key\n",
    "from functools import reduce"
   ]
  },
  {
   "cell_type": "code",
   "execution_count": null,
   "metadata": {},
   "outputs": [],
   "source": [
    "# 内置装饰器\n",
    "@functools.lru_cache() # 缓存\n",
    "# @functools.wraps(func) # 保证被装饰器装饰后的函数还拥有原来的属性, 如保持__name__不变"
   ]
  },
  {
   "cell_type": "code",
   "execution_count": null,
   "metadata": {},
   "outputs": [],
   "source": [
    "# partial用于部分应用一个函数\n",
    "# 它基于一个函数创建一个可调用对象, 把原函数的某些参数固定, 调用时只需要传递未固定的参数即可\n",
    "def add(a, b):\n",
    "    print(a + b)\n",
    "add = functools.partial(add, 1)\n",
    "add(2) # 3\n",
    "# add函数原本接收两个参数a和b\n",
    "# 经过partial包装之后, a参数的值被固定为了1\n",
    "# 新的add对象(注意此处add已经是一个可调用对象, 而非函数\n",
    "# 通俗点说: 就是把原函数的部分参数固定了初始值, 新的调用只需要传递其它参数"
   ]
  }
 ],
 "metadata": {
  "language_info": {
   "name": "python"
  },
  "orig_nbformat": 4
 },
 "nbformat": 4,
 "nbformat_minor": 2
}
