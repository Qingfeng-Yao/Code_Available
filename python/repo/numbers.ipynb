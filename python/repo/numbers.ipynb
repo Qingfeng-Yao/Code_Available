{
 "cells": [
  {
   "cell_type": "code",
   "execution_count": 1,
   "metadata": {},
   "outputs": [],
   "source": [
    "import numbers\n",
    "import hashlib"
   ]
  },
  {
   "cell_type": "code",
   "execution_count": 2,
   "metadata": {},
   "outputs": [
    {
     "data": {
      "text/plain": [
       "False"
      ]
     },
     "execution_count": 2,
     "metadata": {},
     "output_type": "execute_result"
    }
   ],
   "source": [
    "# numbers.Integral\n",
    "def hashfunc(x):\n",
    "    return hashlib.md5(x).digest()\n",
    "\n",
    "isinstance(hashfunc(b\"test\"), numbers.Integral)"
   ]
  }
 ],
 "metadata": {
  "interpreter": {
   "hash": "4c116f52f2aeb6a8b3ec0a05c641d44c8cdf31d6529c454bb2652bb63fb69475"
  },
  "kernelspec": {
   "display_name": "Python 3.6.13 64-bit ('deephash': conda)",
   "language": "python",
   "name": "python3"
  },
  "language_info": {
   "codemirror_mode": {
    "name": "ipython",
    "version": 3
   },
   "file_extension": ".py",
   "mimetype": "text/x-python",
   "name": "python",
   "nbconvert_exporter": "python",
   "pygments_lexer": "ipython3",
   "version": "3.6.15"
  },
  "orig_nbformat": 4
 },
 "nbformat": 4,
 "nbformat_minor": 2
}
