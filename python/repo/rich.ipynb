{
 "cells": [
  {
   "cell_type": "code",
   "execution_count": null,
   "metadata": {},
   "outputs": [],
   "source": [
    "# 用于将丰富的文本（带有颜色和样式）写入终端，并用于显示高级内容，例如表格\n",
    "from rich.console import Console\n",
    "console = Console() / console = Console(height=15)\n",
    "\n",
    "console.print(Text.assemble((\"\\n   Matchmaker\",\"deep_pink4\"), (\"   \"+train_mode+\"\\n\",\"magenta\"),justify=\"left\"))\n",
    "console.print(layout)\n",
    "console.print(Text(\"Experiment: \" + run_folder + \"\\n\"))"
   ]
  },
  {
   "cell_type": "code",
   "execution_count": null,
   "metadata": {},
   "outputs": [],
   "source": [
    "console.log"
   ]
  },
  {
   "cell_type": "code",
   "execution_count": null,
   "metadata": {},
   "outputs": [],
   "source": [
    "from rich.text import Text\n",
    "Text.assemble\n",
    "\n",
    "from rich.table import Table\n",
    "from rich import box\n",
    "table = Table(show_header=True, header_style=\"bold magenta\")\n",
    "table.title=\"\"\n",
    "table.add_column(\"Configuration\")\n",
    "table.add_column(\"\")\n",
    "table.box = box.SIMPLE_HEAD\n",
    "table.add_row(s,settings[s])"
   ]
  },
  {
   "cell_type": "code",
   "execution_count": null,
   "metadata": {},
   "outputs": [],
   "source": [
    "from rich.layout import Layout\n",
    "from rich.align import Align\n",
    "layout = Layout()\n",
    "layout.split_row(\n",
    "Layout(name=\"logo\",size=40),\n",
    "Layout(name=\"body\"),\n",
    ")\n",
    "layout[\"logo\"].update(logo) # logo来自Text\n",
    "layout[\"body\"].update(Align.left(table))"
   ]
  }
 ],
 "metadata": {
  "language_info": {
   "name": "python"
  },
  "orig_nbformat": 4
 },
 "nbformat": 4,
 "nbformat_minor": 2
}
