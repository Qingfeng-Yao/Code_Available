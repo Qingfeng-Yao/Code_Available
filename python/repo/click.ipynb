{
 "cells": [
  {
   "cell_type": "code",
   "execution_count": 2,
   "metadata": {},
   "outputs": [],
   "source": [
    "import click"
   ]
  },
  {
   "cell_type": "code",
   "execution_count": null,
   "metadata": {},
   "outputs": [],
   "source": [
    "@click.command() # click是通过装饰器来把一个函数方法装饰成命令行接口的，这个装饰器方法就是 @click.command()\n",
    "@click.argument('xxx') # 命令行直接给出对应值\n",
    "@click.option('--xxx') # 命令行需要先--xxx，再给出对应值\n",
    "# 还可包括参数type, default, help, is_flag(布尔值)\n",
    "    # 其中type可取值: click.Choice([xx,xx,xx]), click.Path(exists=True), str, int, float\n",
    "    # 参数multiple=True 允许多个选项赋值\n",
    "        # 如: @click.option('--lr_milestone', type=int, default=0, multiple=True, help='xxx')\n",
    "        # 命令行传入--lr_milestone 40\n",
    "        # 实际是个元组\n",
    "# 在后续的主函数中需要传入上述所有参数"
   ]
  }
 ],
 "metadata": {
  "interpreter": {
   "hash": "8e0a5121830260c2b3ba71b278117289a5158901009d117b6fbf784f99dd631f"
  },
  "kernelspec": {
   "display_name": "Python 3.6.13 64-bit ('ctrtf': conda)",
   "language": "python",
   "name": "python3"
  },
  "language_info": {
   "codemirror_mode": {
    "name": "ipython",
    "version": 3
   },
   "file_extension": ".py",
   "mimetype": "text/x-python",
   "name": "python",
   "nbconvert_exporter": "python",
   "pygments_lexer": "ipython3",
   "version": "3.6.13"
  },
  "orig_nbformat": 4
 },
 "nbformat": 4,
 "nbformat_minor": 2
}
