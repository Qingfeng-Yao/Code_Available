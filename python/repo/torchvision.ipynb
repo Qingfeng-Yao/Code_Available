{
 "cells": [
  {
   "cell_type": "code",
   "execution_count": null,
   "metadata": {},
   "outputs": [],
   "source": [
    "import torchvision.transforms as transforms\n",
    "# 图像预处理包，包含了很多种对图像数据进行变换的函数\n",
    "transforms.Compose([...]]) # 方法是将多种变换组合在一起\n",
    "transforms.RandomResizedCrop(224)和transforms.RandomHorizontalFlip(): 是对PILImage进行的,分别对其进行随机大小和随机宽高比的裁剪,之后resize到指定大小224,以及对原始图像进行随机的水平翻转\n",
    "transforms.RandomCrop(size, padding=0): 切割中心点的位置随机选取。size可以是tuple也可以是Integer\n",
    "transforms.ToTensor(): 将PILImage转变为torch.FloatTensor的数据形式\n",
    "transforms.Normalize(mean=[...], std=[...]): 用给定的均值和标准差分别对每个通道的数据进行正则化\n",
    "# 具体来说，给定均值(M1,…,Mn)，给定标准差(S1,…,Sn),其中n是通道数（一般是3），对每个通道进行如下操作：\n",
    "# output[channel] = (input[channel] - mean[channel]) / std[channel]\n",
    "\n",
    "\n",
    "transforms.RandomResizedCrop(224, scale=(0.2, 1.))\n",
    "transforms.RandomGrayscale(p=0.2)\n",
    "transforms.ColorJitter(0.4, 0.4, 0.4, 0.4)\n",
    "\n",
    "transforms.RandomApply([\n",
    "                transforms.ColorJitter(0.4, 0.4, 0.4, 0.1)  \n",
    "            ], p=0.8)"
   ]
  },
  {
   "cell_type": "code",
   "execution_count": null,
   "metadata": {},
   "outputs": [],
   "source": [
    "import torchvision.datasets as datasets\n",
    "# val_dataset = datasets.CIFAR10(root=args.data_path, train=False, download=True, transform=transform_val)"
   ]
  },
  {
   "cell_type": "code",
   "execution_count": null,
   "metadata": {},
   "outputs": [],
   "source": [
    "import torchvision.models as models"
   ]
  },
  {
   "cell_type": "code",
   "execution_count": null,
   "metadata": {},
   "outputs": [],
   "source": [
    "import torchvision.transforms as transforms\n",
    "## transforms.ToTensor() # 转换成取值范围是[0,1.0]的torch.FloatTensor\n",
    "## transforms.Lambda() # 括号内是lambda表达式\n",
    "## transforms.Normalize(mean, std)  给定均值：(R,G,B) 方差：（R，G，B），将会把Tensor正则化。即：Normalized_image=(image-mean)/std\n",
    "## transforms.Compose() 参数是一个含多个变换的list\n",
    "from torchvision.datasets import MNIST\n",
    "## 所有数据集都是torch.utils.data.Dataset的子类，即它们都有__getitem__ and __len__这两个方法，因此它们可传给torch.utils.data.DataLoader \n",
    "## 支持MNIST FashionMNIST ImageNet CIFAR10等 参数有root/数据集缓存地址、train/为真创建训练集，反之创建测试集、download/为真从网上下载数据集、transform/(A function/transform that takes in an PIL image and returns a transformed version)、target_transform/(A function/transform that takes in the target and transforms it)"
   ]
  }
 ],
 "metadata": {
  "language_info": {
   "name": "python"
  },
  "orig_nbformat": 4
 },
 "nbformat": 4,
 "nbformat_minor": 2
}
