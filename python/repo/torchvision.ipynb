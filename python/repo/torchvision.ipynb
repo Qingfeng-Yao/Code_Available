{
 "cells": [
  {
   "cell_type": "code",
   "execution_count": null,
   "metadata": {},
   "outputs": [],
   "source": [
    "import torchvision.transforms as transforms\n",
    "# 图像预处理包，包含了很多种对图像数据进行变换的函数\n",
    "transforms.Compose([...]]) # 方法是将多种变换组合在一起\n",
    "transforms.RandomResizedCrop(224)和transforms.RandomHorizontalFlip(): 是对PILImage进行的,分别对其进行随机大小和随机宽高比的裁剪,之后resize到指定大小224,以及对原始图像进行随机的水平翻转\n",
    "transforms.RandomCrop(size, padding=0): 切割中心点的位置随机选取。size可以是tuple也可以是Integer\n",
    "transforms.ToTensor(): 将PILImage转变为torch.FloatTensor的数据形式\n",
    "transforms.Normalize(mean=[...], std=[...]): 用给定的均值和标准差分别对每个通道的数据进行正则化\n",
    "# 具体来说，给定均值(M1,…,Mn)，给定标准差(S1,…,Sn),其中n是通道数（一般是3），对每个通道进行如下操作：\n",
    "# output[channel] = (input[channel] - mean[channel]) / std[channel]"
   ]
  },
  {
   "cell_type": "code",
   "execution_count": null,
   "metadata": {},
   "outputs": [],
   "source": [
    "import torchvision.datasets as datasets\n",
    "# val_dataset = datasets.CIFAR10(root=args.data_path, train=False, download=True, transform=transform_val)"
   ]
  }
 ],
 "metadata": {
  "language_info": {
   "name": "python"
  },
  "orig_nbformat": 4
 },
 "nbformat": 4,
 "nbformat_minor": 2
}
