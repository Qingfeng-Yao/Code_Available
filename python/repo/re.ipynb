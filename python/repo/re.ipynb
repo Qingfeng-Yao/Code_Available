{
 "cells": [
  {
   "cell_type": "code",
   "execution_count": 1,
   "metadata": {},
   "outputs": [],
   "source": [
    "import re"
   ]
  },
  {
   "cell_type": "code",
   "execution_count": null,
   "metadata": {},
   "outputs": [],
   "source": [
    "'''\n",
    "^ 匹配字符串的开头 | ^\\d必须以数字开头 | $ 匹配字符串的末尾 | \\d$必须以数字结尾\n",
    "* 匹配0个或多个的字符 | + 匹配1个或多个的字符 | ? 匹配0个或1个字符 相当于{0,1} | . 匹配任意字符，除了换行符\n",
    "\n",
    "\\w 匹配一个字母或数字或下划线(\\W非单词) | \\s 匹配一个空格(也包括Tab等空白符)(\\S匹配任意非空字符)\n",
    "\\b 匹配一个单词边界(如， 'er\\b' 可以匹配\"never\" 中的 'er'，但不能匹配 \"verb\" 中的 'er')(\\B匹配非单词边界)\n",
    "{n} n个 | {n,} 如{1,}相当于x+\n",
    "[\\u4e00-\\u9fa5]匹配中文 | [\\u4e00-\\u9fcc]匹配中文和中文符号 | [^abc] 匹配除了a、b、c以外的字符\n",
    "\n",
    "regex = re.compile(r'[^\\u4e00-\\u9fa5aA-Za-z0-9]')\n",
    "\n",
    "\n",
    "正则匹配默认是贪婪匹配，也就是匹配尽可能多的字符。后加个?就可以采用非贪婪匹配\n",
    "当?后缀于*,+,?,{n},{n,},{n,m}之后，则代表非贪心匹配模式，也就是说，尽可能少的匹配左边的字符或表达式\n",
    "'''"
   ]
  },
  {
   "cell_type": "code",
   "execution_count": 2,
   "metadata": {},
   "outputs": [
    {
     "name": "stdout",
     "output_type": "stream",
     "text": [
      "电话号码是 :  2004959559\n",
      "123-45-67\n",
      "--------------------\n"
     ]
    }
   ],
   "source": [
    "# re.sub与str.replace('', '')类似\n",
    "# re.sub(pat,newpat,s) 对字符串中s的包含的所有符合pat的连续字符串进行替换\n",
    "# 如果newpat为str，那么就是替换为newpat，如果newpat是函数，那么就按照函数返回值替换\n",
    "# sub函数两个有默认值的参数分别是count表示最多只处理前几个匹配的字符串，默认为0表示全部处理；最后一个是flags，默认为0\n",
    "phone = \"2004-959-559\"\n",
    "num = re.sub(r'\\D', \"\", phone)\n",
    "print(\"电话号码是 : \", num)\n",
    "number = \"123 4-567\"\n",
    "# \\1...\\9 匹配第n个分组的内容; (?=..) 前向肯定界定符/前向否定界定符 (?!..) 不包含..形式的串，它是不占位置的，起到一种指示作用\n",
    "print(re.sub('(...?(?=..))', r'\\1-', re.sub('\\D', '', number)))\n",
    "print(\"-\"*20)"
   ]
  },
  {
   "cell_type": "code",
   "execution_count": null,
   "metadata": {},
   "outputs": [],
   "source": [
    "# 移除数字\n",
    "# text = re.sub(r'\\d+', '', text)"
   ]
  },
  {
   "cell_type": "code",
   "execution_count": null,
   "metadata": {},
   "outputs": [],
   "source": [
    "# re.sub过滤评论中的表情\n",
    "# pattern = re.compile(u'[\\uD800-\\uDBFF][\\uDC00-\\uDFFF]') # \\u3000 是空白字符\n",
    "# print(pattern.sub('', text))"
   ]
  },
  {
   "cell_type": "code",
   "execution_count": 3,
   "metadata": {},
   "outputs": [
    {
     "name": "stdout",
     "output_type": "stream",
     "text": [
      "<_sre.SRE_Match object; span=(0, 3), match='www'>\n",
      "None\n",
      "<_sre.SRE_Match object; span=(0, 9), match='010-12345'>\n",
      "('010', '12345')\n",
      "010-12345\n",
      "010-12345\n",
      "010\n",
      "12345\n"
     ]
    }
   ],
   "source": [
    "# re.match 尝试从字符串的起始位置匹配一个模式\n",
    "# 匹配成功re.match方法返回一个匹配的对象；如果不是起始位置匹配成功的话，match()就返回none\n",
    "print(re.match('www', 'www.runoob.com'))  # 在起始位置匹配\n",
    "print(re.match('com', 'www.runoob.com'))  # 不在起始位置匹配\n",
    "# 正则表达式有提取子串的功能。用()表示的就是要提取的分组（Group）\n",
    "print(re.match(r'^(\\d{3})-(\\d{3,8})$', '010-12345'))\n",
    "print(re.match(r'^(\\d{3})-(\\d{3,8})$', '010-12345').groups()) # 返回元组\n",
    "print(re.match(r'^(\\d{3})-(\\d{3,8})$', '010-12345').group())\n",
    "print(re.match(r'^(\\d{3})-(\\d{3,8})$', '010-12345').group(0))\n",
    "print(re.match(r'^(\\d{3})-(\\d{3,8})$', '010-12345').group(1))\n",
    "print(re.match(r'^(\\d{3})-(\\d{3,8})$', '010-12345').group(2))"
   ]
  },
  {
   "cell_type": "code",
   "execution_count": 6,
   "metadata": {},
   "outputs": [
    {
     "name": "stdout",
     "output_type": "stream",
     "text": [
      "None\n",
      "None\n",
      "<_sre.SRE_Match object; span=(3, 5), match='12'>\n",
      "--------------------\n"
     ]
    }
   ],
   "source": [
    "# compile 函数用于编译正则表达式，生成一个正则表达式（ Pattern ）对象\n",
    "pattern = re.compile(r'\\d+') \n",
    "m = pattern.match('one12twothree34four') # 查找头部，没有匹配\n",
    "print(m)\n",
    "m = pattern.match('one12twothree34four', 2, 10) # 从'e'的位置开始匹配，没有匹配\n",
    "print(m)\n",
    "m = pattern.match('one12twothree34four', 3, 10) # 从'1'的位置开始匹配，正好匹配\n",
    "print(m)\n",
    "print(\"-\"*20)"
   ]
  },
  {
   "cell_type": "code",
   "execution_count": null,
   "metadata": {},
   "outputs": [],
   "source": [
    "# re.compile(r'\\w', re.UNICODE) # 处理任意字符"
   ]
  },
  {
   "cell_type": "code",
   "execution_count": 7,
   "metadata": {},
   "outputs": [
    {
     "name": "stdout",
     "output_type": "stream",
     "text": [
      "['123', '456']\n",
      "['88', '12']\n"
     ]
    }
   ],
   "source": [
    "# match是匹配一次，findall是匹配所有\n",
    "result1 = pattern.findall('runoob 123 google 456')\n",
    "result2 = pattern.findall('run88oob123google456', 0, 10)\n",
    "print(result1)\n",
    "print(result2)"
   ]
  },
  {
   "cell_type": "code",
   "execution_count": null,
   "metadata": {},
   "outputs": [],
   "source": [
    "# re.findall(r'[\\w\\u4e00-\\u9fcc]+', content)"
   ]
  },
  {
   "cell_type": "code",
   "execution_count": 4,
   "metadata": {},
   "outputs": [
    {
     "name": "stdout",
     "output_type": "stream",
     "text": [
      "<_sre.SRE_Match object; span=(11, 14), match='com'>\n"
     ]
    }
   ],
   "source": [
    "# re.search(pat, s)\n",
    "# 从字符串s的任意位置都进行匹配\n",
    "# 比如(‘123’,’01234’)就是匹配上了，只要s存在符合pat的连续字符串就算匹配上了，没有匹配上返回None，匹配上返回matchobject\n",
    "print(re.search('com', 'www.runoob.com'))"
   ]
  }
 ],
 "metadata": {
  "interpreter": {
   "hash": "8e0a5121830260c2b3ba71b278117289a5158901009d117b6fbf784f99dd631f"
  },
  "kernelspec": {
   "display_name": "Python 3.6.13 64-bit ('ctrtf': conda)",
   "language": "python",
   "name": "python3"
  },
  "language_info": {
   "codemirror_mode": {
    "name": "ipython",
    "version": 3
   },
   "file_extension": ".py",
   "mimetype": "text/x-python",
   "name": "python",
   "nbconvert_exporter": "python",
   "pygments_lexer": "ipython3",
   "version": "3.6.13"
  },
  "orig_nbformat": 4
 },
 "nbformat": 4,
 "nbformat_minor": 2
}
