{
 "cells": [
  {
   "cell_type": "code",
   "execution_count": null,
   "metadata": {},
   "outputs": [],
   "source": [
    "import xgboost as xgb"
   ]
  },
  {
   "cell_type": "code",
   "execution_count": null,
   "metadata": {},
   "outputs": [],
   "source": [
    "clf = xgb.XGBClassifier(max_depth=7, n_estimators=200, colsample_bytree=0.8, subsample=0.8, learning_rate=0.1)\n",
    "# n_estimators: int, 默认100, Number of boosting rounds\n",
    "# max_depth: int, Maximum tree depth for base learners \n",
    "# learning_rate: float, Boosting learning rate \n",
    "# booster: string, Specify which booster to use: gbtree, gblinear or dart\n",
    "# objective: 'binary' or 'logistic'   \n",
    "# colsample_bytree: float, Subsample ratio of columns when constructing each tree \n",
    "# subsample: float, Subsample ratio of the training instance\n",
    "# 使用的数据结构: DMatrix, 可用numpy数组/CSR矩阵"
   ]
  }
 ],
 "metadata": {
  "interpreter": {
   "hash": "94b8ce2ec9a5bb238eaac0e1491a1a39f3b317a5c834f567228f3f456bc35b60"
  },
  "kernelspec": {
   "display_name": "Python 3.7.11 ('base')",
   "language": "python",
   "name": "python3"
  },
  "language_info": {
   "name": "python",
   "version": "3.7.11"
  },
  "orig_nbformat": 4
 },
 "nbformat": 4,
 "nbformat_minor": 2
}
