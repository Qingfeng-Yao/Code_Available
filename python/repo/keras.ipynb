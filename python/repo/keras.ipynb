{
 "cells": [
  {
   "cell_type": "code",
   "execution_count": null,
   "metadata": {},
   "outputs": [],
   "source": [
    "from keras.datasets import cifar10\n",
    "(x_train, y_train), (x_test, y_test) = cifar10.load_data()\n",
    "type(x_train), type(y_train), x_train.shape, y_train.shape # numpy.ndarray, numpy.ndarray, (50000, 32, 32, 3), (50000, 1)\n",
    "x_test.shape, y_test.shape # (10000, 32, 32, 3), (10000, 1)"
   ]
  }
 ],
 "metadata": {
  "language_info": {
   "name": "python"
  },
  "orig_nbformat": 4
 },
 "nbformat": 4,
 "nbformat_minor": 2
}
