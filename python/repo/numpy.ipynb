{
 "cells": [
  {
   "cell_type": "code",
   "execution_count": 1,
   "metadata": {},
   "outputs": [],
   "source": [
    "import numpy as np"
   ]
  },
  {
   "cell_type": "markdown",
   "metadata": {},
   "source": [
    "### 数组定义"
   ]
  },
  {
   "cell_type": "code",
   "execution_count": null,
   "metadata": {},
   "outputs": [],
   "source": [
    "# 若列表中的元素长度不一样，转成numpy数组时会出现错误：ValueError: setting an array element with a sequence"
   ]
  },
  {
   "cell_type": "code",
   "execution_count": null,
   "metadata": {},
   "outputs": [],
   "source": [
    "# np.zeros((len(train_set), vocab_size), dtype=np.int64)"
   ]
  },
  {
   "cell_type": "code",
   "execution_count": null,
   "metadata": {},
   "outputs": [],
   "source": [
    "# .toarray()\n",
    "# .flatten()\n",
    "# .astype(np.float32) np.int"
   ]
  },
  {
   "cell_type": "markdown",
   "metadata": {},
   "source": [
    "### 常见函数操作"
   ]
  },
  {
   "cell_type": "code",
   "execution_count": null,
   "metadata": {},
   "outputs": [],
   "source": [
    "# np.take(list, order) order为打乱后的索引\n",
    "# np.dot 点积\n",
    "\t# np.dot(query_output, database_output.T)\n",
    "# np.linalog.norm 向量的2范数, 即向量的每个元素的平方和再开平方根"
   ]
  },
  {
   "cell_type": "markdown",
   "metadata": {},
   "source": [
    "### 索引操作"
   ]
  },
  {
   "cell_type": "code",
   "execution_count": 2,
   "metadata": {},
   "outputs": [
    {
     "data": {
      "text/plain": [
       "array([5, 1, 6, 4, 2, 3, 0])"
      ]
     },
     "execution_count": 2,
     "metadata": {},
     "output_type": "execute_result"
    }
   ],
   "source": [
    "# 索引值应成numpy数组，否则会出现错误：TypeError: only integer scalar arrays can be converted to a scalar index \n",
    "\n",
    "\n",
    "# np.random.permutation\n",
    "np.random.permutation(7)\n",
    "\n",
    "# np.random.seed(args.seed)"
   ]
  },
  {
   "cell_type": "markdown",
   "metadata": {},
   "source": [
    "### 下载和存储"
   ]
  },
  {
   "cell_type": "code",
   "execution_count": null,
   "metadata": {},
   "outputs": [],
   "source": [
    "# a = np.array([[1,2,3], [1,2,3]])\n",
    "# b = np.array([1,2])\n",
    "\t# np.array(xxx, dtype=np.int64)\n",
    "# np.savez(\"xxx.npz\", a=a, b=b) / np.save(model_file, np.array(model)) # model是字典\n",
    "# data = np.load(\"xxx.npz\") # 如果对象是字典，则需要参数allow_pickle=True / dict(np.load(\"...npy\", encoding='bytes').item())\n",
    "# data[\"a\"]返回array([[1,2,3], [1,2,3]])，如果值是字典，则array中的dtype=object，使用.tolist()可得到原始值\n",
    "# data.close()"
   ]
  },
  {
   "cell_type": "code",
   "execution_count": 2,
   "metadata": {},
   "outputs": [
    {
     "name": "stdout",
     "output_type": "stream",
     "text": [
      "[1 1 0 1 1 0 1 0 0 0 0 1 0 1 0 1 1 0 1 0 0 0 0 0 1 1 1 1 1 0 0 1 1 1 0 1 0\n",
      " 0 0 0 1 0 0 0 0 1 1 1 1 0 0 0 1 0 1 0 0 1 0 0 0 0 0 1]\n",
      "64\n",
      "[1 1 1 1 0 0 0 0 0 1 1 1 0 0 0 0 1 0 1 0 1 0 1 0 0 1 1 0 1 0 0 1 1 1 1 1 1\n",
      " 0 0 0 1 1 0 1 0 1 1 1 0 0 1 1 0 1 1 0 0 1 0 1 0 0 0 0 1 1 0 1 1 0 1 0 0 0\n",
      " 0 1 0 1 0 1 1 0 1 0 0 0 0 0 1 1 1 1 1 0 0 1 1 1 0 1 0 0 0 0 1 0 0 0 0 1 1\n",
      " 1 1 0 0 0 1 0 1 0 0 1 0 0 0 0 0 1]\n",
      "128\n"
     ]
    },
    {
     "data": {
      "text/plain": [
       "array([2.2, 2.2, 0. , 2.2, 2.2, 0. , 2.2, 0. , 0. , 0. , 0. , 2.2, 0. ,\n",
       "       2.2, 0. , 2.2, 2.2, 0. , 2.2, 0. , 0. , 0. , 0. , 0. , 2.2, 2.2,\n",
       "       2.2, 2.2, 2.2, 0. , 0. , 2.2, 2.2, 2.2, 0. , 2.2, 0. , 0. , 0. ,\n",
       "       0. , 2.2, 0. , 0. , 0. , 0. , 2.2, 2.2, 2.2, 2.2, 0. , 0. , 0. ,\n",
       "       2.2, 0. , 2.2, 0. , 0. , 2.2, 0. , 0. , 0. , 0. , 0. , 2.2])"
      ]
     },
     "execution_count": 2,
     "metadata": {},
     "output_type": "execute_result"
    }
   ],
   "source": [
    "def _bitarray_from_bytes(b):\n",
    "\treturn np.unpackbits(np.frombuffer(b, dtype='>B'))\n",
    "test_b = b'\\xda\\x15\\xa0\\xf9\\xd0\\x87\\x8aA'\n",
    "test_c = b'\\xf0p\\xaai\\xf8\\xd76P\\xda\\x15\\xa0\\xf9\\xd0\\x87\\x8aA'\n",
    "result = _bitarray_from_bytes(test_b)\n",
    "print(result)\n",
    "print(len(result))\n",
    "result_c = _bitarray_from_bytes(test_c)\n",
    "print(result_c)\n",
    "print(len(result_c))\n",
    "\n",
    "result_1 = result*1.2\n",
    "sums = [result, result_1]\n",
    "np.sum(sums, 0)"
   ]
  },
  {
   "cell_type": "code",
   "execution_count": 8,
   "metadata": {},
   "outputs": [
    {
     "name": "stdout",
     "output_type": "stream",
     "text": [
      "[1 1 0 1 1 0 1 0 0 0 0 1 0 1 0 1 1 0 1 0 0 0 0 0 1 1 1 1 1 0 0 1 1 1 0 1 0\n",
      " 0 0 0 1 0 0 0 0 1 1 1 1 0 0 0 1 0 1 0 0 1 0 0 0 0 0 1]\n",
      "[ 1.2  1.2 -1.2  1.2  1.2 -1.2  1.2 -1.2 -1.2 -1.2 -1.2  1.2 -1.2  1.2\n",
      " -1.2  1.2  1.2 -1.2  1.2 -1.2 -1.2 -1.2 -1.2 -1.2  1.2  1.2  1.2  1.2\n",
      "  1.2 -1.2 -1.2  1.2  1.2  1.2 -1.2  1.2 -1.2 -1.2 -1.2 -1.2  1.2 -1.2\n",
      " -1.2 -1.2 -1.2  1.2  1.2  1.2  1.2 -1.2 -1.2 -1.2  1.2 -1.2  1.2 -1.2\n",
      " -1.2  1.2 -1.2 -1.2 -1.2 -1.2 -1.2  1.2]\n"
     ]
    }
   ],
   "source": [
    "print(result)\n",
    "print((([1]*64-result)*(-1)+result)*1.2)"
   ]
  },
  {
   "cell_type": "code",
   "execution_count": 11,
   "metadata": {},
   "outputs": [
    {
     "name": "stdout",
     "output_type": "stream",
     "text": [
      "[ 1.2  1.2 -1.2  1.2  1.2 -1.2  1.2 -1.2 -1.2 -1.2 -1.2  1.2 -1.2  1.2\n",
      " -1.2  1.2  1.2 -1.2  1.2 -1.2 -1.2 -1.2 -1.2 -1.2  1.2  1.2  1.2  1.2\n",
      "  1.2 -1.2 -1.2  1.2  1.2  1.2 -1.2  1.2 -1.2 -1.2 -1.2 -1.2  1.2 -1.2\n",
      " -1.2 -1.2 -1.2  1.2  1.2  1.2  1.2 -1.2 -1.2 -1.2  1.2 -1.2  1.2 -1.2\n",
      " -1.2  1.2 -1.2 -1.2 -1.2 -1.2 -1.2  1.2]\n",
      "[1, 1, 0, 1, 1, 0, 1, 0, 0, 0, 0, 1, 0, 1, 0, 1, 1, 0, 1, 0, 0, 0, 0, 0, 1, 1, 1, 1, 1, 0, 0, 1, 1, 1, 0, 1, 0, 0, 0, 0, 1, 0, 0, 0, 0, 1, 1, 1, 1, 0, 0, 0, 1, 0, 1, 0, 0, 1, 0, 0, 0, 0, 0, 1]\n"
     ]
    }
   ],
   "source": [
    "a = (([1]*64-result)*(-1)+result)*1.2\n",
    "print(a)\n",
    "print([1 if v>0 else 0 for v in a ])"
   ]
  },
  {
   "cell_type": "code",
   "execution_count": 14,
   "metadata": {},
   "outputs": [
    {
     "name": "stdout",
     "output_type": "stream",
     "text": [
      "4\n"
     ]
    }
   ],
   "source": [
    "b = [1,0,0]\n",
    "def binary_to_int(b):\n",
    "\tres = 0\n",
    "\tfor i in b:\n",
    "\t\tres <<= 1\n",
    "\t\tif i==1:\n",
    "\t\t\tres+=1\n",
    "\n",
    "\treturn res\n",
    "print(binary_to_int(b))"
   ]
  },
  {
   "cell_type": "code",
   "execution_count": 17,
   "metadata": {},
   "outputs": [
    {
     "name": "stdout",
     "output_type": "stream",
     "text": [
      "1\n",
      "1\n",
      "8\n"
     ]
    }
   ],
   "source": [
    "def distance(v1, v2):\n",
    "        x = (v1 ^ v2) & ((1 << 3) - 1)\n",
    "        ans = 0\n",
    "        while x:\n",
    "            ans += 1\n",
    "            x &= x - 1\n",
    "        return ans\n",
    "\n",
    "print(distance(5,4))\n",
    "print(5^4)\n",
    "print(1 << 3)"
   ]
  },
  {
   "cell_type": "code",
   "execution_count": null,
   "metadata": {},
   "outputs": [],
   "source": [
    "# classes = np.unique(targets_np)"
   ]
  },
  {
   "cell_type": "code",
   "execution_count": null,
   "metadata": {},
   "outputs": [],
   "source": [
    "print(np.where(Z>0, np.ceil(Z), np.floor(Z)))\n",
    "\n",
    "# numpy.where() 有两种用法：\n",
    "# 1、np.where(condition, x, y)：满足条件(condition)，输出x，不满足输出y\n",
    "# 2、np.where(condition)：只有条件 (condition)，没有x和y，则输出满足条件 (即非0) 元素的坐标 (等价于numpy.nonzero)。这里的坐标以tuple的形式给出，通常原数组有多少维，输出的tuple中就包含几个数组，分别对应符合条件元素的各维坐标。\n",
    "aa = np.arange(10)\n",
    "print(np.where(aa > 5,1,-1))\n",
    "print(np.where(aa > 5)) # 返回索引"
   ]
  },
  {
   "cell_type": "code",
   "execution_count": null,
   "metadata": {},
   "outputs": [],
   "source": [
    "# np.vstack(): 按垂直方向（行顺序）堆叠数组构成一个新的数组\n",
    "# np.hstack(): 按水平方向（列顺序）堆叠数组构成一个新的数组"
   ]
  },
  {
   "cell_type": "code",
   "execution_count": null,
   "metadata": {},
   "outputs": [],
   "source": [
    "# 创建对角矩阵\n",
    "Z = np.diag(1+np.arange(4),k=0) # k值默认为0，若为负则在主对角线下方，若为正则在上方\n",
    "print(Z)\n",
    "Z = np.diag(1+np.arange(4),k=-1)\n",
    "print(Z)\n",
    "    # 当np.diag的输入是一个一维数组时，结果是以一维数组为对角线元素的矩阵，若输入是一个矩阵时，则输出矩阵的对角线元素\n",
    "b = np.arange(1, 10).reshape(3, 3)\n",
    "print(b)\n",
    "print(np.diag(b))"
   ]
  },
  {
   "cell_type": "code",
   "execution_count": null,
   "metadata": {},
   "outputs": [],
   "source": [
    "np.array2string(cls_acc, separator=',', formatter={'float_kind': lambda x: \"%.3f\" % x})"
   ]
  },
  {
   "cell_type": "code",
   "execution_count": null,
   "metadata": {},
   "outputs": [],
   "source": [
    "# np.bincount\n",
    "import numpy as np\n",
    "x=np.array([0,1,1,3,2,1,7]) \n",
    "np.bincount(x) # 统计每个索引值出现的次数"
   ]
  },
  {
   "cell_type": "code",
   "execution_count": null,
   "metadata": {},
   "outputs": [],
   "source": [
    "np.linspace(.2, 1, 5)\n",
    "np.logspace(-4, 0, 5)"
   ]
  },
  {
   "cell_type": "code",
   "execution_count": null,
   "metadata": {},
   "outputs": [],
   "source": [
    "np.newaxis\n",
    "np.concatenate(axis)"
   ]
  },
  {
   "cell_type": "code",
   "execution_count": null,
   "metadata": {},
   "outputs": [],
   "source": [
    "np.linalg.norm(kmeans.cluster_centers_, ord=2, axis=1, keepdims=True)"
   ]
  },
  {
   "cell_type": "code",
   "execution_count": null,
   "metadata": {},
   "outputs": [],
   "source": [
    "np.asarray"
   ]
  },
  {
   "cell_type": "code",
   "execution_count": null,
   "metadata": {},
   "outputs": [],
   "source": [
    "np.set_printoptions(precision=4)\n",
    "print(np.array([1.123456789])) # [ 1.1235]"
   ]
  },
  {
   "cell_type": "code",
   "execution_count": null,
   "metadata": {},
   "outputs": [],
   "source": [
    "np.sign\n",
    "np.argsort\n",
    "np.sort\n",
    "np.reshape\n",
    "np.argwhere\n",
    "np.float\n",
    "np.cumsum\n",
    "np.arange\n",
    "np.argpartition\n",
    "np.equal\n",
    "np.inner\n",
    "np.expand_dims\n",
    "\n",
    ".astype(float)"
   ]
  },
  {
   "cell_type": "code",
   "execution_count": null,
   "metadata": {},
   "outputs": [],
   "source": [
    "np.random.choice([-1, 1], tmp.shape)"
   ]
  },
  {
   "cell_type": "code",
   "execution_count": null,
   "metadata": {},
   "outputs": [],
   "source": [
    "numpy.percentile(list, 95)"
   ]
  },
  {
   "cell_type": "code",
   "execution_count": null,
   "metadata": {},
   "outputs": [],
   "source": [
    "h, b = numpy.histogram(a=list, bins=20)\n",
    "# numpy.amax等同于numpy.max"
   ]
  },
  {
   "cell_type": "code",
   "execution_count": null,
   "metadata": {},
   "outputs": [],
   "source": [
    "# Normalization\n",
    "data = (data - data.mean()) / data.std()"
   ]
  },
  {
   "cell_type": "code",
   "execution_count": null,
   "metadata": {},
   "outputs": [],
   "source": [
    "np.prod\n",
    "np.log\n",
    "np.log2"
   ]
  },
  {
   "cell_type": "code",
   "execution_count": null,
   "metadata": {},
   "outputs": [],
   "source": [
    "np.uint8\n",
    "np.long\n",
    "np.float32"
   ]
  },
  {
   "cell_type": "code",
   "execution_count": null,
   "metadata": {},
   "outputs": [],
   "source": [
    "np.savez_compressed(base_filepath + \"text8.%s.npz\" % data_name, num_data=np.array)\n",
    "np.save(): .npy"
   ]
  }
 ],
 "metadata": {
  "interpreter": {
   "hash": "2b855680fa45ad400d17ada59186530cb5f63d874a71a7bef8ffe3c8b3c7f793"
  },
  "kernelspec": {
   "display_name": "Python 3.6.13 64-bit ('newspt': conda)",
   "name": "python3"
  },
  "language_info": {
   "codemirror_mode": {
    "name": "ipython",
    "version": 3
   },
   "file_extension": ".py",
   "mimetype": "text/x-python",
   "name": "python",
   "nbconvert_exporter": "python",
   "pygments_lexer": "ipython3",
   "version": "3.6.15"
  },
  "orig_nbformat": 4
 },
 "nbformat": 4,
 "nbformat_minor": 2
}
