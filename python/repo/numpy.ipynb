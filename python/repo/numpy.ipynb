{
 "cells": [
  {
   "cell_type": "code",
   "execution_count": 1,
   "metadata": {},
   "outputs": [],
   "source": [
    "import numpy as np"
   ]
  },
  {
   "cell_type": "code",
   "execution_count": null,
   "metadata": {},
   "outputs": [],
   "source": [
    "# 创建numpy数组\n",
    "\n",
    "# 指定生成\n",
    "np.zeros((3, 5), dtype=np.int64)\n",
    "\n",
    "a = np.array([[1,2],[3,4],[5,6]]) # 3x2\n",
    "b = a[:,np.newaxis] # 3x1x2\n",
    "\n",
    "np.linspace(.2, 1, 5) # array([0.2, 0.4, 0.6, 0.8, 1. ])\n",
    "np.logspace(-4, 0, 5) # array([1.e-04, 1.e-03, 1.e-02, 1.e-01, 1.e+00])\n",
    "\n",
    "# 随机生成\n",
    "np.random.permutation(7) # array([3, 1, 6, 2, 5, 4, 0])"
   ]
  },
  {
   "cell_type": "code",
   "execution_count": null,
   "metadata": {},
   "outputs": [],
   "source": [
    "# numpy数组属性信息\n",
    "\n",
    "# 数据类型\n",
    "a = np.array([[1,2],[3,4],[5,6]])\n",
    "a.dtype # dtype('int64')\n",
    "a = a.astype(np.float32)\n",
    "a.dtype # dtype('float32')\n",
    "# np.int, np.int64\n",
    "# float, np.float32"
   ]
  },
  {
   "cell_type": "code",
   "execution_count": null,
   "metadata": {},
   "outputs": [],
   "source": [
    "# 对numpy数组进行操作\n",
    "\n",
    "# 维度变换\n",
    "a = np.array([[1,2],[3,4],[5,6]])\n",
    "a.flatten() # array([1,2,3,4,5,6])\n",
    "\n",
    "# 切片(索引)\n",
    "l = [5,1,2,3]\n",
    "order = [0,3,2,1]\n",
    "np.take(l, order) # array([5, 3, 2, 1])\n",
    "# order为打乱后的索引"
   ]
  },
  {
   "cell_type": "code",
   "execution_count": null,
   "metadata": {},
   "outputs": [],
   "source": [
    "# numpy数组运算\n",
    "\n",
    "# 四则运算\n",
    "a = np.array([[1,2],[3,4],[5,6]])\n",
    "b = np.array([[1,2],[3,4],[5,6]])\n",
    "np.dot(a, b.T) # 矩阵乘法\n",
    "'''\n",
    "array([[ 5, 11, 17],\n",
    "       [11, 25, 39],\n",
    "       [17, 39, 61]])\n",
    "'''\n",
    "\n",
    "# 范数计算\n",
    "a = np.array([1,2])\n",
    "# 向量的2范数, 即向量的每个元素的平方和再开平方根\n",
    "np.linalg.norm(a) # 2.23606797749979\n",
    "\n",
    "# 对数计算\n",
    "from numpy import log1p \n",
    "# 返回1+x的自然对数, 对数据进行了压缩(数据平滑处理), 逆运算expm1(最后需要将预测出的平滑数据进行一个还原)"
   ]
  },
  {
   "cell_type": "code",
   "execution_count": null,
   "metadata": {},
   "outputs": [],
   "source": [
    "# 存储和下载\n",
    "\n",
    "a = np.array([[1,2,3], [1,2,3]])\n",
    "b = np.array([1,2])\n",
    "np.savez(\"xxx.npz\", a=a, b=b)\n",
    "data = np.load(\"xxx.npz\") \n",
    "# 如果对象是字典, 则需要参数allow_pickle=True\n",
    "data[\"a\"] # 返回array([[1,2,3], [1,2,3]]), 如果值是字典, 则array中的dtype=object, 使用.tolist()可得到原始值\n",
    "data.close()\n",
    "\n",
    "np.save(\"xxx.npy\", a)\n",
    "dict(np.load(\"xxx.npy\", encoding='bytes').item())\n",
    "\n",
    "np.savetxt(\"xxx.txt\", a)"
   ]
  },
  {
   "cell_type": "markdown",
   "metadata": {},
   "source": [
    "### 索引操作"
   ]
  },
  {
   "cell_type": "markdown",
   "metadata": {},
   "source": [
    "### 下载和存储"
   ]
  },
  {
   "cell_type": "code",
   "execution_count": 2,
   "metadata": {},
   "outputs": [
    {
     "name": "stdout",
     "output_type": "stream",
     "text": [
      "[1 1 0 1 1 0 1 0 0 0 0 1 0 1 0 1 1 0 1 0 0 0 0 0 1 1 1 1 1 0 0 1 1 1 0 1 0\n",
      " 0 0 0 1 0 0 0 0 1 1 1 1 0 0 0 1 0 1 0 0 1 0 0 0 0 0 1]\n",
      "64\n",
      "[1 1 1 1 0 0 0 0 0 1 1 1 0 0 0 0 1 0 1 0 1 0 1 0 0 1 1 0 1 0 0 1 1 1 1 1 1\n",
      " 0 0 0 1 1 0 1 0 1 1 1 0 0 1 1 0 1 1 0 0 1 0 1 0 0 0 0 1 1 0 1 1 0 1 0 0 0\n",
      " 0 1 0 1 0 1 1 0 1 0 0 0 0 0 1 1 1 1 1 0 0 1 1 1 0 1 0 0 0 0 1 0 0 0 0 1 1\n",
      " 1 1 0 0 0 1 0 1 0 0 1 0 0 0 0 0 1]\n",
      "128\n"
     ]
    },
    {
     "data": {
      "text/plain": [
       "array([2.2, 2.2, 0. , 2.2, 2.2, 0. , 2.2, 0. , 0. , 0. , 0. , 2.2, 0. ,\n",
       "       2.2, 0. , 2.2, 2.2, 0. , 2.2, 0. , 0. , 0. , 0. , 0. , 2.2, 2.2,\n",
       "       2.2, 2.2, 2.2, 0. , 0. , 2.2, 2.2, 2.2, 0. , 2.2, 0. , 0. , 0. ,\n",
       "       0. , 2.2, 0. , 0. , 0. , 0. , 2.2, 2.2, 2.2, 2.2, 0. , 0. , 0. ,\n",
       "       2.2, 0. , 2.2, 0. , 0. , 2.2, 0. , 0. , 0. , 0. , 0. , 2.2])"
      ]
     },
     "execution_count": 2,
     "metadata": {},
     "output_type": "execute_result"
    }
   ],
   "source": [
    "def _bitarray_from_bytes(b):\n",
    "\treturn np.unpackbits(np.frombuffer(b, dtype='>B'))\n",
    "test_b = b'\\xda\\x15\\xa0\\xf9\\xd0\\x87\\x8aA'\n",
    "test_c = b'\\xf0p\\xaai\\xf8\\xd76P\\xda\\x15\\xa0\\xf9\\xd0\\x87\\x8aA'\n",
    "result = _bitarray_from_bytes(test_b)\n",
    "print(result)\n",
    "print(len(result))\n",
    "result_c = _bitarray_from_bytes(test_c)\n",
    "print(result_c)\n",
    "print(len(result_c))\n",
    "\n",
    "result_1 = result*1.2\n",
    "sums = [result, result_1]\n",
    "np.sum(sums, 0)"
   ]
  },
  {
   "cell_type": "code",
   "execution_count": 8,
   "metadata": {},
   "outputs": [
    {
     "name": "stdout",
     "output_type": "stream",
     "text": [
      "[1 1 0 1 1 0 1 0 0 0 0 1 0 1 0 1 1 0 1 0 0 0 0 0 1 1 1 1 1 0 0 1 1 1 0 1 0\n",
      " 0 0 0 1 0 0 0 0 1 1 1 1 0 0 0 1 0 1 0 0 1 0 0 0 0 0 1]\n",
      "[ 1.2  1.2 -1.2  1.2  1.2 -1.2  1.2 -1.2 -1.2 -1.2 -1.2  1.2 -1.2  1.2\n",
      " -1.2  1.2  1.2 -1.2  1.2 -1.2 -1.2 -1.2 -1.2 -1.2  1.2  1.2  1.2  1.2\n",
      "  1.2 -1.2 -1.2  1.2  1.2  1.2 -1.2  1.2 -1.2 -1.2 -1.2 -1.2  1.2 -1.2\n",
      " -1.2 -1.2 -1.2  1.2  1.2  1.2  1.2 -1.2 -1.2 -1.2  1.2 -1.2  1.2 -1.2\n",
      " -1.2  1.2 -1.2 -1.2 -1.2 -1.2 -1.2  1.2]\n"
     ]
    }
   ],
   "source": [
    "print(result)\n",
    "print((([1]*64-result)*(-1)+result)*1.2)"
   ]
  },
  {
   "cell_type": "code",
   "execution_count": 11,
   "metadata": {},
   "outputs": [
    {
     "name": "stdout",
     "output_type": "stream",
     "text": [
      "[ 1.2  1.2 -1.2  1.2  1.2 -1.2  1.2 -1.2 -1.2 -1.2 -1.2  1.2 -1.2  1.2\n",
      " -1.2  1.2  1.2 -1.2  1.2 -1.2 -1.2 -1.2 -1.2 -1.2  1.2  1.2  1.2  1.2\n",
      "  1.2 -1.2 -1.2  1.2  1.2  1.2 -1.2  1.2 -1.2 -1.2 -1.2 -1.2  1.2 -1.2\n",
      " -1.2 -1.2 -1.2  1.2  1.2  1.2  1.2 -1.2 -1.2 -1.2  1.2 -1.2  1.2 -1.2\n",
      " -1.2  1.2 -1.2 -1.2 -1.2 -1.2 -1.2  1.2]\n",
      "[1, 1, 0, 1, 1, 0, 1, 0, 0, 0, 0, 1, 0, 1, 0, 1, 1, 0, 1, 0, 0, 0, 0, 0, 1, 1, 1, 1, 1, 0, 0, 1, 1, 1, 0, 1, 0, 0, 0, 0, 1, 0, 0, 0, 0, 1, 1, 1, 1, 0, 0, 0, 1, 0, 1, 0, 0, 1, 0, 0, 0, 0, 0, 1]\n"
     ]
    }
   ],
   "source": [
    "a = (([1]*64-result)*(-1)+result)*1.2\n",
    "print(a)\n",
    "print([1 if v>0 else 0 for v in a ])"
   ]
  },
  {
   "cell_type": "code",
   "execution_count": 14,
   "metadata": {},
   "outputs": [
    {
     "name": "stdout",
     "output_type": "stream",
     "text": [
      "4\n"
     ]
    }
   ],
   "source": [
    "b = [1,0,0]\n",
    "def binary_to_int(b):\n",
    "\tres = 0\n",
    "\tfor i in b:\n",
    "\t\tres <<= 1\n",
    "\t\tif i==1:\n",
    "\t\t\tres+=1\n",
    "\n",
    "\treturn res\n",
    "print(binary_to_int(b))"
   ]
  },
  {
   "cell_type": "code",
   "execution_count": 17,
   "metadata": {},
   "outputs": [
    {
     "name": "stdout",
     "output_type": "stream",
     "text": [
      "1\n",
      "1\n",
      "8\n"
     ]
    }
   ],
   "source": [
    "def distance(v1, v2):\n",
    "        x = (v1 ^ v2) & ((1 << 3) - 1)\n",
    "        ans = 0\n",
    "        while x:\n",
    "            ans += 1\n",
    "            x &= x - 1\n",
    "        return ans\n",
    "\n",
    "print(distance(5,4))\n",
    "print(5^4)\n",
    "print(1 << 3)"
   ]
  },
  {
   "cell_type": "code",
   "execution_count": null,
   "metadata": {},
   "outputs": [],
   "source": [
    "# classes = np.unique(targets_np)"
   ]
  },
  {
   "cell_type": "code",
   "execution_count": null,
   "metadata": {},
   "outputs": [],
   "source": [
    "print(np.where(Z>0, np.ceil(Z), np.floor(Z)))\n",
    "\n",
    "# numpy.where() 有两种用法：\n",
    "# 1、np.where(condition, x, y)：满足条件(condition)，输出x，不满足输出y\n",
    "# 2、np.where(condition)：只有条件 (condition)，没有x和y，则输出满足条件 (即非0) 元素的坐标 (等价于numpy.nonzero)。这里的坐标以tuple的形式给出，通常原数组有多少维，输出的tuple中就包含几个数组，分别对应符合条件元素的各维坐标。\n",
    "aa = np.arange(10)\n",
    "print(np.where(aa > 5,1,-1))\n",
    "print(np.where(aa > 5)) # 返回索引"
   ]
  },
  {
   "cell_type": "code",
   "execution_count": null,
   "metadata": {},
   "outputs": [],
   "source": [
    "# np.vstack(): 按垂直方向（行顺序）堆叠数组构成一个新的数组\n",
    "# np.hstack(): 按水平方向（列顺序）堆叠数组构成一个新的数组"
   ]
  },
  {
   "cell_type": "code",
   "execution_count": null,
   "metadata": {},
   "outputs": [],
   "source": [
    "# 创建对角矩阵\n",
    "Z = np.diag(1+np.arange(4),k=0) # k值默认为0，若为负则在主对角线下方，若为正则在上方\n",
    "print(Z)\n",
    "Z = np.diag(1+np.arange(4),k=-1)\n",
    "print(Z)\n",
    "    # 当np.diag的输入是一个一维数组时，结果是以一维数组为对角线元素的矩阵，若输入是一个矩阵时，则输出矩阵的对角线元素\n",
    "b = np.arange(1, 10).reshape(3, 3)\n",
    "print(b)\n",
    "print(np.diag(b))"
   ]
  },
  {
   "cell_type": "code",
   "execution_count": null,
   "metadata": {},
   "outputs": [],
   "source": [
    "np.array2string(cls_acc, separator=',', formatter={'float_kind': lambda x: \"%.3f\" % x})"
   ]
  },
  {
   "cell_type": "code",
   "execution_count": null,
   "metadata": {},
   "outputs": [],
   "source": [
    "# np.bincount\n",
    "import numpy as np\n",
    "x=np.array([0,1,1,3,2,1,7]) \n",
    "np.bincount(x) # 统计每个索引值出现的次数"
   ]
  },
  {
   "cell_type": "code",
   "execution_count": null,
   "metadata": {},
   "outputs": [],
   "source": [
    "np.linspace(.2, 1, 5)\n",
    "np.logspace(-4, 0, 5)"
   ]
  },
  {
   "cell_type": "code",
   "execution_count": null,
   "metadata": {},
   "outputs": [],
   "source": [
    "\n",
    "np.concatenate(axis)"
   ]
  },
  {
   "cell_type": "code",
   "execution_count": null,
   "metadata": {},
   "outputs": [],
   "source": [
    "np.linalg.norm(kmeans.cluster_centers_, ord=2, axis=1, keepdims=True)"
   ]
  },
  {
   "cell_type": "code",
   "execution_count": null,
   "metadata": {},
   "outputs": [],
   "source": [
    "np.asarray\n",
    "# np.array与np.asarray的区别\n",
    "# 其在于输入为ndarray时, np.array是将输入copy过去, 占用新的内存, 而np.asarray不会\n",
    "# 所以随着输入的改变np.array的输出不变, 而np.asarray的输出在变化"
   ]
  },
  {
   "cell_type": "code",
   "execution_count": null,
   "metadata": {},
   "outputs": [],
   "source": [
    "np.set_printoptions(precision=4)\n",
    "print(np.array([1.123456789])) # [ 1.1235]"
   ]
  },
  {
   "cell_type": "code",
   "execution_count": null,
   "metadata": {},
   "outputs": [],
   "source": [
    "np.sign\n",
    "np.argsort\n",
    "np.sort\n",
    "np.reshape\n",
    "np.argwhere\n",
    "np.float\n",
    "np.cumsum\n",
    "np.arange\n",
    "np.argpartition\n",
    "np.equal\n",
    "np.inner\n",
    "np.expand_dims\n",
    "\n",
    ".astype(float)"
   ]
  },
  {
   "cell_type": "code",
   "execution_count": null,
   "metadata": {},
   "outputs": [],
   "source": [
    "np.random.choice([-1, 1], tmp.shape)"
   ]
  },
  {
   "cell_type": "code",
   "execution_count": null,
   "metadata": {},
   "outputs": [],
   "source": [
    "numpy.percentile(list, 95)"
   ]
  },
  {
   "cell_type": "code",
   "execution_count": null,
   "metadata": {},
   "outputs": [],
   "source": [
    "h, b = numpy.histogram(a=list, bins=20)\n",
    "# numpy.amax等同于numpy.max"
   ]
  },
  {
   "cell_type": "code",
   "execution_count": null,
   "metadata": {},
   "outputs": [],
   "source": [
    "# Normalization\n",
    "data = (data - data.mean()) / data.std()"
   ]
  },
  {
   "cell_type": "code",
   "execution_count": null,
   "metadata": {},
   "outputs": [],
   "source": [
    "np.prod\n",
    "np.log\n",
    "np.log2"
   ]
  },
  {
   "cell_type": "code",
   "execution_count": null,
   "metadata": {},
   "outputs": [],
   "source": [
    "np.uint8\n",
    "np.long\n",
    "np.float32"
   ]
  },
  {
   "cell_type": "code",
   "execution_count": null,
   "metadata": {},
   "outputs": [],
   "source": [
    "np.savez_compressed(base_filepath + \"text8.%s.npz\" % data_name, num_data=np.array)\n",
    "np.save(): .npy\n",
    "np.random.randint\n",
    "np.random.shuffle(x) # 洗牌，对x进行顺序打乱，对多维数组进行打乱排列时，只对第一个维度也就是列维度进行随机打乱"
   ]
  },
  {
   "cell_type": "code",
   "execution_count": null,
   "metadata": {},
   "outputs": [],
   "source": [
    "# dtype='float32' # 'float64'"
   ]
  },
  {
   "cell_type": "code",
   "execution_count": null,
   "metadata": {},
   "outputs": [],
   "source": [
    "from numpy import vstack, array, nan\n"
   ]
  },
  {
   "cell_type": "code",
   "execution_count": null,
   "metadata": {},
   "outputs": [],
   "source": [
    "# numpy数组\n",
    "# sum | concatenate | newaxis | None | vstack | hstack | delete\n",
    "# all | any\n",
    "# linspace | logspace\n",
    "# np.zeros((2,3))\n",
    "# tolist()用于将数组或矩阵转为列表\n",
    "# np.argsort\n",
    "# np.load\n",
    "# 与csr矩阵转换\n",
    "# np.random | np.delete\n",
    "# 更改数据类型  .dtype #打印数组元素数据类型 \n",
    "### astype('float32') | astype('int') | astype(np.float32)\n",
    "# np.nan_to_num()\n",
    "# np.where\n",
    "# .size/打印数组尺寸，即数组元素总数 .shape/打印数组形状/元组  .ndim/打印数组的维度数目\n",
    "# ravel()、flatten()、squeeze()\n",
    "# np.argwhere\n",
    "# np.sign\n",
    "# np.isnan | np.isfinite | np.nan_to_num\n",
    "import numpy as np\n",
    "m = np.array([[1,2,3], [2,2,2], [1,5,6]])\n",
    "print(m.sum(axis=0)) # [ 4  9 11] 同一列上的数字相加\n",
    "print(m.sum(axis=1)) # [ 6  6 12] 同一行上的数字相加\n",
    "a = np.array([[1,2], [3,4]])\n",
    "b = np.array([[5,6]])\n",
    "print(np.concatenate((a, b), axis=0)) # [[1 2] [3 4] [5 6]]\n",
    "c = np.array([1,2,3,4])\n",
    "print(c[np.newaxis,:]) # [[1 2 3 4]]\n",
    "print(c[:, np.newaxis]) # [[1] [2] [3] [4]]\n",
    "d = np.array([2,2,3,4])\n",
    "print(np.vstack((c,d))) # [[1 2 3 4] [2 2 3 4]]\n",
    "print(np.hstack((c,d))) # [1 2 3 4 2 2 3 4]\n",
    "print(np.delete(m, 1, 0)) # [[1 2 3] [1 5 6]] 第二个参数是删除索引，第三个参数是axis\n",
    "print(a[:,None], [6,6]-a[:,None]) # 前一个输出[[[1 2]] [[3 4]]] 后一个输出[[[5 4]] [[3 2]]]\n",
    "print(a[None, :]) # [[[1 2] [3 4]]]\n",
    "print(np.all([[True, False], [True, True]])) # False  不指明axis则对所有维度做与操作(any是做或操作)\n",
    "print(np.any([[True, False], [True, True]])) # True\n",
    "print(np.any([[True, False], [True, False]], axis=0)) # [ True  False]\n",
    "print(np.linspace(.2, 1, 5)) # [0.2 0.4 0.6 0.8 1. ] 包括首尾\n",
    "print(np.logspace(-4, 0, 5)) # [1.e-04 1.e-03 1.e-02 1.e-01 1.e+00] 包括首尾 创建等比数列 10的幂\n",
    "# np.linalg.norm(input, ord=2, axis=1, keepdims=True) linalg=linear（线性）+algebra（代数），norm则表示范数    参数ord为范数类型 这里的参数意义基本同torch.norm\n",
    "e = np.array([3, 1, 2])\n",
    "print(np.argsort(e)) # [1 2 0]  argsort函数返回的是数组值从小到大的索引值\n",
    "# np.load # load() 和 save() 函数是读写文件数组数据的两个主要函数 默认情况下，数组是以未压缩的原始二进制格式保存在扩展名为 .npy 的文件中\n",
    "## loadtxt() 和 savetxt() 函数处理正常的文本文件(.txt 等)\n",
    "## np.genfromtxt()   如np.genfromtxt(os.path.join(data_root, filename), dtype=np.float32, delimiter=',')     与loadtxt()等价(当没有数据缺失)\n",
    "import scipy.sparse\n",
    "# ndarry 转 csr_matrix\n",
    "my_matrix = scipy.sparse.csr_matrix((2,2))\n",
    "my_array = my_matrix.A\n",
    "print(type(my_array), type(my_matrix)) # <class 'numpy.ndarray'> <class 'scipy.sparse.csr.csr_matrix'>\n",
    "# csr_matrix 转 ndarray\n",
    "A = np.array([[1,2,0],[0,0,3],[1,0,4]])\n",
    "sA = scipy.sparse.csr_matrix(A)  \n",
    "print(type(A), type(sA)) # <class 'numpy.ndarray'> <class 'scipy.sparse.csr.csr_matrix'>\n",
    "# rng = np.random.RandomState(42)\n",
    "## rng.shuffle(data)\n",
    "## rng.rand(N, 1)   参数表示生成的矩阵形状  均匀分布\n",
    "## np.random.normal(均值，标准差，shape)\n",
    "# numpy.delete(arr, obj, axis=None)  obj为对应axis上的索引\n",
    "# x = data.astype(np.float32) 括号中也可是'float32'或'int'    或   df = np.asarray(df, dtype=np.float32)\n",
    "# numpy.nan_to_num(x, copy=True, nan=0.0, posinf=None, neginf=None)   Replace NaN with zero and infinity with large finite numbers (default behaviour) or with the numbers defined by the user using the nan, posinf and/or neginf keywords.\n",
    "# np.where\n",
    "## np.where(condition, x, y) 满足条件(condition)，输出x，不满足输出y\n",
    "## np.where(condition) 只有条件 (condition)，没有x和y，则输出满足条件 (即非0) 元素的坐标 (等价于numpy.nonzero)。这里的坐标以tuple的形式给出，通常原数组有多少维，输出的tuple中就包含几个数组，分别对应符合条件元素的各维坐标\n",
    "print(A.size, A.shape, A.ndim) # 9 (3, 3) 2\n",
    "# numpy中的ravel()、flatten()、squeeze()都有将多维数组转换为一维数组的功能，区别：ravel()：如果没有必要，不会产生源数据的副本  flatten()：返回源数据的副本  squeeze()：只能对维数为1的维度降维  另外，reshape(-1)也可以“拉平”多维数组\n",
    "# np.argwhere(a) 找到数组中非零元素的索引  返回形式(N, a.ndim) ndarray  N是非零元素个数\n",
    "# sign(x)是Python的Numpy中的取数字符号（数字前的正负号）的函数，x为正取1 0取0，为负取-1\n",
    "# np.isnan(not a number) | np.isinf(无穷大) | np.nan_to_num(Replace NaN with zero and infinity with large finite numbers)\n",
    "\n",
    "# np.zeros(()) | np.vstack(())   -->  np.zeros(1)/array([0.])\n",
    "# .rand()\n",
    "\n",
    "# np.triu: 返回函数的上三角矩阵 k=0包括对角线元素 k=-1多向下包括一行元素\n",
    "# 利用 CuPy 库来加速 Numpy 运算速度  CuPy 是一个借助 CUDA GPU 库在英伟达 GPU 上实现 Numpy 数组的库\n",
    "## python3 -m pip install -U cupy-cuda101 -i https://pypi.tuna.tsinghua.edu.cn/simple | import cupy as cp   cuda版本要对\n",
    "\n",
    "# numpy.linalg模块包含线性代数的函数。使用这个模块，可以计算逆矩阵、求特征值、解线性方程组以及求解行列式等\n",
    "## 使用inv函数计算逆矩阵  inv函数只接受方阵作为输入矩阵，而pinv函数则没有这个限制/广义逆矩阵\n",
    "## numpy.linalg.solve(a, b) 方程组ax=b的解，x的shape与b一样\n",
    "## u, s, vh = numpy.linalg.svd(b) SVD分解\n",
    "\n",
    "# np.bincount: 返回结果的长度The length of out is equal to np.amax(x)+1  返回输入中值出现的次数，值为结果中的索引\n",
    "\n",
    "# np.tile\n",
    "# a = np.array([0, 1, 2])  np.tile(a, 2): array([0, 1, 2, 0, 1, 2])"
   ]
  }
 ],
 "metadata": {
  "interpreter": {
   "hash": "94b8ce2ec9a5bb238eaac0e1491a1a39f3b317a5c834f567228f3f456bc35b60"
  },
  "kernelspec": {
   "display_name": "Python 3.7.11 ('base': conda)",
   "language": "python",
   "name": "python3"
  },
  "language_info": {
   "codemirror_mode": {
    "name": "ipython",
    "version": 3
   },
   "file_extension": ".py",
   "mimetype": "text/x-python",
   "name": "python",
   "nbconvert_exporter": "python",
   "pygments_lexer": "ipython3",
   "version": "3.7.11"
  },
  "orig_nbformat": 4
 },
 "nbformat": 4,
 "nbformat_minor": 2
}
