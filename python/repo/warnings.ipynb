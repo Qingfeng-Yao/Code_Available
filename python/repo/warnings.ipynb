{
 "cells": [
  {
   "cell_type": "code",
   "execution_count": null,
   "metadata": {},
   "outputs": [],
   "source": [
    "warnings.warn(message, category=None, stacklevel=1, source=None)\n",
    "warnings.warn(message)\n",
    "# 会发出UserWarning警告"
   ]
  }
 ],
 "metadata": {
  "language_info": {
   "name": "python"
  },
  "orig_nbformat": 4
 },
 "nbformat": 4,
 "nbformat_minor": 2
}
