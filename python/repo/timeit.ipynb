{
 "cells": [
  {
   "cell_type": "code",
   "execution_count": null,
   "metadata": {},
   "outputs": [],
   "source": [
    "# 准确测量小段代码的执行时间 \n",
    "from timeit import default_timer\n",
    "# 默认的计时器，一般是time.perf_counter()\n",
    "# time.perf_counter()方法能够在任一平台提供最高精度的计时器\n",
    "#（它也只是记录了自然时间，记录自然时间会被很多其他因素影响，例如计算机的负载）"
   ]
  }
 ],
 "metadata": {
  "language_info": {
   "name": "python"
  },
  "orig_nbformat": 4
 },
 "nbformat": 4,
 "nbformat_minor": 2
}
