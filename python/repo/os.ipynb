{
 "cells": [
  {
   "cell_type": "code",
   "execution_count": null,
   "metadata": {},
   "outputs": [],
   "source": [
    "import os\n",
    "\n",
    "log_dir = \"log\"\n",
    "if not os.path.exists(log_dir):\n",
    "    os.makedirs(log_dir) # os.makedirs(dirname, exist_ok=True)\n",
    "\n",
    "# os.mkdir"
   ]
  },
  {
   "cell_type": "code",
   "execution_count": null,
   "metadata": {},
   "outputs": [],
   "source": [
    "os.path.basename() # 获取文件名，包括后缀"
   ]
  },
  {
   "cell_type": "code",
   "execution_count": 4,
   "metadata": {},
   "outputs": [
    {
     "name": "stdout",
     "output_type": "stream",
     "text": [
      "a .pyc\n"
     ]
    }
   ],
   "source": [
    "# os.path.splitext\n",
    "filename = \"a.pyc\"\n",
    "name,suf = os.path.splitext(filename)\n",
    "print(name,suf)"
   ]
  },
  {
   "cell_type": "code",
   "execution_count": null,
   "metadata": {},
   "outputs": [],
   "source": [
    "# os.remove(file)\n",
    "# os.listdir | os.path.join | os.path.isdir | os.path.isfile\n",
    "def print_directory_contents(s_path):\n",
    "# 这个函数接收文件夹的名称作为输入参数，返回该文件夹中文件的路径以及其包含文件夹中文件的路径\n",
    "    for s_child in os.listdir(s_path):\n",
    "        s_child_path = os.path.join(s_path, s_child)\n",
    "        if os.path.isdir(s_child_path):\n",
    "            print_directory_contents(s_child_path)\n",
    "        else:\n",
    "            print(s_child_path)"
   ]
  },
  {
   "cell_type": "code",
   "execution_count": 2,
   "metadata": {},
   "outputs": [
    {
     "name": "stdout",
     "output_type": "stream",
     "text": [
      "root:/home/yaoqf/yaoqingfeng/Code-Repository/python/leetcode\n",
      "dirs:[]\n",
      "files:['array_matrix.ipynb', 'subsequence.ipynb', 'others.ipynb', 'backtrack.ipynb', 'design.ipynb', 'string.ipynb', 'binary.ipynb', 'array_others.ipynb', 'linktable.ipynb', 'array_basic.ipynb', 'sortings.ipynb', 'tree.ipynb']\n"
     ]
    }
   ],
   "source": [
    "# os.walk\n",
    "dir = '/home/yaoqf/yaoqingfeng/Code-Repository/python/leetcode'\n",
    "for root,dirs,files in os.walk(dir):\n",
    "    print(\"root:{}\".format(root))\n",
    "    print(\"dirs:{}\".format(dirs))\n",
    "    print(\"files:{}\".format(files))"
   ]
  },
  {
   "cell_type": "code",
   "execution_count": null,
   "metadata": {},
   "outputs": [],
   "source": [
    "os.environ[\"CUDA_VISIBLE_DEVICES\"] = \"3\"\n",
    "os.environ['CUDA_VISIBLE_DEVICES'] = '0,1'"
   ]
  },
  {
   "cell_type": "code",
   "execution_count": null,
   "metadata": {},
   "outputs": [],
   "source": [
    "os.environ['TF_CPP_MIN_LOG_LEVEL'] = '3'\n",
    "# 设置log输出信息的，也就是程序运行时系统打印的信息\n",
    "# namespace tensorflow {\n",
    "# const int INFO = 0;            // base_logging::INFO;\n",
    "# const int WARNING = 1;         // base_logging::WARNING;\n",
    "# const int ERROR = 2;           // base_logging::ERROR;\n",
    "# const int FATAL = 3;           // base_logging::FATAL;\n",
    "# const int NUM_SEVERITIES = 4;  // base_logging::NUM_SEVERITIES;\n",
    "# log信息共有四个等级，按重要性递增为\n",
    "\t# INFO（通知）<WARNING（警告）<ERROR（错误）<FATAL（致命的）\n",
    "\t# 值的含义：不同值设置的是基础log信息（base_loging），运行时会输出base等级及其之上（更为严重）的信息\n",
    "\t# “0”为默认值，输出所有信息\n",
    "\t# 设置为3时，输出FATAL"
   ]
  }
 ],
 "metadata": {
  "interpreter": {
   "hash": "8e0a5121830260c2b3ba71b278117289a5158901009d117b6fbf784f99dd631f"
  },
  "kernelspec": {
   "display_name": "Python 3.6.13 64-bit ('ctrtf': conda)",
   "language": "python",
   "name": "python3"
  },
  "language_info": {
   "codemirror_mode": {
    "name": "ipython",
    "version": 3
   },
   "file_extension": ".py",
   "mimetype": "text/x-python",
   "name": "python",
   "nbconvert_exporter": "python",
   "pygments_lexer": "ipython3",
   "version": "3.6.13"
  },
  "orig_nbformat": 4
 },
 "nbformat": 4,
 "nbformat_minor": 2
}
