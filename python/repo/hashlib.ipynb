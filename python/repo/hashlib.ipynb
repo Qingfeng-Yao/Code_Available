{
 "cells": [
  {
   "cell_type": "code",
   "execution_count": 1,
   "metadata": {},
   "outputs": [],
   "source": [
    "import hashlib"
   ]
  },
  {
   "cell_type": "code",
   "execution_count": 2,
   "metadata": {},
   "outputs": [
    {
     "data": {
      "text/plain": [
       "b\"\\t\\x8fk\\xcdF!\\xd3s\\xca\\xdeN\\x83&'\\xb4\\xf6\""
      ]
     },
     "execution_count": 2,
     "metadata": {},
     "output_type": "execute_result"
    }
   ],
   "source": [
    "# hashlib.md5(x).digest() # 接受utf-8 encoded string，要么返回bytes，要么返回无符号整数\n",
    "x = b\"test\"\n",
    "hashlib.md5(x).digest()"
   ]
  },
  {
   "cell_type": "code",
   "execution_count": 2,
   "metadata": {},
   "outputs": [
    {
     "name": "stdout",
     "output_type": "stream",
     "text": [
      "b'\\xf0p\\xaai\\xf8\\xd76P\\xda\\x15\\xa0\\xf9\\xd0\\x87\\x8aA'\n",
      "b'\\xda\\x15\\xa0\\xf9\\xd0\\x87\\x8aA'\n",
      "16\n",
      "8\n"
     ]
    }
   ],
   "source": [
    "x = \"您好\".encode('utf-8')\n",
    "h = hashlib.md5(x).digest()\n",
    "sub_h = h[-8:]\n",
    "print(h)\n",
    "print(sub_h)\n",
    "print(len(h))\n",
    "print(len(sub_h))"
   ]
  },
  {
   "cell_type": "code",
   "execution_count": 3,
   "metadata": {},
   "outputs": [
    {
     "name": "stdout",
     "output_type": "stream",
     "text": [
      "b'`\\x9b\\xc0u\\x1dV\\xebFya\\xe2\\xbcoy\\x8f}Dbv\\x96$\\x8eR1^\\x1dm\\t\\x1b\\xdfP*'\n",
      "319599712642137852959191595054487013953\n"
     ]
    }
   ],
   "source": [
    "x = \"您好\".encode('utf-8')\n",
    "h = hashlib.sha256(x).digest()\n",
    "print(h)\n",
    "print(int(hashlib.md5(x).hexdigest(), 16))"
   ]
  }
 ],
 "metadata": {
  "interpreter": {
   "hash": "4c116f52f2aeb6a8b3ec0a05c641d44c8cdf31d6529c454bb2652bb63fb69475"
  },
  "kernelspec": {
   "display_name": "Python 3.6.13 64-bit ('deephash': conda)",
   "language": "python",
   "name": "python3"
  },
  "language_info": {
   "codemirror_mode": {
    "name": "ipython",
    "version": 3
   },
   "file_extension": ".py",
   "mimetype": "text/x-python",
   "name": "python",
   "nbconvert_exporter": "python",
   "pygments_lexer": "ipython3",
   "version": "3.6.15"
  },
  "orig_nbformat": 4
 },
 "nbformat": 4,
 "nbformat_minor": 2
}
