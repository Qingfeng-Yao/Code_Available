{
 "cells": [
  {
   "cell_type": "code",
   "execution_count": null,
   "metadata": {},
   "outputs": [],
   "source": [
    "from allennlp.data.vocabulary import Vocabulary\n",
    "vocab = Vocabulary.from_files(config[\"vocab_directory\"])\n",
    "\n",
    "from allennlp.modules.token_embedders import Embedding\n",
    "tokens_embedder = Embedding(vocab=vocab,\n",
    "\t\tpretrained_file= \"glove42B.txt\",\n",
    "\t\tembedding_dim=300,\n",
    "\t\ttrainable=True,\n",
    "\t\tpadding_index=0,\n",
    "\t\tsparse=True)\n",
    "\n",
    "from allennlp.modules.text_field_embedders import BasicTextFieldEmbedder # 属于from allennlp.modules.text_field_embedders import TextFieldEmbedder\n",
    "word_embedder = BasicTextFieldEmbedder({\"tokens\": tokens_embedder})"
   ]
  },
  {
   "cell_type": "code",
   "execution_count": null,
   "metadata": {},
   "outputs": [],
   "source": [
    "from allennlp.modules.matrix_attention.cosine_matrix_attention import CosineMatrixAttention \n",
    "cosine_module = CosineMatrixAttention()"
   ]
  },
  {
   "cell_type": "code",
   "execution_count": null,
   "metadata": {},
   "outputs": [],
   "source": [
    "from allennlp.data.tokenizers import Token\n",
    "from allennlp.data.token_indexers import SingleIdTokenIndexer\n",
    "from allennlp.data.data_loaders import MultiProcessDataLoader\n",
    "from allennlp.data.dataset_readers.dataset_reader import DatasetReader"
   ]
  }
 ],
 "metadata": {
  "language_info": {
   "name": "python"
  },
  "orig_nbformat": 4
 },
 "nbformat": 4,
 "nbformat_minor": 2
}
