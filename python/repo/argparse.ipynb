{
 "cells": [
  {
   "cell_type": "code",
   "execution_count": 1,
   "metadata": {},
   "outputs": [],
   "source": [
    "import argparse"
   ]
  },
  {
   "cell_type": "code",
   "execution_count": null,
   "metadata": {},
   "outputs": [],
   "source": [
    "# 创建一个解析器——创建 ArgumentParser() 对象\n",
    "# parser = argparse.ArgumentParser()或parser = argparse.ArgumentParser(description)\n",
    "\n",
    "# 添加参数——调用 add_argument('--xxx') 方法添加参数，可缩略'-x'(当然也可直接用'-xxx'，这样的话在命令行提供参数值时也只用'-')，也可提供多个'--xx'(一个简单，一个复杂)\n",
    "    # 该函数的参数\n",
    "        # required - 可选参数是否可以省略 (仅针对可选参数)\n",
    "        # help\n",
    "        # type\n",
    "        # default\n",
    "        # action/也可用type=bool定义布尔值\n",
    "        # metavar: 用来控制部分命令行参数的显示，注意：它只是影响部分参数的显示信息，不影响代码内部获取命令行参数的对象\n",
    "        # dest: 如果提供dest，例如dest=“datapath”，那么可以通过args.datapath访问该参数。\n",
    "    # 常用default、type/choices=[]，辅助help\n",
    "        # default='None'/default=None\n",
    "# args = parser.parse_args()/parser.print_help()"
   ]
  },
  {
   "cell_type": "code",
   "execution_count": null,
   "metadata": {},
   "outputs": [],
   "source": [
    "tanh_parser = parser.add_mutually_exclusive_group(required=False)\n",
    "tanh_parser.add_argument('--with_tanh', dest='with_tanh', action='store_true')\n",
    "tanh_parser.add_argument('--without_tanh', dest='with_tanh', action='store_false')\n",
    "parser.set_defaults(with_tanh=True)\n",
    "# 创建一个互斥组。 argparse 将会确保互斥组中只有一个参数在命令行中可用\n",
    "# required 参数，表示在互斥组中至少有一个参数是需要的"
   ]
  }
 ],
 "metadata": {
  "interpreter": {
   "hash": "8e0a5121830260c2b3ba71b278117289a5158901009d117b6fbf784f99dd631f"
  },
  "kernelspec": {
   "display_name": "Python 3.6.13 64-bit ('ctrtf': conda)",
   "language": "python",
   "name": "python3"
  },
  "language_info": {
   "codemirror_mode": {
    "name": "ipython",
    "version": 3
   },
   "file_extension": ".py",
   "mimetype": "text/x-python",
   "name": "python",
   "nbconvert_exporter": "python",
   "pygments_lexer": "ipython3",
   "version": "3.6.13"
  },
  "orig_nbformat": 4
 },
 "nbformat": 4,
 "nbformat_minor": 2
}
