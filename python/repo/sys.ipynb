{
 "cells": [
  {
   "cell_type": "code",
   "execution_count": null,
   "metadata": {},
   "outputs": [],
   "source": [
    "# sys.argv: 获取运行python文件的命令行参数, 且以list形式存储参数\n",
    "# sys.argv[0]代表当前module的名字"
   ]
  },
  {
   "cell_type": "code",
   "execution_count": null,
   "metadata": {},
   "outputs": [],
   "source": [
    "sys.exit(1) # 有错误退出\n",
    "# os._exit()会直接将python程序终止, 之后的所有代码都不会继续执行\n",
    "# sys.exit()会引发一个异常: SystemExit, 如果这个异常没有被捕获, 那么python解释器将会退出\n",
    "# 如果有捕获此异常的代码, 那么这些代码还是会执行\n",
    "# 捕获这个异常可以做一些额外的清理工作\n",
    "# 0为正常退出(无错误退出), 其他数值(1-127)为不正常, 可抛异常事件供捕获\n",
    "\n",
    "# 一般来说os._exit()用于在线程中退出; sys.exit()用于在主线程中退出"
   ]
  },
  {
   "cell_type": "code",
   "execution_count": 1,
   "metadata": {},
   "outputs": [
    {
     "name": "stdout",
     "output_type": "stream",
     "text": [
      "sys.version_info(major=3, minor=7, micro=11, releaselevel='final', serial=0)\n",
      "3\n",
      "True\n"
     ]
    }
   ],
   "source": [
    "import sys\n",
    "print(sys.version_info) \n",
    "print(sys.version_info[0])\n",
    "print(sys.version_info > (3, 0))"
   ]
  },
  {
   "cell_type": "code",
   "execution_count": null,
   "metadata": {},
   "outputs": [],
   "source": [
    "# sys.modules: 全局字典, 该字典是python启动后就加载在内存中\n",
    "# 每当程序员导入新的模块, sys.modules都将记录这些模块\n",
    "# 字典sys.modules对于加载模块起到了缓冲的作用\n",
    "# 当某个模块第一次导入, 字典sys.modules将自动记录该模块\n",
    "# 当第二次再导入该模块时, python会直接到字典中查找, 从而加快了程序运行的速度\n",
    "\n",
    "# 字典sys.modules具有字典所拥有的一切方法, 可以通过这些方法了解当前的环境加载了哪些模块\n",
    "sys.modules[__name__]"
   ]
  },
  {
   "cell_type": "code",
   "execution_count": null,
   "metadata": {},
   "outputs": [],
   "source": [
    "import os\n",
    "# sys.path: python搜索模块的路径列表\n",
    "# 在模块里面修改sys.path值: 即时生效的方法, 这种方法修改的sys.path作用域只是当前进程, 进程结束后就失效了\n",
    "sys.path.append(os.getcwd()) # 默认包含了当前目录为搜索路径(当前目录下的模块和子模块均可以正常访问)\n",
    "sys.path.append(\"../../\")"
   ]
  },
  {
   "cell_type": "code",
   "execution_count": 2,
   "metadata": {},
   "outputs": [
    {
     "data": {
      "text/plain": [
       "'/home/yaoqf/Code_Available/python/repo'"
      ]
     },
     "execution_count": 2,
     "metadata": {},
     "output_type": "execute_result"
    }
   ],
   "source": [
    "sys.path[0] # 是当前脚本的运行目录"
   ]
  },
  {
   "cell_type": "code",
   "execution_count": null,
   "metadata": {},
   "outputs": [],
   "source": [
    "sys.stdout.write('hello'+'\\n') # 等价于print('hello')"
   ]
  }
 ],
 "metadata": {
  "interpreter": {
   "hash": "94b8ce2ec9a5bb238eaac0e1491a1a39f3b317a5c834f567228f3f456bc35b60"
  },
  "kernelspec": {
   "display_name": "Python 3.7.10 ('base')",
   "language": "python",
   "name": "python3"
  },
  "language_info": {
   "codemirror_mode": {
    "name": "ipython",
    "version": 3
   },
   "file_extension": ".py",
   "mimetype": "text/x-python",
   "name": "python",
   "nbconvert_exporter": "python",
   "pygments_lexer": "ipython3",
   "version": "3.7.11"
  },
  "orig_nbformat": 4
 },
 "nbformat": 4,
 "nbformat_minor": 2
}
