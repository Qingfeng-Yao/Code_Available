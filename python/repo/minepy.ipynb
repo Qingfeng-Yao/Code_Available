{
 "cells": [
  {
   "cell_type": "code",
   "execution_count": 1,
   "metadata": {},
   "outputs": [
    {
     "name": "stdout",
     "output_type": "stream",
     "text": [
      "1.0000000000000002\n"
     ]
    }
   ],
   "source": [
    "from minepy import MINE\n",
    "import numpy as np\n",
    "# 基于最大信息的非参数估计\n",
    "\n",
    "x = np.linspace(0, 1, 1000)\n",
    "y = np.sin(10 * np.pi * x) + x\n",
    "mine = MINE(alpha=0.6, c=15, est=\"mic_approx\")\n",
    "# B(n) = n^alpha\n",
    "# c>0: 默认值为15\n",
    "# est: \"mic_approx\", \"mic_e\"\n",
    "mine.compute_score(x, y) # 计算x和y之间的最大归一化互信息分数\n",
    "\n",
    "print(mine.mic()) # 返回最大信息系数"
   ]
  }
 ],
 "metadata": {
  "interpreter": {
   "hash": "94b8ce2ec9a5bb238eaac0e1491a1a39f3b317a5c834f567228f3f456bc35b60"
  },
  "kernelspec": {
   "display_name": "Python 3.7.11 ('base')",
   "language": "python",
   "name": "python3"
  },
  "language_info": {
   "codemirror_mode": {
    "name": "ipython",
    "version": 3
   },
   "file_extension": ".py",
   "mimetype": "text/x-python",
   "name": "python",
   "nbconvert_exporter": "python",
   "pygments_lexer": "ipython3",
   "version": "3.7.11"
  },
  "orig_nbformat": 4
 },
 "nbformat": 4,
 "nbformat_minor": 2
}
