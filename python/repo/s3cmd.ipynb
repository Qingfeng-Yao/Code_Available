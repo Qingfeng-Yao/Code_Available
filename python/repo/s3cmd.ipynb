{
 "cells": [
  {
   "cell_type": "code",
   "execution_count": null,
   "metadata": {},
   "outputs": [],
   "source": [
    "# pip install s3cmd\n",
    "# 下载: s3cmd --access_key XXXXXXXXXXXXXXXXXXXX --secret_key XXXXXXXXXXXXXXXXXXXXXXXXXXXXXXXXXXXXXXXX get s3://ml-inat-competition-datasets/2018/train_val2018.tar.gz\n",
    "# 上述两个key需要从AWS中获取\n",
    "# 但会一直出现问题: WARNING: Retrying failed request/过一段时间再尝试即可/但可能会有新的问题: socket.timeout: The read operation timed out\n",
    "# -f, --force :强迫重写\n",
    "# --continue: 继续下载"
   ]
  }
 ],
 "metadata": {
  "language_info": {
   "name": "python"
  },
  "orig_nbformat": 4
 },
 "nbformat": 4,
 "nbformat_minor": 2
}
