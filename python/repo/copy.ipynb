{
 "cells": [
  {
   "cell_type": "code",
   "execution_count": 1,
   "metadata": {},
   "outputs": [],
   "source": [
    "import copy"
   ]
  },
  {
   "cell_type": "code",
   "execution_count": 2,
   "metadata": {},
   "outputs": [
    {
     "name": "stdout",
     "output_type": "stream",
     "text": [
      "a =  [1, 2, 3, 4, ['a', 'b', 'c'], 5]\n",
      "b =  [1, 2, 3, 4, ['a', 'b', 'c'], 5]\n",
      "c =  [1, 2, 3, 4, ['a', 'b', 'c']]\n",
      "d =  [1, 2, 3, 4, ['a', 'b']]\n"
     ]
    }
   ],
   "source": [
    "a = [1, 2, 3, 4, ['a', 'b']]  # 原始对象\n",
    "\n",
    "b = a  # 赋值，传对象的引用\n",
    "c = copy.copy(a)  # 对象拷贝，浅拷贝\n",
    "d = copy.deepcopy(a)  # 对象拷贝，深拷贝\n",
    "\n",
    "a.append(5)  # 修改对象a\n",
    "a[4].append('c')  # 修改对象a中的['a', 'b']数组对象\n",
    "\n",
    "print('a = ', a)\n",
    "print('b = ', b)\n",
    "print('c = ', c)\n",
    "print('d = ', d)"
   ]
  }
 ],
 "metadata": {
  "interpreter": {
   "hash": "8e0a5121830260c2b3ba71b278117289a5158901009d117b6fbf784f99dd631f"
  },
  "kernelspec": {
   "display_name": "Python 3.6.13 64-bit ('ctrtf': conda)",
   "language": "python",
   "name": "python3"
  },
  "language_info": {
   "codemirror_mode": {
    "name": "ipython",
    "version": 3
   },
   "file_extension": ".py",
   "mimetype": "text/x-python",
   "name": "python",
   "nbconvert_exporter": "python",
   "pygments_lexer": "ipython3",
   "version": "3.6.13"
  },
  "orig_nbformat": 4
 },
 "nbformat": 4,
 "nbformat_minor": 2
}
