{
 "cells": [
  {
   "cell_type": "code",
   "execution_count": 1,
   "metadata": {},
   "outputs": [],
   "source": [
    "# 堆\n",
    "import heapq"
   ]
  },
  {
   "cell_type": "code",
   "execution_count": 2,
   "metadata": {},
   "outputs": [
    {
     "name": "stdout",
     "output_type": "stream",
     "text": [
      "[1, 2, 9, 7, 3, 10]\n",
      "[2, 3, 9, 7, 10]\n",
      "[3, 7, 9, 10]\n",
      "3\n",
      "[3, 7, 9, 10]\n"
     ]
    }
   ],
   "source": [
    "a = [1, 2, 9, 7, 3]\n",
    "heapq.heappush(a,10)\n",
    "print(a)\n",
    "heapq.heappop(a) # 弹出最小的值\n",
    "print(a)\n",
    "heapq.heappop(a) # 弹出最小的值\n",
    "print(a)\n",
    "print(a[0]) # # 查看堆中最小的值，不弹出\n",
    "heapq.heapify(a) # 以线性时间将一个列表转为堆\n",
    "print(a)"
   ]
  },
  {
   "cell_type": "code",
   "execution_count": 3,
   "metadata": {},
   "outputs": [
    {
     "data": {
      "text/plain": [
       "[10, 9]"
      ]
     },
     "execution_count": 3,
     "metadata": {},
     "output_type": "execute_result"
    }
   ],
   "source": [
    "K = 2\n",
    "heapq.nlargest(K, a)"
   ]
  }
 ],
 "metadata": {
  "interpreter": {
   "hash": "8e0a5121830260c2b3ba71b278117289a5158901009d117b6fbf784f99dd631f"
  },
  "kernelspec": {
   "display_name": "Python 3.6.13 64-bit ('ctrtf': conda)",
   "language": "python",
   "name": "python3"
  },
  "language_info": {
   "codemirror_mode": {
    "name": "ipython",
    "version": 3
   },
   "file_extension": ".py",
   "mimetype": "text/x-python",
   "name": "python",
   "nbconvert_exporter": "python",
   "pygments_lexer": "ipython3",
   "version": "3.6.13"
  },
  "orig_nbformat": 4
 },
 "nbformat": 4,
 "nbformat_minor": 2
}
