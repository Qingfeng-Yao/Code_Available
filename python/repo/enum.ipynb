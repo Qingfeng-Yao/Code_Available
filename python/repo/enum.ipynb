{
 "cells": [
  {
   "cell_type": "code",
   "execution_count": null,
   "metadata": {},
   "outputs": [],
   "source": [
    "from enum import Enum\n",
    "# 继承枚举类\n",
    "# value属性则是自动赋给成员的int常量, 默认从1开始计数\n",
    "# 访问: Weekday.Tue或Weekday['Tue']或Weekday(2), 均输出Weekday.Tue, 不输出数值; Weekday.Tue.value输出数值\n",
    "# 所有枚举成员: Weekday.__members__.items()"
   ]
  }
 ],
 "metadata": {
  "language_info": {
   "name": "python"
  },
  "orig_nbformat": 4
 },
 "nbformat": 4,
 "nbformat_minor": 2
}
