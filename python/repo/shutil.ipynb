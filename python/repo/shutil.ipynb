{
 "cells": [
  {
   "cell_type": "code",
   "execution_count": 1,
   "metadata": {},
   "outputs": [],
   "source": [
    "import shutil \n",
    "# shutil提供了一系列对文件和文件集合的高阶操作"
   ]
  },
  {
   "cell_type": "code",
   "execution_count": null,
   "metadata": {},
   "outputs": [],
   "source": [
    "log_dir = \"log\"\n",
    "shutil.rmtree(log_dir) # 递归删除一个目录以及目录内的所有内容，即log_dir消失"
   ]
  },
  {
   "cell_type": "code",
   "execution_count": null,
   "metadata": {},
   "outputs": [],
   "source": [
    "# shutil.copyfileobj(fsrc, fdst) # 将文件类对象fsrc的内容拷贝到文件类对象fdst\n",
    "url = \"\"\n",
    "filename = \"name\"\n",
    "import urllib\n",
    "with urllib.request.urlopen(url) as response, open(filename, 'wb') as outfile:\n",
    "\tshutil.copyfileobj(response, outfile)"
   ]
  },
  {
   "cell_type": "code",
   "execution_count": null,
   "metadata": {},
   "outputs": [],
   "source": [
    "file_path = \"path1\"\n",
    "new_file_path = \"path2\"\n",
    "shutil.copy(file_path,new_file_path) \n",
    "\n",
    "shutil.copyfile(filename, filename.replace('pth.tar', 'best.pth.tar')) # 目标文件无需存在"
   ]
  }
 ],
 "metadata": {
  "interpreter": {
   "hash": "8e0a5121830260c2b3ba71b278117289a5158901009d117b6fbf784f99dd631f"
  },
  "kernelspec": {
   "display_name": "Python 3.6.13 64-bit ('ctrtf': conda)",
   "language": "python",
   "name": "python3"
  },
  "language_info": {
   "codemirror_mode": {
    "name": "ipython",
    "version": 3
   },
   "file_extension": ".py",
   "mimetype": "text/x-python",
   "name": "python",
   "nbconvert_exporter": "python",
   "pygments_lexer": "ipython3",
   "version": "3.6.13"
  },
  "orig_nbformat": 4
 },
 "nbformat": 4,
 "nbformat_minor": 2
}
