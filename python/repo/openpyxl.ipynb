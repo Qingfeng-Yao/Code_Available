{
 "cells": [
  {
   "cell_type": "code",
   "execution_count": null,
   "metadata": {},
   "outputs": [],
   "source": [
    "import openpyxl\n",
    "\n",
    "def write_excel(file_name, paper_list):\n",
    "    full_excel = openpyxl.Workbook()\n",
    "    full_sheet = full_excel.active\n",
    "    full_sheet.append(['序号', '标题', '作者及单位'])\n",
    "    for i in range(len(paper_list)):\n",
    "        full_sheet.append([i+1, paper_list[i][0], paper_list[i][1]])\n",
    "    full_excel.save(file_name)\n"
   ]
  }
 ],
 "metadata": {
  "language_info": {
   "name": "python"
  },
  "orig_nbformat": 4
 },
 "nbformat": 4,
 "nbformat_minor": 2
}
