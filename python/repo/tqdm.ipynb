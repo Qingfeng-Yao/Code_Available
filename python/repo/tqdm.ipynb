{
 "cells": [
  {
   "cell_type": "code",
   "execution_count": null,
   "metadata": {},
   "outputs": [],
   "source": [
    "from tqdm import tqdm\n",
    "train_progress = tqdm(enumerate(self.data.generate_batch_train_data()), dynamic_ncols=True,\n",
    "                                  total=batch_num)\n",
    "train_progress.set_description()"
   ]
  }
 ],
 "metadata": {
  "language_info": {
   "name": "python"
  },
  "orig_nbformat": 4
 },
 "nbformat": 4,
 "nbformat_minor": 2
}
