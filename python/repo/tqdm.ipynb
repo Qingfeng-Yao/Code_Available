{
 "cells": [
  {
   "cell_type": "code",
   "execution_count": null,
   "metadata": {},
   "outputs": [],
   "source": [
    "from tqdm import tqdm\n",
    "# 快速, 可扩展的Python进度条\n",
    "# 可以在 Python 长循环中添加一个进度提示信息\n",
    "# 用户只需要封装任意的迭代器tqdm(iterator), 如传入list或传入total=整数\n",
    "batch_train_data, batch_num, batch_size = None, None, None\n",
    "# batch_num = len(train_loader.dataset)\n",
    "train_progress = tqdm(enumerate(batch_train_data), dynamic_ncols=True, total=batch_num)\n",
    "train_progress.update(batch_size)\n",
    "train_progress.set_description('xxx')\n",
    "train_progress.close()\n",
    "# train_progress.n随着updata的量进行增量变动"
   ]
  }
 ],
 "metadata": {
  "language_info": {
   "name": "python"
  },
  "orig_nbformat": 4
 },
 "nbformat": 4,
 "nbformat_minor": 2
}
