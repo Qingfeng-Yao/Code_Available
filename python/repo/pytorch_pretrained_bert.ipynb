{
 "cells": [
  {
   "cell_type": "code",
   "execution_count": null,
   "metadata": {},
   "outputs": [],
   "source": [
    "from pytorch_pretrained_bert import BertTokenizer\n",
    "# class MyBertTokenizer(BertTokenizer): # 自定义Tokenizer\n",
    "# 父类有属性: .vocab .tokenize(text)(其中text为空格隔开的字符串) .from_pretrained('bert-base-uncased', cache_dir=root)"
   ]
  }
 ],
 "metadata": {
  "language_info": {
   "name": "python"
  },
  "orig_nbformat": 4
 },
 "nbformat": 4,
 "nbformat_minor": 2
}
