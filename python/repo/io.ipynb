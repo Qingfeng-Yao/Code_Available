{
 "cells": [
  {
   "cell_type": "code",
   "execution_count": null,
   "metadata": {},
   "outputs": [],
   "source": [
    "from io import StringIO\n",
    "# StringIO是在内存中读写str\n",
    "\n",
    "f = StringIO()  \n",
    "f.write('hello')  # 返回值为5(字符数)   \n",
    "f.getvalue() # 用于获得写入后的str  \n",
    "\n",
    "f = StringIO('Hello!\\nHi!\\nGoodbye!')   \n",
    "f.readline()"
   ]
  },
  {
   "cell_type": "code",
   "execution_count": null,
   "metadata": {},
   "outputs": [],
   "source": [
    "from io import BytesIO\n",
    "# BytesIO是在内存中读写bytes\n",
    "\n",
    "f = BytesIO()    \n",
    "f.write('中文'.encode('utf-8'))  # 返回值为6(字节数)\n",
    "\n",
    "f = BytesIO(b'\\xe4\\xb8\\xad\\xe6\\x96\\x87')   \n",
    "f.read()"
   ]
  }
 ],
 "metadata": {
  "language_info": {
   "name": "python"
  },
  "orig_nbformat": 4
 },
 "nbformat": 4,
 "nbformat_minor": 2
}
