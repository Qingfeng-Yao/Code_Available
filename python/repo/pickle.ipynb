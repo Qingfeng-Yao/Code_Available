{
 "cells": [
  {
   "cell_type": "code",
   "execution_count": 1,
   "metadata": {},
   "outputs": [],
   "source": [
    "import pickle"
   ]
  },
  {
   "cell_type": "code",
   "execution_count": null,
   "metadata": {},
   "outputs": [],
   "source": [
    "pickle.HIGHEST_PROTOCOL\n",
    "# 这是一个整数，表示最高可用的协议版本\n",
    "# 这个值可以作为参数protocol传给函数dump()和dumps()\n",
    "# 对应的协议5是3.8中的\n",
    "\n",
    "pickle.DEFAULT_PROTOCOL\n",
    "# 这是一个整数，表示用来pickling的默认协议版本\n",
    "# 可能比pickle.HIGHEST_PROTOCOL小\n",
    "# 目前默认的协议版本是3，协议3是专门为python3设计的一种新的协议"
   ]
  },
  {
   "cell_type": "code",
   "execution_count": null,
   "metadata": {},
   "outputs": [],
   "source": [
    "# pickle.dump(obj, file, protocol=None)\n",
    "# pickle.load(file) # file是'rb'模式打开"
   ]
  }
 ],
 "metadata": {
  "interpreter": {
   "hash": "8e0a5121830260c2b3ba71b278117289a5158901009d117b6fbf784f99dd631f"
  },
  "kernelspec": {
   "display_name": "Python 3.6.13 64-bit ('ctrtf': conda)",
   "language": "python",
   "name": "python3"
  },
  "language_info": {
   "codemirror_mode": {
    "name": "ipython",
    "version": 3
   },
   "file_extension": ".py",
   "mimetype": "text/x-python",
   "name": "python",
   "nbconvert_exporter": "python",
   "pygments_lexer": "ipython3",
   "version": "3.6.13"
  },
  "orig_nbformat": 4
 },
 "nbformat": 4,
 "nbformat_minor": 2
}
