{
 "cells": [
  {
   "cell_type": "code",
   "execution_count": 1,
   "metadata": {},
   "outputs": [],
   "source": [
    "import pickle"
   ]
  },
  {
   "cell_type": "code",
   "execution_count": null,
   "metadata": {},
   "outputs": [],
   "source": [
    "# pickle  序列化Python对象\n",
    "## f = open('somefile', 'wb')   pickle.dump(data, f)   |    为了将一个对象转储为一个字符串，可以使用 pickle.dumps()  即s = pickle.dumps(data)\n",
    "## 为了从字节流中恢复一个对象，使用 pickle.load() 或 pickle.loads() 函数\n",
    "## f = open('somefile', 'rb')   data = pickle.load(f, encoding='latin1')   或   data = pickle.loads(s)\n"
   ]
  },
  {
   "cell_type": "code",
   "execution_count": null,
   "metadata": {},
   "outputs": [],
   "source": [
    "pickle.HIGHEST_PROTOCOL\n",
    "# 这是一个整数，表示最高可用的协议版本\n",
    "# 这个值可以作为参数protocol传给函数dump()和dumps()\n",
    "# 对应的协议5是3.8中的\n",
    "\n",
    "pickle.DEFAULT_PROTOCOL\n",
    "# 这是一个整数，表示用来pickling的默认协议版本\n",
    "# 可能比pickle.HIGHEST_PROTOCOL小\n",
    "# 目前默认的协议版本是3，协议3是专门为python3设计的一种新的协议"
   ]
  },
  {
   "cell_type": "code",
   "execution_count": null,
   "metadata": {},
   "outputs": [],
   "source": [
    "# pickle.dump(obj, file, protocol=None)\n",
    "# pickle.load(file) # file是'rb'模式打开"
   ]
  },
  {
   "cell_type": "code",
   "execution_count": null,
   "metadata": {},
   "outputs": [],
   "source": [
    "\n",
    "# 序列化：把变量从内存中变成可存储或传输的过程；反序列化：把变量内容从序列化的对象重新读到内存里\n",
    "## import pickle\n",
    "## pickle.dumps()方法把任意对象序列化成一个bytes\n",
    "## 先把内容读到一个bytes，用pickle.loads()方法反序列化出对象\n",
    "## 字符串是JSON的表现形式            import json\n",
    "## json.dumps()        Python对象到JSON格式的转换\n",
    "## json.loads()        把JSON字符串反序列化"
   ]
  }
 ],
 "metadata": {
  "interpreter": {
   "hash": "8e0a5121830260c2b3ba71b278117289a5158901009d117b6fbf784f99dd631f"
  },
  "kernelspec": {
   "display_name": "Python 3.6.13 64-bit ('ctrtf': conda)",
   "language": "python",
   "name": "python3"
  },
  "language_info": {
   "codemirror_mode": {
    "name": "ipython",
    "version": 3
   },
   "file_extension": ".py",
   "mimetype": "text/x-python",
   "name": "python",
   "nbconvert_exporter": "python",
   "pygments_lexer": "ipython3",
   "version": "3.6.13"
  },
  "orig_nbformat": 4
 },
 "nbformat": 4,
 "nbformat_minor": 2
}
