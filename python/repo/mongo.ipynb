{
 "cells": [
  {
   "cell_type": "markdown",
   "metadata": {},
   "source": [
    "- MongoDB 是目前最流行的 NoSQL 数据库之一\n",
    "- Mac上使用mongo数据库: \n",
    "    - brew tap mongodb/brew\n",
    "    - brew install mongodb-community@4.4\n",
    "    - brew services start mongodb-community@4.4 //启动服务\n",
    "    - brew services stop mongodb-community@4.4 //停止服务"
   ]
  },
  {
   "cell_type": "markdown",
   "metadata": {},
   "source": [
    "数据库连接、创建/删除；表/集合的创建；表的索引/主键，插入/删除数据"
   ]
  },
  {
   "cell_type": "code",
   "execution_count": 13,
   "metadata": {},
   "outputs": [],
   "source": [
    "import pymongo"
   ]
  },
  {
   "cell_type": "code",
   "execution_count": 15,
   "metadata": {},
   "outputs": [],
   "source": [
    "myclient = pymongo.MongoClient(\"mongodb://localhost:27017/\") # 指定连接的 URL 地址"
   ]
  },
  {
   "cell_type": "code",
   "execution_count": 18,
   "metadata": {},
   "outputs": [
    {
     "data": {
      "text/plain": [
       "['admin', 'config', 'local']"
      ]
     },
     "execution_count": 18,
     "metadata": {},
     "output_type": "execute_result"
    }
   ],
   "source": [
    "# myclient.drop_database('runmydb') # 删除数据库\n",
    "# myclient.list_database_names()"
   ]
  },
  {
   "cell_type": "code",
   "execution_count": 19,
   "metadata": {},
   "outputs": [],
   "source": [
    "mydb = myclient[\"runmydb\"] # 指定要创建的数据库名\n",
    "# 在 MongoDB 中，数据库只有在内容插入后才会创建! 就是说，数据库创建后要创建集合(数据表)并插入一个文档(记录)，数据库才会真正创建"
   ]
  },
  {
   "cell_type": "code",
   "execution_count": 20,
   "metadata": {},
   "outputs": [
    {
     "data": {
      "text/plain": [
       "['admin', 'config', 'local']"
      ]
     },
     "execution_count": 20,
     "metadata": {},
     "output_type": "execute_result"
    }
   ],
   "source": [
    "# myclient.list_database_names()"
   ]
  },
  {
   "cell_type": "code",
   "execution_count": 21,
   "metadata": {},
   "outputs": [
    {
     "name": "stdout",
     "output_type": "stream",
     "text": [
      "<pymongo.results.InsertOneResult object at 0x7f840dbc1230>\n",
      "5f9fa8d41972147aec0a3a12\n"
     ]
    },
    {
     "data": {
      "text/plain": [
       "['admin', 'config', 'local', 'runmydb']"
      ]
     },
     "execution_count": 21,
     "metadata": {},
     "output_type": "execute_result"
    }
   ],
   "source": [
    "# mycol = mydb[\"sites\"] # 创建集合\n",
    "# mydict = {'price': 65, 'fname': 'apple'}\n",
    "# x = mycol.insert_one(mydict) # 插入集合 返回 InsertOneResult 对象，该对象包含 inserted_id 属性，它是插入文档的 id 值\n",
    "# print(x)\n",
    "# print(x.inserted_id)\n",
    "# myclient.list_database_names()"
   ]
  },
  {
   "cell_type": "code",
   "execution_count": 22,
   "metadata": {},
   "outputs": [
    {
     "name": "stdout",
     "output_type": "stream",
     "text": [
      "['_Collection__create_indexes', 'create_index', 'create_indexes', 'drop_index', 'drop_indexes', 'ensure_index', 'index_information', 'list_indexes', 'reindex']\n"
     ]
    }
   ],
   "source": [
    "# print([x for x in dir(mycol) if 'index' in x])"
   ]
  },
  {
   "cell_type": "code",
   "execution_count": 25,
   "metadata": {},
   "outputs": [
    {
     "data": {
      "text/plain": [
       "{'_id_': {'v': 2, 'key': [('_id', 1)]}}"
      ]
     },
     "execution_count": 25,
     "metadata": {},
     "output_type": "execute_result"
    }
   ],
   "source": [
    "# mycol.index_information()"
   ]
  },
  {
   "cell_type": "code",
   "execution_count": 37,
   "metadata": {},
   "outputs": [
    {
     "data": {
      "text/plain": [
       "'price_1_fname_1'"
      ]
     },
     "execution_count": 37,
     "metadata": {},
     "output_type": "execute_result"
    }
   ],
   "source": [
    "mycol = mydb[\"sites\"]\n",
    "mycol.create_index([('price', 1), ('fname', 1)], unique = True) # 1 为指定按升序创建索引，也可以用pymongo.ASCENDING代替。如果你想按降序来创建索引，则指定为 -1 或 pymongo.DESCENDING\n",
    "# mycol.drop_index([('price', 1), ('fname', 1)])"
   ]
  },
  {
   "cell_type": "code",
   "execution_count": 38,
   "metadata": {},
   "outputs": [
    {
     "data": {
      "text/plain": [
       "{'_id_': {'v': 2, 'key': [('_id', 1)]},\n",
       " 'price_1_fname_1': {'v': 2,\n",
       "  'unique': True,\n",
       "  'key': [('price', 1), ('fname', 1)]}}"
      ]
     },
     "execution_count": 38,
     "metadata": {},
     "output_type": "execute_result"
    }
   ],
   "source": [
    "mycol.index_information()"
   ]
  },
  {
   "cell_type": "code",
   "execution_count": 44,
   "metadata": {},
   "outputs": [
    {
     "name": "stdout",
     "output_type": "stream",
     "text": [
      "<pymongo.results.InsertManyResult object at 0x7f840eddb0a0>\n",
      "[ObjectId('5f9fb2a51972147aec0a3a1d'), ObjectId('5f9fb2a51972147aec0a3a1e'), ObjectId('5f9fb2a51972147aec0a3a1f'), ObjectId('5f9fb2a51972147aec0a3a20'), ObjectId('5f9fb2a51972147aec0a3a21')]\n"
     ]
    }
   ],
   "source": [
    "# mylist = [\n",
    "#   { 'price': 65, 'fname': 'apple'},\n",
    "#   { 'price': 60, 'fname': 'apple'},\n",
    "#   { 'price': 70, 'fname': 'pear'},\n",
    "#   { 'price': 50, 'fname': 'banana'},\n",
    "#   { 'price': 45, 'fname': 'pear'}\n",
    "# ]\n",
    "# x = mycol.insert_many(mylist) # 插入多个文档 返回 InsertManyResult 对象，该对象包含 inserted_ids 属性，该属性保存着所有插入文档的 id 值\n",
    "# print(x)\n",
    "# print(x.inserted_ids)"
   ]
  },
  {
   "cell_type": "code",
   "execution_count": 35,
   "metadata": {},
   "outputs": [
    {
     "data": {
      "text/plain": [
       "<pymongo.results.DeleteResult at 0x7f840f2e85f0>"
      ]
     },
     "execution_count": 35,
     "metadata": {},
     "output_type": "execute_result"
    }
   ],
   "source": [
    "# mycol.delete_one({'price': 65, 'fname': 'apple'})"
   ]
  },
  {
   "cell_type": "code",
   "execution_count": 41,
   "metadata": {},
   "outputs": [],
   "source": [
    "# x = mycol.delete_many({})"
   ]
  },
  {
   "cell_type": "code",
   "execution_count": 42,
   "metadata": {},
   "outputs": [
    {
     "name": "stdout",
     "output_type": "stream",
     "text": [
      "5 个文档已删除\n"
     ]
    }
   ],
   "source": [
    "# print(x.deleted_count, \"个文档已删除\")"
   ]
  },
  {
   "cell_type": "code",
   "execution_count": 45,
   "metadata": {},
   "outputs": [
    {
     "name": "stdout",
     "output_type": "stream",
     "text": [
      "<pymongo.cursor.Cursor object at 0x7f840f769a50>\n"
     ]
    },
    {
     "data": {
      "text/plain": [
       "[{'_id': ObjectId('5f9fb2a51972147aec0a3a1d'), 'price': 65, 'fname': 'apple'},\n",
       " {'_id': ObjectId('5f9fb2a51972147aec0a3a1e'), 'price': 60, 'fname': 'apple'},\n",
       " {'_id': ObjectId('5f9fb2a51972147aec0a3a1f'), 'price': 70, 'fname': 'pear'},\n",
       " {'_id': ObjectId('5f9fb2a51972147aec0a3a20'), 'price': 50, 'fname': 'banana'},\n",
       " {'_id': ObjectId('5f9fb2a51972147aec0a3a21'), 'price': 45, 'fname': 'pear'}]"
      ]
     },
     "execution_count": 45,
     "metadata": {},
     "output_type": "execute_result"
    }
   ],
   "source": [
    "print(mydb.sites.find())\n",
    "list(mydb.sites.find())"
   ]
  },
  {
   "cell_type": "code",
   "execution_count": 46,
   "metadata": {},
   "outputs": [
    {
     "name": "stdout",
     "output_type": "stream",
     "text": [
      "E11000 duplicate key error collection: runmydb.sites index: price_1_fname_1 dup key: { price: 65, fname: \"apple\" }, full error: {'index': 0, 'code': 11000, 'keyPattern': {'price': 1, 'fname': 1}, 'keyValue': {'price': 65, 'fname': 'apple'}, 'errmsg': 'E11000 duplicate key error collection: runmydb.sites index: price_1_fname_1 dup key: { price: 65, fname: \"apple\" }'}\n"
     ]
    }
   ],
   "source": [
    "# from pymongo.errors import DuplicateKeyError\n",
    "# try:\n",
    "#     mycol.insert_one({'price': 65, 'fname': 'apple'})\n",
    "# except DuplicateKeyError as e:\n",
    "#     print(e)"
   ]
  },
  {
   "cell_type": "code",
   "execution_count": 47,
   "metadata": {},
   "outputs": [
    {
     "data": {
      "text/plain": [
       "['sites2', 'sites']"
      ]
     },
     "execution_count": 47,
     "metadata": {},
     "output_type": "execute_result"
    }
   ],
   "source": [
    "mycol2 = mydb[\"sites2\"] \n",
    "# mylist2 = [\n",
    "#   {'source': {'fname': 'apple', 'location': 'fujian'}, 'price': 65, 'stock': 30},\n",
    "#   {'source': {'fname': 'apple', 'location': 'beijing'}, 'price': 55, 'stock': 40},\n",
    "#   {'source': {'fname': 'pear', 'location': 'fujian'}, 'price': 70, 'stock': 30},\n",
    "#   {'source': {'fname': 'banana', 'location': 'taiwan'}, 'price': 65, 'stock': 50},\n",
    "#   {'source': {'fname': 'orange', 'location': 'taiwan'}, 'price': 70, 'stock': 20}\n",
    "# ]\n",
    "# mycol2.insert_many(mylist2)\n",
    "mydb.list_collection_names()"
   ]
  },
  {
   "cell_type": "code",
   "execution_count": 49,
   "metadata": {},
   "outputs": [
    {
     "data": {
      "text/plain": [
       "{'_id_': {'v': 2, 'key': [('_id', 1)]}}"
      ]
     },
     "execution_count": 49,
     "metadata": {},
     "output_type": "execute_result"
    }
   ],
   "source": [
    "# mycol2.index_information()"
   ]
  },
  {
   "cell_type": "code",
   "execution_count": 50,
   "metadata": {},
   "outputs": [
    {
     "data": {
      "text/plain": [
       "'source.fname_1_source.location_1'"
      ]
     },
     "execution_count": 50,
     "metadata": {},
     "output_type": "execute_result"
    }
   ],
   "source": [
    "mycol2.create_index([('source.fname', 1), ('source.location', 1)], unique = True)"
   ]
  },
  {
   "cell_type": "code",
   "execution_count": 51,
   "metadata": {},
   "outputs": [
    {
     "data": {
      "text/plain": [
       "{'_id_': {'v': 2, 'key': [('_id', 1)]},\n",
       " 'source.fname_1_source.location_1': {'v': 2,\n",
       "  'unique': True,\n",
       "  'key': [('source.fname', 1), ('source.location', 1)]}}"
      ]
     },
     "execution_count": 51,
     "metadata": {},
     "output_type": "execute_result"
    }
   ],
   "source": [
    "mycol2.index_information()"
   ]
  },
  {
   "cell_type": "code",
   "execution_count": 52,
   "metadata": {},
   "outputs": [
    {
     "name": "stdout",
     "output_type": "stream",
     "text": [
      "E11000 duplicate key error collection: runmydb.sites2 index: source.fname_1_source.location_1 dup key: { source.fname: \"apple\", source.location: \"fujian\" }, full error: {'index': 0, 'code': 11000, 'keyPattern': {'source.fname': 1, 'source.location': 1}, 'keyValue': {'source.fname': 'apple', 'source.location': 'fujian'}, 'errmsg': 'E11000 duplicate key error collection: runmydb.sites2 index: source.fname_1_source.location_1 dup key: { source.fname: \"apple\", source.location: \"fujian\" }'}\n"
     ]
    }
   ],
   "source": [
    "# from pymongo.errors import DuplicateKeyError\n",
    "# try:\n",
    "#     mycol2.insert_one({'source': {'fname': 'apple', 'location': 'fujian'}, 'price': 66, 'stock': 33})\n",
    "# except DuplicateKeyError as e:\n",
    "#     print(e)"
   ]
  },
  {
   "cell_type": "markdown",
   "metadata": {},
   "source": [
    "查询"
   ]
  },
  {
   "cell_type": "code",
   "execution_count": 53,
   "metadata": {},
   "outputs": [
    {
     "data": {
      "text/plain": [
       "{'_id': ObjectId('5f9fb39b1972147aec0a3a23'),\n",
       " 'source': {'fname': 'apple', 'location': 'fujian'},\n",
       " 'price': 65,\n",
       " 'stock': 30}"
      ]
     },
     "execution_count": 53,
     "metadata": {},
     "output_type": "execute_result"
    }
   ],
   "source": [
    "mycol2.find_one()"
   ]
  },
  {
   "cell_type": "code",
   "execution_count": 54,
   "metadata": {},
   "outputs": [
    {
     "name": "stdout",
     "output_type": "stream",
     "text": [
      "{'source': {'fname': 'apple'}, 'price': 65}\n",
      "{'source': {'fname': 'apple'}, 'price': 55}\n",
      "{'source': {'fname': 'pear'}, 'price': 70}\n",
      "{'source': {'fname': 'banana'}, 'price': 65}\n",
      "{'source': {'fname': 'orange'}, 'price': 70}\n"
     ]
    }
   ],
   "source": [
    "# for x in mycol2.find({},{ \"_id\": 0, \"source.fname\": 1, \"price\": 1 }): # 将要返回的字段对应值设置为 1\n",
    "#     print(x)"
   ]
  },
  {
   "cell_type": "code",
   "execution_count": 55,
   "metadata": {},
   "outputs": [
    {
     "name": "stdout",
     "output_type": "stream",
     "text": [
      "{'_id': ObjectId('5f9fb39b1972147aec0a3a23'), 'source': {'fname': 'apple', 'location': 'fujian'}, 'price': 65, 'stock': 30}\n",
      "{'_id': ObjectId('5f9fb39b1972147aec0a3a26'), 'source': {'fname': 'banana', 'location': 'taiwan'}, 'price': 65, 'stock': 50}\n"
     ]
    }
   ],
   "source": [
    "# for x in mycol2.find({'price': 65}): \n",
    "#     print(x)"
   ]
  },
  {
   "cell_type": "code",
   "execution_count": 56,
   "metadata": {},
   "outputs": [
    {
     "name": "stdout",
     "output_type": "stream",
     "text": [
      "{'_id': ObjectId('5f9fb39b1972147aec0a3a25'), 'source': {'fname': 'pear', 'location': 'fujian'}, 'price': 70, 'stock': 30}\n",
      "{'_id': ObjectId('5f9fb39b1972147aec0a3a27'), 'source': {'fname': 'orange', 'location': 'taiwan'}, 'price': 70, 'stock': 20}\n"
     ]
    }
   ],
   "source": [
    "# for x in mycol2.find({'price': {'$gt': 65}}): \n",
    "#     print(x)"
   ]
  },
  {
   "cell_type": "code",
   "execution_count": 63,
   "metadata": {},
   "outputs": [
    {
     "name": "stdout",
     "output_type": "stream",
     "text": [
      "{'_id': ObjectId('5f9fb39b1972147aec0a3a23'), 'source': {'fname': 'apple', 'location': 'fujian'}, 'price': 65, 'stock': 30}\n",
      "{'_id': ObjectId('5f9fb39b1972147aec0a3a24'), 'source': {'fname': 'apple', 'location': 'beijing'}, 'price': 55, 'stock': 40}\n",
      "{'_id': ObjectId('5f9fb39b1972147aec0a3a25'), 'source': {'fname': 'pear', 'location': 'fujian'}, 'price': 70, 'stock': 30}\n",
      "{'_id': ObjectId('5f9fb39b1972147aec0a3a26'), 'source': {'fname': 'banana', 'location': 'taiwan'}, 'price': 65, 'stock': 50}\n",
      "{'_id': ObjectId('5f9fb39b1972147aec0a3a27'), 'source': {'fname': 'orange', 'location': 'taiwan'}, 'price': 70, 'stock': 20}\n",
      "inserted\n",
      "{'_id': ObjectId('5f9fb70e1972147aec0a3a29'), 'source': {'fname': 'berry', 'location': 'fujian'}, 'stock': 70}\n"
     ]
    }
   ],
   "source": [
    "# for x in mycol2.find({'price': {'$exists': 1}}):  # 存在\n",
    "#     print(x)\n",
    "# # mycol2.insert_one({'source': {'fname': 'berry', 'location': 'fujian'}, 'stock': 70})\n",
    "# print(\"inserted\")\n",
    "# for x in mycol2.find({'price': {'$exists': 0}}):  # 不存在\n",
    "#     print(x)"
   ]
  },
  {
   "cell_type": "markdown",
   "metadata": {},
   "source": [
    "聚合查询"
   ]
  },
  {
   "cell_type": "code",
   "execution_count": null,
   "metadata": {},
   "outputs": [],
   "source": [
    "# mongo\n",
    "# 索引信息  index_information()  返回一个字典 key是索引的名称 value是包含每个索引信息的字典\n",
    "import pymongo\n",
    "# pynongo.MongoClient()/连接MongoDB   后接数据库名，再接集合名(类似于关系型数据库中的表)\n",
    "# 插入 insert_one(dict)\n",
    "# 查询 find_one(dict) 或 find() /返回一个 curcor对象 /生成器  如find({'age': {'$gt': 20}})      \n",
    "# 更新 UpdataOne+bulk_write \n",
    "# 排序sort\n",
    "# 偏移 skip(offset) /忽略前offset个元素    \n",
    "# 数量限制 limit   \n",
    "# 计数 count 或 count_documents\n",
    "# 聚合 \n",
    "## 首先需要区分版本：pymongo.version.startswith('2.') 对应r = list(r['result']) 否则 对应 r = list(r)\n",
    "## $match  ｜  $group   ｜  "
   ]
  }
 ],
 "metadata": {
  "kernelspec": {
   "display_name": "Python 3.7.6 64-bit ('test': conda)",
   "metadata": {
    "interpreter": {
     "hash": "f81bfa62546b5acd010bba34cbc3b7d713076d6bfa1f63adc66385242266249f"
    }
   },
   "name": "Python 3.7.6 64-bit ('test': conda)"
  },
  "language_info": {
   "codemirror_mode": {
    "name": "ipython",
    "version": 3
   },
   "file_extension": ".py",
   "mimetype": "text/x-python",
   "name": "python",
   "nbconvert_exporter": "python",
   "pygments_lexer": "ipython3",
   "version": "3.7.6-final"
  },
  "orig_nbformat": 2
 },
 "nbformat": 4,
 "nbformat_minor": 2
}
