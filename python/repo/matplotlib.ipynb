{
 "cells": [
  {
   "cell_type": "code",
   "execution_count": null,
   "metadata": {},
   "outputs": [],
   "source": [
    "import matplotlib\n",
    "matplotlib.use('Agg')\n",
    "import matplotlib.pyplot as plt\n",
    "\n",
    "plt.clf()\n",
    "plt.plot(x_vals, y_vals)\n",
    "plt.xlabel('iteration')\n",
    "plt.ylabel(name)\n",
    "plt.savefig(os.path.join(path, name.replace(' ', '_')+'.jpg'))"
   ]
  },
  {
   "cell_type": "code",
   "execution_count": null,
   "metadata": {},
   "outputs": [],
   "source": [
    "plt.plot(x, sigmoid_prob, label=\"Sigmoid\")\n",
    "plt.plot(x, normal_prob, label=\"Normal\")\n",
    "plt.legend() # 图例, 会显示label的内容\n",
    "plt.tight_layout() # 会自动调整子图参数，使之填充整个图像区域\n",
    "plt.show()"
   ]
  }
 ],
 "metadata": {
  "language_info": {
   "name": "python"
  },
  "orig_nbformat": 4
 },
 "nbformat": 4,
 "nbformat_minor": 2
}
