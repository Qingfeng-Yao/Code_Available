{
 "cells": [
  {
   "cell_type": "code",
   "execution_count": 1,
   "metadata": {},
   "outputs": [
    {
     "name": "stdout",
     "output_type": "stream",
     "text": [
      "sys.version_info(major=3, minor=6, micro=13, releaselevel='final', serial=0)\n",
      "True\n"
     ]
    }
   ],
   "source": [
    "# python版本\n",
    "import sys\n",
    "print(sys.version_info)\n",
    "print(sys.version_info > (3, 0))"
   ]
  },
  {
   "cell_type": "code",
   "execution_count": null,
   "metadata": {},
   "outputs": [],
   "source": [
    "# python中下划线(单下划线和双下划线)\n",
    "    # (1): __foo__: 一种约定，python内部的名字，用来区别其他用户自定义的命名，以防冲突\n",
    "\t# __new__是一个静态方法，而__init__是一个实例方法\n",
    "    \t    # __init__是当一个实例被创建的时候初始化的方法，但是它并不是实例化调用的第一个方法\n",
    "\t    # __new__才是实例化对象调用的第一个方法\n",
    "\t    # 只有在__new__返回一个cls的实例时后面的__init__才能被调用\n",
    "\t    # __new__会返回一个创建的实例，而__init__什么都不返回\n",
    "            # 当创建一个新实例时调用__new__，初始化一个实例时用__init__\n",
    "        # __metaclass__是创建类时起作用\n",
    "\t    # __metaclass__,__new__和__init__分别使用在类创建、实例创建和实例初始化的时候\n",
    "        # __repr__: 自定义对象输出\n",
    "        # 比较:\n",
    "\t    # def __eq__(self, other):\n",
    "\t    #     return self.value == other.value\n",
    "\n",
    "\t    # def __lt__(self, other):\n",
    "\t    #     return self.value < other.value\n",
    "\n",
    "\t    # def __ge__(self, other):\n",
    "\t    #     return self.value >= other.value\n",
    "        # 若想要让对象成为迭代器，则使用__iter__()，这允许我们调用next()\n",
    "\t# 在类里定义__slots__ = ('name', 'age') \n",
    "\t    # 用tuple定义允许绑定的属性名称，如只允许对实例添加name和age属性\n",
    "\t    # 使用__slots__要注意，__slots__定义的属性仅对当前类起作用，对继承的子类是不起作用的\n",
    "\t# __del__, __call__, __len__(), __str__(): 让一个类的实例像函数一样被调用，这些特殊方法，也叫魔法方法\n",
    "    # (2): _foo: 一种约定，用来指定变量私有\n",
    "    \t# 不能用from module import * 导入，其他方面和公有一样访问\n",
    "    # (3): __foo: 解析器用_classname__foo来代替这个名字，以区别和其他类相同的命名\n",
    "    \t# 它无法直接像公有成员一样随便访问，通过对象名._类名__xxx这样的方式可以访问"
   ]
  },
  {
   "cell_type": "code",
   "execution_count": 2,
   "metadata": {},
   "outputs": [
    {
     "name": "stdout",
     "output_type": "stream",
     "text": [
      "10\n",
      "10\n"
     ]
    },
    {
     "ename": "AttributeError",
     "evalue": "'person' object has no attribute '__age'",
     "output_type": "error",
     "traceback": [
      "\u001b[0;31m---------------------------------------------------------------------------\u001b[0m",
      "\u001b[0;31mAttributeError\u001b[0m                            Traceback (most recent call last)",
      "\u001b[0;32m<ipython-input-2-8f5d71d9483e>\u001b[0m in \u001b[0;36m<module>\u001b[0;34m\u001b[0m\n\u001b[1;32m      9\u001b[0m \u001b[0mprint\u001b[0m\u001b[0;34m(\u001b[0m\u001b[0mt\u001b[0m\u001b[0;34m.\u001b[0m\u001b[0mage\u001b[0m\u001b[0;34m(\u001b[0m\u001b[0;34m)\u001b[0m\u001b[0;34m)\u001b[0m\u001b[0;34m\u001b[0m\u001b[0;34m\u001b[0m\u001b[0m\n\u001b[1;32m     10\u001b[0m \u001b[0mprint\u001b[0m\u001b[0;34m(\u001b[0m\u001b[0mt\u001b[0m\u001b[0;34m.\u001b[0m\u001b[0m_person__age\u001b[0m\u001b[0;34m)\u001b[0m\u001b[0;34m\u001b[0m\u001b[0;34m\u001b[0m\u001b[0m\n\u001b[0;32m---> 11\u001b[0;31m \u001b[0mprint\u001b[0m\u001b[0;34m(\u001b[0m\u001b[0mt\u001b[0m\u001b[0;34m.\u001b[0m\u001b[0m__age\u001b[0m\u001b[0;34m)\u001b[0m\u001b[0;34m\u001b[0m\u001b[0;34m\u001b[0m\u001b[0m\n\u001b[0m",
      "\u001b[0;31mAttributeError\u001b[0m: 'person' object has no attribute '__age'"
     ]
    }
   ],
   "source": [
    "# python中下划线(3): __foo\n",
    "\t# 面向对象中实现只读属性: 将对象私有化，通过共有方法提供一个读取数据的接口\n",
    "class person:\n",
    "    def __init__(self, x):\n",
    "        self.__age = 10\n",
    "    def age(self):\n",
    "        return self.__age\n",
    "t = person(22)\n",
    "print(t.age())\n",
    "print(t._person__age)\n",
    "print(t.__age)"
   ]
  },
  {
   "cell_type": "code",
   "execution_count": 5,
   "metadata": {},
   "outputs": [
    {
     "name": "stdout",
     "output_type": "stream",
     "text": [
      ", world!\n",
      "{'_MyClass__superprivate': 'Hello', '_semiprivate': ', world!'}\n"
     ]
    }
   ],
   "source": [
    "# python中下划线(2)(3): _foo和__foo\n",
    "class MyClass():\n",
    "    def __init__(self):\n",
    "        self.__superprivate = \"Hello\"\n",
    "        self._semiprivate = \", world!\"\n",
    "mc = MyClass()\n",
    "print(mc._semiprivate)\n",
    "print(mc.__dict__)"
   ]
  },
  {
   "cell_type": "code",
   "execution_count": null,
   "metadata": {},
   "outputs": [],
   "source": [
    "# 迭代器和生成器\n",
    "    # (1): 将列表生成式中[]改成()之后数据结构会改变，从列表变为生成器\n",
    "        # 通过列表生成式，可以直接创建一个列表\n",
    "        # 但是，受到内存限制，列表容量肯定是有限的\n",
    "        # 而且，创建一个包含百万元素的列表，会占用很大的内存空间\n",
    "        # 如，我们只需要访问前面的几个元素，后面大部分元素所占的空间都是浪费的\n",
    "        # 因此，没有必要创建完整的列表(节省大量内存空间)\n",
    "        # 可以采用生成器：边循环，边计算的机制—>generator"
   ]
  },
  {
   "cell_type": "code",
   "execution_count": 6,
   "metadata": {},
   "outputs": [
    {
     "name": "stdout",
     "output_type": "stream",
     "text": [
      "[0, 1, 4, 9, 16, 25, 36, 49, 64, 81]\n",
      "<generator object <genexpr> at 0x7f75ed4bd830>\n"
     ]
    }
   ],
   "source": [
    "# 迭代器和生成器(1): []改成()\n",
    "L = [x*x for x in range(10)]\n",
    "print(L)\n",
    "g = (x*x for x in range(10))\n",
    "print(g)"
   ]
  },
  {
   "cell_type": "code",
   "execution_count": null,
   "metadata": {},
   "outputs": [],
   "source": [
    "# 鸭子类型\n",
    "    # (1): 概念\n",
    "    \t# 我们并不关心对象是什么类型，到底是不是鸭子，只关心行为\n",
    "    \t# 比如在python中，有很多file-like的东西，比如StringIO, GzipFile, socket，它们有很多相同的方法，我们把它们当作文件使用\n",
    "    \t# 又比如list.extend()方法中，我们并不关心它的参数是不是list，只要它是可迭代的，所以它的参数可以是list/tuple/dict/字符串/生成器等\n",
    "    \t# 鸭子类型在动态语言中经常使用，非常灵活"
   ]
  },
  {
   "cell_type": "code",
   "execution_count": null,
   "metadata": {},
   "outputs": [],
   "source": [
    "# 单例模式\n",
    "    # (1): 概念\n",
    "        # 一种常用的软件设计模式\n",
    "        # 在它的核心结构中只包含一个被称为单例类的特殊类\n",
    "        # 通过单例模式可以保证系统中一个类只有一个实例而且该实例易于外界访问\n",
    "        # 从而方便对实例个数进行控制并节约系统资源\n",
    "        # 如果希望在系统中某个类的对象只能存在一个，单例模式是最好的解决方案\n",
    "    # (2): 实现\n",
    "        # __new__()在__init__()之前被调用，用于生成实例对象\n",
    "        # 利用这个方法和类的属性的特点可以实现单例模式\n",
    "        # 单例模式是指创建唯一对象，单例模式设计的类只能实例"
   ]
  },
  {
   "cell_type": "code",
   "execution_count": 7,
   "metadata": {},
   "outputs": [
    {
     "name": "stdout",
     "output_type": "stream",
     "text": [
      "True\n"
     ]
    }
   ],
   "source": [
    "# 单例模式(2): 实现\n",
    "    # 使用__new__方法，new是真正创建实例对象的方法，所以重写基类的new方法\n",
    "class Singleton(object): \n",
    "    def __new__(cls, *args, **kw):\n",
    "        if not hasattr(cls, '_instance'):\n",
    "            orig = super(Singleton, cls)\n",
    "            cls._instance = orig.__new__(cls, *args, **kw)\n",
    "        return cls._instance\n",
    "\n",
    "class MyClass(Singleton):\n",
    "    pass\n",
    "c1=MyClass()\n",
    "c2=MyClass()\n",
    "print(c1 is c2)"
   ]
  },
  {
   "cell_type": "code",
   "execution_count": 8,
   "metadata": {},
   "outputs": [
    {
     "name": "stdout",
     "output_type": "stream",
     "text": [
      "True\n"
     ]
    }
   ],
   "source": [
    "# 单例模式(2): 实现\n",
    "    # 装饰器版本\n",
    "def singleton(cls): \n",
    "    instances = {}\n",
    "    def getinstance(*args, **kw):\n",
    "        if cls not in instances:\n",
    "            instances[cls] = cls(*args, **kw)\n",
    "        return instances[cls]\n",
    "    return getinstance\n",
    "\n",
    "@singleton\n",
    "class MyClass:\n",
    "    pass\n",
    "f1=MyClass()\n",
    "f2=MyClass()\n",
    "print(f1 is f2)"
   ]
  },
  {
   "cell_type": "code",
   "execution_count": 9,
   "metadata": {},
   "outputs": [
    {
     "name": "stdout",
     "output_type": "stream",
     "text": [
      "True\n"
     ]
    }
   ],
   "source": [
    "# 单例模式(2): 实现\n",
    "    # type是python的元类\n",
    "    # 元类是用于创建类对象的类\n",
    "    # 类对象创建实例对象时一定要调用call方法\n",
    "    # 因此在调用call时候保证始终只创建一个实例即可\n",
    "class Singleton(type):  \n",
    "    def __call__(cls, *args, **kwargs):\n",
    "        if not hasattr(cls, '_instance'):\n",
    "            cls._instance = super(Singleton, cls).__call__(*args, **kwargs)\n",
    "        return cls._instance\n",
    "\n",
    "class Foo(metaclass=Singleton):\n",
    "    pass\n",
    "\n",
    "foo1 = Foo()\n",
    "foo2 = Foo()\n",
    "print(foo1 is foo2)"
   ]
  },
  {
   "cell_type": "code",
   "execution_count": null,
   "metadata": {},
   "outputs": [],
   "source": [
    "# 单例模式(2): 实现\n",
    "    # import方法    \n",
    "    # 作为python的模块是天然的单例模式\n",
    "class My_Singleton(object): # mysingleton.py   \n",
    "    def foo(self):\n",
    "        pass\n",
    "\n",
    "my_singleton = My_Singleton()\n",
    "\n",
    "from mysingleton import my_singleton\n",
    "\n",
    "my_singleton.foo()"
   ]
  },
  {
   "cell_type": "code",
   "execution_count": null,
   "metadata": {},
   "outputs": [],
   "source": [
    "# 闭包\n",
    "    # (1): 概念 \n",
    "        # 闭包(closure)是函数式编程的重要的语法结构\n",
    "        # 闭包也是一种组织代码的结构，它同样提高了代码的可重复使用性\n",
    "        # 当一个内嵌函数引用其外部作用域的变量，我们就会得到一个闭包\n",
    "    # (2): 创建\n",
    "        # 创建一个闭包必须满足以下几点:\n",
    "            # 必须有一个内嵌函数\n",
    "            # 内嵌函数必须引用外部函数中的变量\n",
    "            # 外部函数的返回值必须是内嵌函数\n",
    "    # (3): 闭包的延迟绑定\n",
    "        # 内部函数被调用时，参数的值在闭包内进行查找"
   ]
  },
  {
   "cell_type": "code",
   "execution_count": 10,
   "metadata": {},
   "outputs": [
    {
     "name": "stdout",
     "output_type": "stream",
     "text": [
      "[6, 6, 6, 6]\n"
     ]
    }
   ],
   "source": [
    "# 闭包(3): 闭包的延迟绑定\n",
    "    # 当任何由multipliers()返回的函数被调用时\n",
    "    # i的值将在附近的范围进行查找\n",
    "    # 那时，不管返回的函数是否被调用\n",
    "    # for循环已经完成，i被赋予了最终的值3\n",
    "def multipliers():\n",
    "    return [lambda x: i*x for i in range(4)]\n",
    "print([m(2) for m in multipliers()])"
   ]
  },
  {
   "cell_type": "code",
   "execution_count": 11,
   "metadata": {},
   "outputs": [],
   "source": [
    "# 装饰器\n",
    "    # (1): 概念\n",
    "\t# 面向切面编程AOP(Aspect Oriented Programming)\n",
    "    \t# 装饰器是一个很著名的设计模式\n",
    "\t# 经常被用于有切面需求的场景\n",
    "\t# 较为经典的有插入日志、性能测试、事务处理等\n",
    "\t# 装饰器是解决这类问题的绝佳设计\n",
    "\t# 有了装饰器，我们就可以抽离出大量函数中与函数功能本身无关的雷同代码并继续重用\n",
    "\t# 概括的讲，装饰器的作用就是为已经存在的对象添加额外的功能\n",
    "    # (2): 实现\n",
    "    # (3): 内置装饰器"
   ]
  },
  {
   "cell_type": "code",
   "execution_count": 12,
   "metadata": {},
   "outputs": [
    {
     "name": "stdout",
     "output_type": "stream",
     "text": [
      "Hello backbp, 2021 Happy\n"
     ]
    },
    {
     "ename": "TimeException",
     "evalue": "函数已过时",
     "output_type": "error",
     "traceback": [
      "\u001b[0;31m---------------------------------------------------------------------------\u001b[0m",
      "\u001b[0;31mTimeException\u001b[0m                             Traceback (most recent call last)",
      "\u001b[0;32m<ipython-input-12-35237b0a473b>\u001b[0m in \u001b[0;36m<module>\u001b[0;34m\u001b[0m\n\u001b[1;32m     38\u001b[0m \u001b[0;34m\u001b[0m\u001b[0m\n\u001b[1;32m     39\u001b[0m \u001b[0mtest_1\u001b[0m\u001b[0;34m(\u001b[0m\u001b[0;34m\"backbp\"\u001b[0m\u001b[0;34m)\u001b[0m\u001b[0;34m\u001b[0m\u001b[0;34m\u001b[0m\u001b[0m\n\u001b[0;32m---> 40\u001b[0;31m \u001b[0mtest_2\u001b[0m\u001b[0;34m(\u001b[0m\u001b[0;34m\"backbp\"\u001b[0m\u001b[0;34m)\u001b[0m\u001b[0;34m\u001b[0m\u001b[0;34m\u001b[0m\u001b[0m\n\u001b[0m",
      "\u001b[0;32m<ipython-input-12-35237b0a473b>\u001b[0m in \u001b[0;36mwrapper\u001b[0;34m(*args, **kwargs)\u001b[0m\n\u001b[1;32m     25\u001b[0m             \u001b[0mfunc\u001b[0m\u001b[0;34m(\u001b[0m\u001b[0;34m*\u001b[0m\u001b[0margs\u001b[0m\u001b[0;34m,\u001b[0m \u001b[0;34m**\u001b[0m\u001b[0mkwargs\u001b[0m\u001b[0;34m)\u001b[0m\u001b[0;34m\u001b[0m\u001b[0;34m\u001b[0m\u001b[0m\n\u001b[1;32m     26\u001b[0m         \u001b[0;32melse\u001b[0m\u001b[0;34m:\u001b[0m\u001b[0;34m\u001b[0m\u001b[0;34m\u001b[0m\u001b[0m\n\u001b[0;32m---> 27\u001b[0;31m             \u001b[0;32mraise\u001b[0m \u001b[0mTimeException\u001b[0m\u001b[0;34m(\u001b[0m\u001b[0;34m\"函数已过时\"\u001b[0m\u001b[0;34m)\u001b[0m\u001b[0;34m\u001b[0m\u001b[0;34m\u001b[0m\u001b[0m\n\u001b[0m\u001b[1;32m     28\u001b[0m \u001b[0;34m\u001b[0m\u001b[0m\n\u001b[1;32m     29\u001b[0m     \u001b[0;32mreturn\u001b[0m \u001b[0mwrapper\u001b[0m\u001b[0;34m\u001b[0m\u001b[0;34m\u001b[0m\u001b[0m\n",
      "\u001b[0;31mTimeException\u001b[0m: 函数已过时"
     ]
    }
   ],
   "source": [
    "# 装饰器(2): 实现\n",
    "    # 写一个判断时间的装饰器\n",
    "import datetime\n",
    "\n",
    "class TimeException(Exception):\n",
    "    def __init__(self, exception_info):\n",
    "        super().__init__()\n",
    "        self.info = exception_info\n",
    "\n",
    "    def __str__(self):\n",
    "        return self.info\n",
    "\n",
    "def timecheck_1(func):\n",
    "    def wrapper(*args, **kwargs):\n",
    "        if datetime.datetime.now().year == 2021:\n",
    "            func(*args, **kwargs)\n",
    "        else:\n",
    "            raise TimeException(\"函数已过时\")\n",
    "\n",
    "    return wrapper\n",
    "\n",
    "def timecheck_2(func):\n",
    "    def wrapper(*args, **kwargs):\n",
    "        if datetime.datetime.now().year == 2020:\n",
    "            func(*args, **kwargs)\n",
    "        else:\n",
    "            raise TimeException(\"函数已过时\")\n",
    "\n",
    "    return wrapper\n",
    "\n",
    "@timecheck_1\n",
    "def test_1(name):\n",
    "    print(\"Hello {}, 2021 Happy\".format(name))\n",
    "\n",
    "@timecheck_2\n",
    "def test_2(name):\n",
    "    print(\"Hello {}, 2020 Happy\".format(name))\n",
    "\n",
    "test_1(\"backbp\")\n",
    "test_2(\"backbp\")"
   ]
  },
  {
   "cell_type": "code",
   "execution_count": 14,
   "metadata": {},
   "outputs": [
    {
     "name": "stdout",
     "output_type": "stream",
     "text": [
      "Time taken in fib: 0.3093498\n",
      "832040\n",
      "Time taken in fib_m: 0.0001593\n",
      "832040\n"
     ]
    }
   ],
   "source": [
    "# 装饰器(2): 实现\n",
    "    # 计算时间的装饰器\n",
    "import time\n",
    "def timeit(fn): \n",
    "    # *args and **kwargs are to support positional and named arguments of fn\n",
    "    def get_time(*args, **kwargs): \n",
    "        start = time.time() \n",
    "        output = fn(*args, **kwargs)\n",
    "        print(f\"Time taken in {fn.__name__}: {time.time() - start:.7f}\")\n",
    "        return output  # make sure that the decorator returns the output of fn\n",
    "    return get_time \n",
    "\n",
    "def fib_helper(n):\n",
    "    if n < 2:\n",
    "        return n\n",
    "    return fib_helper(n - 1) + fib_helper(n - 2)\n",
    "\n",
    "def fib_m_helper(n, computed):\n",
    "    if n in computed:\n",
    "        return computed[n]\n",
    "    computed[n] = fib_m_helper(n - 1, computed) + fib_m_helper(n - 2, computed)\n",
    "    return computed[n]\n",
    "\n",
    "@timeit\n",
    "def fib(n):\n",
    "    return fib_helper(n)\n",
    "\n",
    "@timeit\n",
    "def fib_m(n):\n",
    "    return fib_m_helper(n, {0: 0, 1: 1})\n",
    "\n",
    "print(fib(30))\n",
    "print(fib_m(30))"
   ]
  },
  {
   "cell_type": "code",
   "execution_count": 15,
   "metadata": {},
   "outputs": [
    {
     "name": "stdout",
     "output_type": "stream",
     "text": [
      "Time taken in fib: 0.0000699\n",
      "12586269025\n",
      "Time taken in fib_m: 0.0000405\n",
      "12586269025\n"
     ]
    }
   ],
   "source": [
    "# 装饰器(3): 内置装饰器\n",
    "    # 上述的memoization是缓存的一种形式，python中提供了内置装饰器让函数能够进行缓存\n",
    "    # lru表示least recently used\n",
    "import functools\n",
    "\n",
    "@functools.lru_cache()\n",
    "def fib_helper(n): # 重用之前已经计算过的数字\n",
    "    if n < 2:\n",
    "        return n\n",
    "    return fib_helper(n - 1) + fib_helper(n - 2)\n",
    "\n",
    "@timeit\n",
    "def fib(n):\n",
    "    \"\"\" fib is a wrapper function so that later we can change its behavior\n",
    "    at the top level without affecting the behavior at every recursion step.\n",
    "    \"\"\"\n",
    "    return fib_helper(n)\n",
    "\n",
    "print(fib(50))\n",
    "print(fib_m(50))"
   ]
  },
  {
   "cell_type": "code",
   "execution_count": null,
   "metadata": {},
   "outputs": [],
   "source": [
    "# 关键字\n",
    "    # (1): import\n",
    "\t# from parts import * \n",
    "    \t# 若在parts.py的第一行中指定__all__ = ['Encoder', 'Decoder', 'Loss']，则只会导入Encoder, Decoder, Loss\n",
    "    # (2): is\n",
    "\t# is是对比地址，==是对比值\n",
    "\t# is: 比较的是两个对象的id值是否相等，也就是比较俩对象是否为同一个实例对象，是否指向同一个内存地址\n",
    "    \t# ==: 比较的两个对象的内容/值是否相等，默认会调用对象的eq()方法\n",
    "    # (3): yield\n",
    "\t# 它首先是个return，就是在程序中返回某个值，返回之后程序就不再往下运行了\n",
    "\t# 看做return之后再把它看做一个是生成器(generator)的一部分(带yield的函数才是真正的迭代器)\n",
    "\t# yield from后面加上可迭代对象，它可以把可迭代对象里的每个元素一个一个的yield出来\n",
    "    # (4): global与nonlocal\n",
    "    \t# 第一，两者的功能不同\n",
    "\t    # global关键字修饰变量后标识该变量是全局变量，对该变量进行修改就是修改全局变量\n",
    "\t    # 而nonlocal关键字修饰变量后标识该变量是上一级函数中的局部变量\n",
    "\t    # 如果上一级函数中不存在该局部变量，nonlocal位置会发生错误(最上层的函数使用nonlocal修饰变量必定会报错)\n",
    "    \t# 第二，两者使用的范围不同\n",
    "\t    # global关键字可以用在任何地方，包括最上层函数中和嵌套函数中\n",
    "\t    # 即使之前未定义该变量，global修饰后也可以直接使用\n",
    "\t    # 而nonlocal关键字只能用于嵌套函数中，并且外层函数中定义了相应的局部变量，否则会发生错误(见第一)"
   ]
  },
  {
   "cell_type": "code",
   "execution_count": 16,
   "metadata": {},
   "outputs": [
    {
     "name": "stdout",
     "output_type": "stream",
     "text": [
      "starting...\n",
      "4\n",
      "********************\n",
      "res: None\n",
      "4\n"
     ]
    }
   ],
   "source": [
    "# 关键字(3): yield\n",
    "def foo():\n",
    "    print(\"starting...\")\n",
    "    while True:\n",
    "        res = yield 4\n",
    "        print(\"res:\",res)\n",
    "g = foo() # 因为foo函数中有yield关键字，所以foo函数并不会真的执行，而是先得到一个生成器g(相当于一个对象)\n",
    "print(next(g)) # 直到调用next方法，foo函数正式开始执行，先执行foo函数中的print方法，然后进入while循环\n",
    "# 程序遇到yield关键字，然后把yield看成return，return了一个4之后，程序停止，并没有执行赋值给res操作，此时next(g)语句执行完成，所以输出前两行\n",
    "print(\"*\"*20) \n",
    "print(next(g)) # 这个时候和上面那个差不多，不过不同的是，这个时候是从刚才那个next程序停止的地方开始执行的，也就是要执行res的赋值操作\n",
    "# 这时候要注意，这个时候赋值操作的右边是没有值的(因为刚才那个是return出去了，并没有给赋值操作的左边传参数)\n",
    "# 所以这个时候res赋值是None，所以接着下面的输出就是res: None\n",
    "# 程序会继续在while里执行，又一次碰到yield，这个时候同样return出4，然后程序停止，print函数输出的4就是这次return出的4"
   ]
  },
  {
   "cell_type": "code",
   "execution_count": null,
   "metadata": {},
   "outputs": [],
   "source": [
    "# python新式类和经典类\n",
    "    # (1): 区别\n",
    "    \t# 在python里凡是继承了object的类，都是新式类\n",
    "\t# python3里只有新式类\n",
    "\t# python2里面继承object的是新式类，没有写父类的是经典类\n",
    "\t# 经典类目前在python里基本没有应用\n",
    "\t# 保持class与type的统一: 对新式类的实例执行a.__class__与type(a)的结果是一致的，对于旧式类来说就不一样了\n",
    "\t# 对于多重继承的属性搜索顺序不一样: 新式类是采用广度优先搜索，旧式类采用深度优先搜索"
   ]
  },
  {
   "cell_type": "code",
   "execution_count": null,
   "metadata": {},
   "outputs": [],
   "source": [
    "# 复杂语句结构\n",
    "    # \"train\" if train else \"valid\" if val else \"test\"\n",
    "    # for t in s for k in t\n",
    "    # [1 if v>0 else 0 for v in a]\n",
    "    # splits = [split_set for (requested, split_set) in [(train, 'train'), (test, 'test')] if requested]\n",
    "    # with urllib.request.urlopen(url) as response, open(filename, 'wb') as outfile:"
   ]
  },
  {
   "cell_type": "code",
   "execution_count": null,
   "metadata": {},
   "outputs": [],
   "source": [
    "# 异常\n",
    "    # Exception: 常规错误的基类\n",
    "\t# try: ... except Exception as e: ...\n",
    "\t# raise Exception()\n",
    "    # RuntimeError: 一般的运行时错误\n",
    "\t# raise RuntimeError()\n",
    "    # KeyError\n",
    "    # 也可使用assert bool, \"print error msg\"\n",
    "    # raise NotImplementedError(msg)\n",
    "\n",
    "    # raise KeyboardInterrupt 退出程序运行"
   ]
  },
  {
   "cell_type": "code",
   "execution_count": null,
   "metadata": {},
   "outputs": [],
   "source": [
    "# 数据类型\n",
    "    # (1): 数据类型转换\n",
    "\t# 获取整数的各位数: 将数字转换成一个字符数组(python中的字符串)(如A = map(int, str(N)))\n",
    "\t# 或者不断地把数字除以10，取整数的最后一个数字\n",
    "    # (2): python自省\n",
    "\t# 面向对象的语言所写的程序在运行时，所能知道对象的类型\n",
    "\t# 简单一句就是运行时能够获得对象的类型\n",
    "\t# 比如type(),dir(),getattr(),hasattr(),isinstance()\n",
    "    \t# getattr()传入对象名字和属性名称\n",
    "    \t# dir()获取对象所有的属性和方法"
   ]
  },
  {
   "cell_type": "code",
   "execution_count": 17,
   "metadata": {},
   "outputs": [
    {
     "name": "stdout",
     "output_type": "stream",
     "text": [
      "<class 'list'> <class 'dict'> <class 'bool'>\n",
      "True\n"
     ]
    }
   ],
   "source": [
    "# 数据类型(2): python自省\n",
    "a = [1,2,3]\n",
    "b = {'a':1,'b':2,'c':3}\n",
    "c = True\n",
    "print(type(a),type(b),type(c)) # <type 'list'> <type 'dict'> <type 'bool'>\n",
    "print(isinstance(a,list))  # True"
   ]
  },
  {
   "cell_type": "code",
   "execution_count": null,
   "metadata": {},
   "outputs": [],
   "source": [
    "# 变量\n",
    "    # (1): 分类\n",
    "\t# 类变量: 可在类的所有实例之间共享的值\n",
    "\t    # 也就是说，它们不是单独分配给每个实例的\n",
    "\t    # 例如下面第一个例子中，num_of_instance就是类变量，用于跟踪存在着多少个Test的实例\n",
    "\t# 实例变量: 实例化之后，每个实例单独拥有的变量\n",
    "    # (2): 变量的作用域(变量查找顺序)\n",
    "    \t# 函数作用域的LEGB顺序: L: local 函数内部作用域; E: enclosing 函数内部与内嵌函数之间; G: global 全局作用域; B: build-in 内置作用域\n",
    "    \t# python在函数里面的查找分为4种，称之为LEGB，也正是按照这顺序来查找的"
   ]
  },
  {
   "cell_type": "code",
   "execution_count": 18,
   "metadata": {},
   "outputs": [
    {
     "name": "stdout",
     "output_type": "stream",
     "text": [
      "0\n",
      "1\n",
      "jack 2\n",
      "lucy 2\n"
     ]
    }
   ],
   "source": [
    "# 变量(1): 分类\n",
    "class Test(object):  \n",
    "    num_of_instance = 0  \n",
    "    def __init__(self, name):  \n",
    "        self.name = name  \n",
    "        Test.num_of_instance += 1  \n",
    "  \n",
    "print(Test.num_of_instance)   # 0\n",
    "t1 = Test('jack')  \n",
    "print(Test.num_of_instance)   # 1\n",
    "t2 = Test('lucy')  \n",
    "print(t1.name , t1.num_of_instance)  # jack 2\n",
    "print(t2.name , t2.num_of_instance)  # lucy 2"
   ]
  },
  {
   "cell_type": "code",
   "execution_count": 19,
   "metadata": {},
   "outputs": [
    {
     "name": "stdout",
     "output_type": "stream",
     "text": [
      "bbb\n",
      "aaa\n",
      "aaa\n"
     ]
    }
   ],
   "source": [
    "# 变量(1): 分类\n",
    "class Person:\n",
    "    name=\"aaa\"\n",
    "\n",
    "p1=Person()\n",
    "p2=Person()\n",
    "p1.name=\"bbb\" # 实例调用了类变量，p1.name一开始是指向的类变量name=\"aaa\"\n",
    "# 但是在实例的作用域里把类变量的引用改变了，就变成了一个实例变量，self.name不再引用Person的类变量name了\n",
    "print(p1.name)  # bbb\n",
    "print(p2.name)  # aaa\n",
    "print(Person.name)  # aaa"
   ]
  },
  {
   "cell_type": "code",
   "execution_count": 20,
   "metadata": {},
   "outputs": [
    {
     "name": "stdout",
     "output_type": "stream",
     "text": [
      "[1]\n",
      "[1]\n",
      "[1]\n"
     ]
    }
   ],
   "source": [
    "# 变量(1): 分类\n",
    "class Person:\n",
    "    name=[]\n",
    "\n",
    "p1=Person()\n",
    "p2=Person()\n",
    "p1.name.append(1)\n",
    "print(p1.name)  # [1]\n",
    "print(p2.name)  # [1]\n",
    "print(Person.name)  # [1]"
   ]
  },
  {
   "cell_type": "code",
   "execution_count": null,
   "metadata": {},
   "outputs": [],
   "source": [
    "# 对象\n",
    "    # (1): 分类\n",
    "    \t# 在python中，strings, tuples, 和numbers是不可更改的对象，而list, dict, set等则是可以修改的对象\n",
    "    \t# 当进行修改操作时，可变类型传递的是内存中的地址，也就是说，直接修改内存中的值，并没有开辟新的内存\n",
    "\t# 不可变类型被改变时，并没有改变原内存地址中的值，而是开辟一块新的内存\n",
    "\t# 将原地址中的值复制过去，对这块新开辟的内存中的值进行操作\n",
    "    \t# 当一个引用传递给函数的时候，函数自动复制一份引用，这个函数里的引用和外边的引用就没有关系了\n",
    "\t# 所以下面第一个例子里函数把引用指向了一个不可变对象，当函数返回的时候，外面的引用没任何影响\n",
    "\t# 而第二个例子就不一样了，函数内的引用指向的是可变对象，对它的操作就和定位了指针地址一样，在内存里进行修改\n",
    "    # (2): 面向对象\n",
    "    \t# 面向对象是相当于面向过程而言的\n",
    "\t# 面向过程语言是一种基于功能分析的，以算法为中心的程序设计方法\n",
    "\t# 而面向对象是一种基于结构分析的，以数据为中心的程序设计思想\n",
    "\t# 在面向对象语言中有一个很重要的东西，叫做类\n",
    "\t# 面向对象有三大特性：封装、继承、多态"
   ]
  },
  {
   "cell_type": "code",
   "execution_count": 1,
   "metadata": {},
   "outputs": [
    {
     "name": "stdout",
     "output_type": "stream",
     "text": [
      "func_out 94094887566144 94094887566144\n",
      "func_in 94094887566144\n",
      "re-point 94094887566176 94094887566176\n",
      "1\n"
     ]
    }
   ],
   "source": [
    "# 对象(1): 分类\n",
    "a = 1\n",
    "def fun(a):\n",
    "    print(\"func_in\",id(a))   \n",
    "    a = 2\n",
    "    print(\"re-point\",id(a), id(2))  \n",
    "print(\"func_out\",id(a), id(1))  \n",
    "fun(a)\n",
    "print(a)  # 1"
   ]
  },
  {
   "cell_type": "code",
   "execution_count": 2,
   "metadata": {},
   "outputs": [
    {
     "name": "stdout",
     "output_type": "stream",
     "text": [
      "func_out 139908699102536\n",
      "func_in 139908699102536\n",
      "[1]\n"
     ]
    }
   ],
   "source": [
    "# 对象(1): 分类\n",
    "a = []\n",
    "def fun(a):\n",
    "    print(\"func_in\",id(a))  \n",
    "    a.append(1)\n",
    "print(\"func_out\",id(a))    \n",
    "fun(a)\n",
    "print(a) "
   ]
  },
  {
   "cell_type": "code",
   "execution_count": null,
   "metadata": {},
   "outputs": [],
   "source": [
    "# 函数\n",
    "    # (1): 内置函数\n",
    "\t# enumerate(sequence, start=0): sequence为一个序列、迭代器或其他支持迭代对象；start为下标起始位置\n",
    "\t# bin函数得到二进制的字符串\n",
    "\t# int函数有两个参数，第二个参数指明进制，如int(a,2)将a转换成二进制整数\n",
    "\t# ord() | chr()\n",
    "    # (2): python函数式编程\n",
    "    \t# map | reduce | filter\n",
    "    # (3): 高阶函数\n",
    "    \t# map | reduce | filter | sorted\n",
    "    \t# map()函数接收两个参数，一个是函数，一个是Iterable(如列表)\n",
    "\t    # map将传入的函数依次作用到序列的每个元素，并把结果作为新的Iterator返回\n",
    "\t    # Iterator是惰性序列，因此通过list()函数让它把整个序列都计算出来并返回一个list\n",
    "    \t# reduce把一个函数作用在一个序列[x1, x2, x3, ...]上，这个函数必须接收两个参数\n",
    "\t    # reduce把结果继续和序列的下一个元素做累积计算\n",
    "\t    # reduce函数中的第三个参数为其中函数的第一个参数的初始值\n",
    "            # 在 functools 库下，自从 python3 以来不再是默认就可以使用的函数\n",
    "    \t# filter()函数用于过滤序列，接收一个函数和一个序列，把传入的函数依次作用于每个元素\n",
    "\t    # 然后根据返回值是True还是False决定保留还是丢弃该元素\n",
    "\t    # filter(str.isalnum, s.lower())\n",
    "    \t# sorted()函数可以接收一个key函数来实现自定义的排序\n",
    "\t    # 第三个参数reverse=True进行反向排序，默认是升序\n",
    "            # key仅仅支持一个参数\n",
    "            # key如何对两个参数做对比: from functools import cmp_to_key，然后key = cmp_to_key(lambda x,y: ...)\n",
    "            # 传入两个参数(x,y)对应于(self,other)，这里的self表示当前的数，而other是前面已经出现比较过的对象\n",
    "    # (4): 匿名函数\n",
    "\t# 关键字lambda表示匿名函数(和函数式编程有关)，冒号前面的x表示函数参数\n",
    "        # 返回值可结合and和or进行条件选择\n",
    "    # (5): 函数参数: *args和**kwargs\n",
    "    \t# 当你不确定你的函数里将要传递多少参数时你可以用*args，它可以传递任意数量的参数\n",
    "    \t# **kwargs允许你使用没有事先定义的参数名\n",
    "    \t# 也可以混着用，命名参数首先获得参数值然后所有的其他参数都传递给*args和**kwargs\n",
    "\t# 命名参数在列表的最前端，例如:def table_things(titlestring, **kwargs)\n",
    "\t# *args和**kwargs可以同时在函数的定义中，但是*args必须在**kwargs前面\n",
    "    \t# 当调用函数时你也可以用*和**语法\n",
    "    # (6): 函数重载\n",
    "    \t# 函数重载主要是为了解决两个问题: 可变参数类型，可变参数个数。\n",
    "\t# 一个基本的设计原则是，仅仅当两个函数除了参数类型和参数个数不同以外，其功能是完全相同的\n",
    "\t# 此时才使用函数重载，如果两个函数的功能其实不同，那么不应当使用重载，而应当使用一个名字不同的函数\n",
    "\t# 对于情况 1 ，函数功能相同，但是参数类型不同，python根本不需要处理，因为python可以接受任何类型的参数\n",
    "\t    # 如果函数的功能相同，那么不同的参数类型在python中很可能是相同的代码，没有必要做成两个不同函数\n",
    "\t# 对于情况 2 ，函数功能相同，但参数个数不同，python中就是缺省参数\n",
    "\t    # 对那些缺少的参数设定为缺省参数即可解决问题\n",
    "\t    # 因为你假设函数功能相同，那么那些缺少的参数终归是需要用的\n",
    "\t# 因此，python不需要函数重载"
   ]
  },
  {
   "cell_type": "code",
   "execution_count": 5,
   "metadata": {},
   "outputs": [
    {
     "name": "stdout",
     "output_type": "stream",
     "text": [
      "4\n",
      "Second_large_num is : 56\n"
     ]
    }
   ],
   "source": [
    "# 函数(3)(4): 高阶函数reduce和匿名函数\n",
    "    # lambda返回值可结合and和or进行条件选择\n",
    "    # 下面第二个例子\n",
    "    # 找出一个整数数组中，第二大的数\n",
    "    # 设置两个标志位一个存储最大数一个存储次大数\n",
    "a = lambda x:2*x\n",
    "print(a(2))\n",
    "\n",
    "from functools import reduce\n",
    "num_list = [34, 11, 23, 56, 78, 0, 9, 12, 3, 7, 5]\n",
    "num = reduce(lambda ot, x: ot[1] < x and (ot[1], x) or ot[0] < x and (x, ot[1]) or ot, num_list, (0, 0))[0]\n",
    "print(\"Second_large_num is :\", num)"
   ]
  },
  {
   "cell_type": "code",
   "execution_count": 7,
   "metadata": {},
   "outputs": [
    {
     "name": "stdout",
     "output_type": "stream",
     "text": [
      "6\n",
      "6\n",
      "16\n"
     ]
    }
   ],
   "source": [
    "# 函数(3): 高阶函数reduce\n",
    "from functools import reduce\n",
    "print(reduce(lambda x,y:x*y,range(1,4))) # 求3的阶乘\n",
    "print(reduce(lambda x,y:x+y,range(1,4)))\n",
    "print(reduce(lambda x,y:x+y,range(1,4),10))"
   ]
  },
  {
   "cell_type": "code",
   "execution_count": 8,
   "metadata": {},
   "outputs": [
    {
     "name": "stdout",
     "output_type": "stream",
     "text": [
      "[2, 4, 6]\n",
      "[1, 4, 9]\n"
     ]
    }
   ],
   "source": [
    "# 函数(3): 高阶函数map\n",
    "a = map(lambda x:x*2,[1,2,3])\n",
    "print(list(a))\n",
    "\n",
    "a = map(lambda x,y:x*y,[1,2,3],[1,2,3])\n",
    "print(list(a))"
   ]
  },
  {
   "cell_type": "code",
   "execution_count": 9,
   "metadata": {},
   "outputs": [
    {
     "name": "stdout",
     "output_type": "stream",
     "text": [
      "[6, 7]\n"
     ]
    }
   ],
   "source": [
    "# 函数(3): 高阶函数filter\n",
    "a = [1,2,3,4,5,6,7]\n",
    "b = filter(lambda x: x > 5, a)\n",
    "print(list(b))"
   ]
  },
  {
   "cell_type": "code",
   "execution_count": 21,
   "metadata": {},
   "outputs": [
    {
     "name": "stdout",
     "output_type": "stream",
     "text": [
      "139908821140616\n",
      "139908699110792\n",
      "[2, 3, 4, 5, 6, 7, 8]\n",
      "[3, 4, 5, 6, 7, 8]\n",
      "[4, 5, 6, 7, 8]\n",
      "[5, 6, 7, 8]\n",
      "[6, 7, 8]\n",
      "[6, 7, 8]\n",
      "[6, 7, 8]\n",
      "[6, 7, 8]\n",
      "-----------\n",
      "139908821140616\n"
     ]
    }
   ],
   "source": [
    "# 函数(1): 内置函数\n",
    "    # id\n",
    "a = [1,2,3,4,5,6,7,8]\n",
    "print(id(a))\n",
    "print(id(a[:]))\n",
    "for i in a[:]:\n",
    "    if i>5:\n",
    "        pass\n",
    "    else:\n",
    "        a.remove(i)\n",
    "    print(a)\n",
    "print('-----------')\n",
    "print(id(a))"
   ]
  },
  {
   "cell_type": "code",
   "execution_count": 27,
   "metadata": {},
   "outputs": [
    {
     "name": "stdout",
     "output_type": "stream",
     "text": [
      "[1, 2, 3, 4, 5, 6]\n",
      "[1, 2, 3, 4, 5, 6, 7, 8, 9, 10, 11, 12, 13]\n"
     ]
    }
   ],
   "source": [
    "# 函数(1): 内置函数\n",
    "    # sum(iter, start=0)，strat参数指明初始值\n",
    "    # 用sum展平一个列表\n",
    "        # sum函数的初始值为[]，则执行列表合并\n",
    "    # 如果一个列表中有嵌套的列表，可以进行递归展平\n",
    "list_of_lists = [[1], [2, 3], [4, 5, 6]]\n",
    "print(sum(list_of_lists, []))\n",
    "\n",
    "nested_lists = [[1, 2], [[3, 4], [5, 6], [[7, 8], [9, 10], [[11, [12, 13]]]]]] \n",
    "flatten = lambda x: [y for l in x for y in flatten(l)] if type(x) is list else [x]\n",
    "print(flatten(nested_lists))"
   ]
  },
  {
   "cell_type": "code",
   "execution_count": 11,
   "metadata": {},
   "outputs": [
    {
     "name": "stdout",
     "output_type": "stream",
     "text": [
      "[(1, 4), (2, 5), (3, 6)]\n",
      "[(1, 4), (2, 5), (3, 6)]\n",
      "[(1, 2, 3), (4, 5, 6)]\n",
      "[(1, 2), (2, 5)]\n",
      "[(1, 4, 7), (2, 5, 8), (3, 6, 9)]\n"
     ]
    }
   ],
   "source": [
    "# 函数(1): 内置函数\n",
    "    # zip\n",
    "a = [1,2,3]\n",
    "b = [4,5,6]\n",
    "zipped = zip(a,b) \n",
    "print(list(zipped)) # 打包为元组的列表\n",
    "c = [4,5,6,7,8]\n",
    "print(list(zip(a,c))) # 元素个数与最短的列表一致\n",
    "zipped = zip(a,b)\n",
    "print(list(zip(*zipped))) # 与 zip 相反，*zipped 可理解为解压，返回二维矩阵式\n",
    "\n",
    "a={1:2,2:3}\n",
    "b={2:4,5:6}\n",
    "print(list(zip(a,b)))\n",
    "\n",
    "a = [1,2,3]\n",
    "b = [4,5,6]\n",
    "c = [7,8,9]\n",
    "zipped = zip(a,b,c) \n",
    "print(list(zipped))"
   ]
  },
  {
   "cell_type": "code",
   "execution_count": 12,
   "metadata": {},
   "outputs": [
    {
     "name": "stdout",
     "output_type": "stream",
     "text": [
      "[3, 2, 5, 1]\n"
     ]
    }
   ],
   "source": [
    "# 函数(1): 内置函数\n",
    "    # reversed\n",
    "a = [1,5,2,3]\n",
    "print(list(reversed(a)))"
   ]
  },
  {
   "cell_type": "code",
   "execution_count": 14,
   "metadata": {},
   "outputs": [
    {
     "name": "stdout",
     "output_type": "stream",
     "text": [
      "flow\n",
      "2\n"
     ]
    }
   ],
   "source": [
    "# 函数(1): 内置函数\n",
    "    # min/max\n",
    "strs = [\"flower\",\"flow\",\"flight\"]\n",
    "shortest = min(strs,key=len)\n",
    "print(shortest)\n",
    "\n",
    "import collections\n",
    "a = [1,2,2,3]\n",
    "counts = collections.Counter(a)\n",
    "print(max(counts.keys(), key=counts.get))"
   ]
  },
  {
   "cell_type": "code",
   "execution_count": 15,
   "metadata": {},
   "outputs": [
    {
     "name": "stdout",
     "output_type": "stream",
     "text": [
      "21\n",
      "2\n"
     ]
    }
   ],
   "source": [
    "# 函数(1): 内置函数\n",
    "    # eval(): 用来执行一个字符串表达式，并返回表达式的值\n",
    "x = 7\n",
    "print(eval( '3 * x' ))\n",
    "t = \"%s * 1\" % '2'\n",
    "print(eval(t))"
   ]
  },
  {
   "cell_type": "code",
   "execution_count": null,
   "metadata": {},
   "outputs": [],
   "source": [
    "# 函数(1): 内置函数\n",
    "    # super()函数: 调用父类(超类)的一个方法\n",
    "    \t# 一个常见用法是在 __init__() 方法中确保父类被正确的初始化了\n",
    "\t# 另外一个常见用法出现在覆盖python特殊方法的代码中\n",
    "            # __setattr__()的实现包含一个名字检查\n",
    "\t    # 如果某个属性名以下划线(_)开头\n",
    "\t    # 就通过 super() 调用原始的 __setattr__() \n",
    "\t    # 否则的话就委派给内部的代理对象 self._obj 去处理\n",
    "\t    # 就算没有显式的指明某个类的父类， super()仍然可以有效的工作\n",
    "class A:\n",
    "    def __init__(self):\n",
    "        self.x = 0\n",
    "\n",
    "class B(A):\n",
    "    def __init__(self):\n",
    "        super().__init__()\n",
    "        self.y = 1\n",
    "    \n",
    "class Proxy:\n",
    "    def __init__(self, obj):\n",
    "        self._obj = obj\n",
    "\n",
    "    # Delegate attribute lookup to internal obj\n",
    "    def __getattr__(self, name):\n",
    "        return getattr(self._obj, name)\n",
    "\n",
    "    # Delegate attribute assignment\n",
    "    def __setattr__(self, name, value):\n",
    "        if name.startswith('_'):\n",
    "            super().__setattr__(name, value) # Call original __setattr__\n",
    "        else:\n",
    "            setattr(self._obj, name, value)"
   ]
  },
  {
   "cell_type": "code",
   "execution_count": 16,
   "metadata": {},
   "outputs": [
    {
     "name": "stdout",
     "output_type": "stream",
     "text": [
      "{'learning_rate': 0.0003, 'num_layers': 3, 'hidden_size': 100, 'self': <__main__.Model1 object at 0x7f3ef3bb85c0>}\n",
      "{'hidden_size': 100, 'num_layers': 3, 'learning_rate': 0.0003}\n",
      "{'learning_rate': 0.0003, 'num_layers': 3, 'hidden_size': 100}\n",
      "{'hidden_size': 100, 'num_layers': 3, 'learning_rate': 0.0003}\n"
     ]
    }
   ],
   "source": [
    "# 函数(1): 内置函数\n",
    "    # locals()函数: 返回一个含有定义在局部命名空间中变量的字典\n",
    "    # locals().copy()\n",
    "class Model1:\n",
    "    def __init__(self, hidden_size=100, num_layers=3, learning_rate=3e-4):\n",
    "        print(locals())\n",
    "        self.hidden_size = hidden_size\n",
    "        self.num_layers = num_layers\n",
    "        self.learning_rate = learning_rate\n",
    "\n",
    "model1 = Model1()\n",
    "print(model1.__dict__) # 对象的所有属性存储在它的__dict__\n",
    "\n",
    "class Model2: # 可利用locals()和__dict__进行快速赋值\n",
    "    def __init__(self, hidden_size=100, num_layers=3, learning_rate=3e-4):\n",
    "        params = locals()\n",
    "        del params['self']\n",
    "        self.__dict__ = params\n",
    "\n",
    "model2 = Model2()\n",
    "print(model2.__dict__)\n",
    "\n",
    "class Model3: # 或者进行如下的快速赋值\n",
    "    def __init__(self, **kwargs):\n",
    "        self.__dict__ = kwargs\n",
    "\n",
    "model3 = Model3(hidden_size=100, num_layers=3, learning_rate=3e-4)\n",
    "print(model3.__dict__)"
   ]
  },
  {
   "cell_type": "code",
   "execution_count": null,
   "metadata": {},
   "outputs": [],
   "source": [
    "# 函数(1): 内置函数\n",
    "\t# callable()函数用于检查一个对象是否是可调用的\n",
    "\t# callable(object)\n",
    "\t# 比如函数就是可调用的"
   ]
  },
  {
   "cell_type": "code",
   "execution_count": 17,
   "metadata": {},
   "outputs": [
    {
     "name": "stdout",
     "output_type": "stream",
     "text": [
      "0. apple\n",
      "1. banana\n",
      "2. cabbage\n",
      "apple = fruit\n",
      "cabbage = vegetable\n",
      "a = aardvark, b = baboon, c = cat\n"
     ]
    }
   ],
   "source": [
    "# 函数(5): 函数参数: *args和**kwargs\n",
    "\n",
    "def print_everything(*args): # 参数列表\n",
    "    for count, thing in enumerate(args):\n",
    "        print('{0}. {1}'.format(count, thing))\n",
    "print_everything('apple', 'banana', 'cabbage')\n",
    "\n",
    "def table_things(**kwargs): # 字典\n",
    "    for name, value in kwargs.items():\n",
    "        print('{0} = {1}'.format(name, value))\n",
    "table_things(apple = 'fruit', cabbage = 'vegetable')\n",
    "\n",
    "def print_three_things(a, b, c):\n",
    "    print('a = {0}, b = {1}, c = {2}'.format(a,b,c))\n",
    "mylist = ['aardvark', 'baboon', 'cat']\n",
    "print_three_things(*mylist)"
   ]
  },
  {
   "cell_type": "code",
   "execution_count": null,
   "metadata": {},
   "outputs": [],
   "source": [
    "# 方法\n",
    "    # (1): 分类\n",
    "\t# python有3个方法，即静态方法(staticmethod)、类方法(classmethod)和实例方法\n",
    "    \t# 这里先理解下函数参数里面的self和cls\n",
    "\t    # self和cls是对实例或者类的绑定\n",
    "\t    # 对于一般的函数来说，我们可以这么调用foo(x)\n",
    "\t    # 这个函数就是最常用的，它的工作跟任何东西(类,实例)无关\n",
    "\t    # 对于实例方法，我们知道在类里每次定义方法的时候都需要绑定这个实例，就是foo(self, x)\n",
    "\t    # 因为实例方法的调用离不开实例，我们需要把实例自己传给函数，调用的时候是这样的a.foo(x)(其实是foo(a, x))\n",
    "\t    # 类方法一样，只不过它传递的是类而不是实例，A.class_foo(x)(也可以使用a.class_foo(x))\n",
    "\t    # 注意这里的self和cls可以替换别的参数，但是python约定是这俩，还是不要改的好\n",
    "\t# 对于静态方法，其实和普通的方法一样，不需要对谁进行绑定\n",
    "\t# 唯一的区别是调用的时候需要使用a.static_foo(x)或者A.static_foo(x)来调用"
   ]
  },
  {
   "cell_type": "code",
   "execution_count": 4,
   "metadata": {},
   "outputs": [
    {
     "name": "stdout",
     "output_type": "stream",
     "text": [
      "executing foo(a)\n",
      "executing foo(<__main__.A object at 0x7f3ef3bbb4e0>,b)\n",
      "executing class_foo(<class '__main__.A'>,c)\n",
      "executing class_foo(<class '__main__.A'>,c)\n",
      "executing static_foo(d)\n",
      "executing static_foo(d)\n"
     ]
    }
   ],
   "source": [
    "# 方法(1): 分类\n",
    "def foo(x):\n",
    "    print(\"executing foo(%s)\"%(x))\n",
    "\n",
    "class A(object):\n",
    "    def foo(self,x):\n",
    "        print(\"executing foo(%s,%s)\"%(self,x))\n",
    "\n",
    "    @classmethod\n",
    "    def class_foo(cls,x):\n",
    "        print(\"executing class_foo(%s,%s)\"%(cls,x))\n",
    "\n",
    "    @staticmethod\n",
    "    def static_foo(x):\n",
    "        print(\"executing static_foo(%s)\"%x)\n",
    "\n",
    "a=A()\n",
    "\n",
    "foo(\"a\")\n",
    "a.foo(\"b\")\n",
    "a.class_foo(\"c\")\n",
    "A.class_foo(\"c\")\n",
    "a.static_foo(\"d\")\n",
    "A.static_foo(\"d\")"
   ]
  },
  {
   "cell_type": "code",
   "execution_count": null,
   "metadata": {},
   "outputs": [],
   "source": [
    "# 列表\n",
    "    # (1): 索引\n",
    "\t# 反转[::-1] | 隔一位反转[::-2]\n",
    "\t# 奇数位和偶数位: [1::2] [0::2]\n",
    "    # (2): 自带函数\n",
    "    # (3): 常见算法题"
   ]
  },
  {
   "cell_type": "code",
   "execution_count": 19,
   "metadata": {},
   "outputs": [
    {
     "name": "stdout",
     "output_type": "stream",
     "text": [
      "[0, 1, 2, 3, 4, 5, 6, 7, 8, 9]\n",
      "[8, 6, 4, 2, 0]\n",
      "[1, 3, 5, 7, 9]\n",
      "[0, 20, 30, 40, 2, 3, 4, 5, 6, 7, 8, 9]\n",
      "[0, 0.2, 0.3, 0.5, 1, 2, 3, 4, 5, 6, 7, 8, 9]\n"
     ]
    }
   ],
   "source": [
    "# 列表(1): 索引\n",
    "elems = list(range(10))\n",
    "print(elems)\n",
    "reversed_evens = elems[-2::-2]\n",
    "print(reversed_evens)\n",
    "del elems[::2]\n",
    "print(elems)\n",
    "\n",
    "elems = list(range(10))\n",
    "elems[1:2] = [20, 30, 40] # 替换索引1\n",
    "print(elems)\n",
    "elems = list(range(10))\n",
    "elems[1:1] = [0.2, 0.3, 0.5] # 在索引0和1之间插入\n",
    "print(elems)"
   ]
  },
  {
   "cell_type": "code",
   "execution_count": 24,
   "metadata": {},
   "outputs": [
    {
     "name": "stdout",
     "output_type": "stream",
     "text": [
      "[]\n"
     ]
    },
    {
     "ename": "IndexError",
     "evalue": "list index out of range",
     "output_type": "error",
     "traceback": [
      "\u001b[0;31m---------------------------------------------------------------------------\u001b[0m",
      "\u001b[0;31mIndexError\u001b[0m                                Traceback (most recent call last)",
      "\u001b[0;32m<ipython-input-24-e4f2be6cda56>\u001b[0m in \u001b[0;36m<module>\u001b[0;34m\u001b[0m\n\u001b[1;32m      4\u001b[0m \u001b[0ml\u001b[0m \u001b[0;34m=\u001b[0m \u001b[0;34m[\u001b[0m\u001b[0;34m'a'\u001b[0m\u001b[0;34m,\u001b[0m\u001b[0;34m'b'\u001b[0m\u001b[0;34m,\u001b[0m\u001b[0;34m'c'\u001b[0m\u001b[0;34m,\u001b[0m\u001b[0;34m'd'\u001b[0m\u001b[0;34m,\u001b[0m\u001b[0;34m'e'\u001b[0m\u001b[0;34m]\u001b[0m\u001b[0;34m\u001b[0m\u001b[0;34m\u001b[0m\u001b[0m\n\u001b[1;32m      5\u001b[0m \u001b[0mprint\u001b[0m\u001b[0;34m(\u001b[0m\u001b[0ml\u001b[0m\u001b[0;34m[\u001b[0m\u001b[0;36m10\u001b[0m\u001b[0;34m:\u001b[0m\u001b[0;34m]\u001b[0m\u001b[0;34m)\u001b[0m\u001b[0;34m\u001b[0m\u001b[0;34m\u001b[0m\u001b[0m\n\u001b[0;32m----> 6\u001b[0;31m \u001b[0mprint\u001b[0m\u001b[0;34m(\u001b[0m\u001b[0ml\u001b[0m\u001b[0;34m[\u001b[0m\u001b[0;36m10\u001b[0m\u001b[0;34m]\u001b[0m\u001b[0;34m)\u001b[0m\u001b[0;34m\u001b[0m\u001b[0;34m\u001b[0m\u001b[0m\n\u001b[0m",
      "\u001b[0;31mIndexError\u001b[0m: list index out of range"
     ]
    }
   ],
   "source": [
    "# 列表(1): 索引\n",
    "    # 尝试获取list[10]和之后的成员，会导致IndexError\n",
    "    # 然而，尝试获取列表的切片，开始的index超过了成员个数不会产生IndexError，而是仅仅返回一个空列表\n",
    "l = ['a','b','c','d','e']\n",
    "print(l[10:])\n",
    "print(l[10])"
   ]
  },
  {
   "cell_type": "code",
   "execution_count": 23,
   "metadata": {},
   "outputs": [
    {
     "name": "stdout",
     "output_type": "stream",
     "text": [
      "[3, 1, 2, 4]\n",
      "-----------\n",
      "[2, 3, 4, 5, 6, 7, 8]\n",
      "[3, 4, 5, 6, 7, 8]\n",
      "[4, 5, 6, 7, 8]\n",
      "[5, 6, 7, 8]\n",
      "[6, 7, 8]\n",
      "[6, 7, 8]\n",
      "[6, 7, 8]\n",
      "[6, 7, 8]\n",
      "-----------\n",
      "[1, 2, 3, 4, 5, 6, 7, 8]\n",
      "[1, 2, 3, 4, 5, 6, 7, 8]\n",
      "[1, 2, 3, 4, 5, 6, 7, 8]\n",
      "[1, 2, 3, 4, 6, 7, 8]\n",
      "[1, 2, 3, 6, 7, 8]\n",
      "[1, 2, 6, 7, 8]\n",
      "[1, 6, 7, 8]\n",
      "[6, 7, 8]\n"
     ]
    }
   ],
   "source": [
    "# 列表(2): 自带函数\n",
    "    # insert | pop | remove\n",
    "a = [1,2,3,4]\n",
    "a.insert(0, a.pop(2))\n",
    "print(a)\n",
    "\n",
    "print('-----------')\n",
    "a = [1,2,3,4,5,6,7,8]\n",
    "for i in a[:]:\n",
    "    if i>5:\n",
    "        pass\n",
    "    else:\n",
    "        a.remove(i)\n",
    "    print(a)\n",
    "\n",
    "print('-----------')\n",
    "a = [1,2,3,4,5,6,7,8]\n",
    "for i in range(len(a)-1,-1,-1): # 倒序删除\n",
    "    if a[i]>5:\n",
    "        pass\n",
    "    else:\n",
    "        a.remove(a[i])\n",
    "    print(a)"
   ]
  },
  {
   "cell_type": "code",
   "execution_count": 25,
   "metadata": {},
   "outputs": [
    {
     "name": "stdout",
     "output_type": "stream",
     "text": [
      "{3}\n",
      "{1, 2, 4, 5}\n"
     ]
    }
   ],
   "source": [
    "# 列表(3): 常见算法题\n",
    "    # 给定两个列表，怎么找出他们相同的元素和不同的元素\n",
    "    # 借助集合\n",
    "list1 = [1,2,3]\n",
    "list2 = [3,4,5]\n",
    "set1 = set(list1)\n",
    "set2 = set(list2)\n",
    "print(set1 & set2)\n",
    "print(set1 ^ set2)"
   ]
  },
  {
   "cell_type": "code",
   "execution_count": 26,
   "metadata": {},
   "outputs": [
    {
     "name": "stdout",
     "output_type": "stream",
     "text": [
      "['b', 'c', 'd', 'a']\n"
     ]
    }
   ],
   "source": [
    "# 列表(3): 常见算法题\n",
    "    # 删除list里面的重复元素\n",
    "    # 借助集合\n",
    "l1 = ['b','c','d','c','a','a']\n",
    "l2 = sorted(set(l1),key=l1.index)\n",
    "print(l2)"
   ]
  },
  {
   "cell_type": "code",
   "execution_count": null,
   "metadata": {},
   "outputs": [],
   "source": [
    "# 字典\n",
    "    # (1): 字典生成/推导式\n",
    "    \t# d = {key: value for (key, value) in iterable}\n",
    "    # (2): 字典按value值进行排序\n",
    "    \t# sorted(d.items(),key=lambda x:x[1]) # x[0]代表用key进行排序；x[1]代表用value进行排序\n",
    "    # (3): __getitem__\n",
    "    # (4): 从列表构建字典: fromkeys\n",
    "        # 可对列表进行去重\n",
    "    # (5): 自带函数\n",
    "    # (6): 遍历\n",
    "        # for attr, value in sorted(args.__dict__.items()):"
   ]
  },
  {
   "cell_type": "code",
   "execution_count": 1,
   "metadata": {},
   "outputs": [
    {
     "name": "stdout",
     "output_type": "stream",
     "text": [
      "[(['k', '1'],), (['k1', '2'],), (['k2', '3'],), (['k3', '4'],)]\n",
      "{'k': 1, 'k1': 2, 'k2': 3, 'k3': 4}\n"
     ]
    }
   ],
   "source": [
    "# 字典(1): 字典生成/推导式\n",
    "s = \"k:1|k1:2|k2:3|k3:4\"\n",
    "print([(t.split(\":\"),) for t in s.split(\"|\")])\n",
    "d = {k:int(v) for t in s.split(\"|\") for k, v in (t.split(\":\"),)}\n",
    "print(d)"
   ]
  },
  {
   "cell_type": "code",
   "execution_count": 2,
   "metadata": {},
   "outputs": [
    {
     "name": "stdout",
     "output_type": "stream",
     "text": [
      "1\n",
      "2\n"
     ]
    }
   ],
   "source": [
    "# 字典(3): __getitem__\n",
    "d = {'k': 1, 'k1': 2, 'k2': 3, 'k3': 4}\n",
    "print(d['k'])\n",
    "print(d.__getitem__('k1'))"
   ]
  },
  {
   "cell_type": "code",
   "execution_count": 3,
   "metadata": {},
   "outputs": [
    {
     "name": "stdout",
     "output_type": "stream",
     "text": [
      "[1, 2, 3]\n",
      "{1: None, 2: None, 3: None}\n"
     ]
    }
   ],
   "source": [
    "# 字典(4): 从列表构建字典\n",
    "b = {}\n",
    "a = [1,1,2,2,3]\n",
    "b = b.fromkeys(a)\n",
    "c = list(b.keys())\n",
    "print(c)\n",
    "print(b)"
   ]
  },
  {
   "cell_type": "code",
   "execution_count": 4,
   "metadata": {},
   "outputs": [
    {
     "name": "stdout",
     "output_type": "stream",
     "text": [
      "2\n",
      "{2: 3}\n"
     ]
    }
   ],
   "source": [
    "# 字典(5): 自带函数\n",
    "    # pop()\n",
    "d={1:2,2:3}\n",
    "print(d.pop(1))\n",
    "print(d)"
   ]
  },
  {
   "cell_type": "code",
   "execution_count": null,
   "metadata": {},
   "outputs": [],
   "source": [
    "# 字符串\n",
    "    # (1): 自带函数\n",
    "\t# .isalpha() | .isdigit() | .isalnum()\n",
    "\t# .islower() | .isupper() | .lower() | .upper() | .capitalize() | .istitle() | .isspace()\n",
    "\t# .split() | .replace() | .index() | .reverse()\n",
    "\t    # split(str, num): str为分隔符，默认为所有的空字符\n",
    "\t    \t# 包括空格、换行(\\n)、制表符(\\t)等；num为分割次数，默认为 -1，即分隔所有\n",
    "    \t    # .rsplit(): 参数同上，只不过是从后向前分割\n",
    "\t# .endswith()\n",
    "\t# .splitlines() 按\\n或\\r划分得到列表元素\n",
    "\t# .strip(): 移除首尾空格\n",
    "    # (2): 正则表达式\n",
    "\t# import re\n",
    "    # (3): 字符编码\n",
    "\t# ASCII: '0':48; 'A':65; 'a':97\n",
    "\t# 字符串前加u: 以unicode格式进行编码，一般用在中文字符串前面，防止因为源码储存格式问题，导致再次使用时出现乱码，如\\u3000表示空格i\n",
    "\t    # 加r: 去掉反斜杠的转义机制，常用于正则表达式\n",
    "\t    # 加b: 表示这是一个bytes对象，网络编程中，服务器和浏览器只认bytes类型数据\n",
    "\t    \t# 如：send函数的参数和recv函数的返回值都是bytes类型\n",
    "\t    # 加f: 表示在字符串内支持大括号内的python表达式\n",
    "\t# \\r: 换行(匹配sys.stdout.write使用) \\n: 回车(匹配print使用)\n",
    "\t# 在 python3 中，bytes和str的互相转换方式是\n",
    "\t    # str.encode('utf-8')\n",
    "\t    # bytes.decode('utf-8')\n",
    "\t# 在 python3 中，bytes和int的互相转换方式是\n",
    "\t    # def int_to_bytes(n, length): return n.to_bytes(length, 'big')\n",
    "\t    # def bytes_to_int(b): return int.from_bytes(b, 'big')\n",
    "    # (4): 字符串格式化\n",
    "    \t# %和.format\n",
    "\t# %无法传递元组，format没有问题\n",
    "\t# 格式化浮点数\n",
    "\t\t# %e: 用科学记数法计数\n",
    "\t\t# %f: 按指定精确格式化浮点数（默认保留6位）\n",
    "\t\t# %g: 根据数值的大小采用%e或%f\n",
    "    # (5): 常用操作\n",
    "\t# 移除标点符号: text = text.translate(str.maketrans(string.punctuation, ' ' * len(string.punctuation)))"
   ]
  },
  {
   "cell_type": "code",
   "execution_count": 5,
   "metadata": {},
   "outputs": [
    {
     "name": "stdout",
     "output_type": "stream",
     "text": [
      "2\n",
      "5\n"
     ]
    }
   ],
   "source": [
    "# 字符串(1): 自带函数\n",
    "    # str.find()\n",
    "    # str.index()\n",
    "\t# index()函数类似于find()函数\n",
    "\t# 在python中也是在字符串中查找子串第一次出现的位置，跟find()不同的是，未找到则抛出异常\n",
    "    # str.rfind(): 倒序字符串查找函数\n",
    "    # str.rindex()\n",
    "\t# rindex()函数类似于rfind()函数\n",
    "\t# 在python中也是在字符串中倒序查找子串最后一次出现的位置，跟rfind()不同的是，未找到则抛出异\n",
    "\n",
    "# 返回str中第一次出现的substr的第一个字母的标号\n",
    "# 如果str中没有substr则返回-1，也就是说从左边算起的第一次出现的substr的首字母标号\n",
    "print('aabbcc'.find('bb')) \n",
    "\n",
    "# 返回str中最后出现的substr的第一个字母的标号\n",
    "# 如果str中没有substr则返回-1，也就是说从右边算起的第一次出现的substr的首字母标号\n",
    "print('adsfddf'.rfind('d'))"
   ]
  },
  {
   "cell_type": "code",
   "execution_count": 9,
   "metadata": {},
   "outputs": [
    {
     "name": "stdout",
     "output_type": "stream",
     "text": [
      "hi there (1, 2, 3)\n",
      "hi there (1, 2, 3)\n"
     ]
    },
    {
     "ename": "TypeError",
     "evalue": "not all arguments converted during string formatting",
     "output_type": "error",
     "traceback": [
      "\u001b[0;31m---------------------------------------------------------------------------\u001b[0m",
      "\u001b[0;31mTypeError\u001b[0m                                 Traceback (most recent call last)",
      "\u001b[0;32m<ipython-input-9-8a1e29b596c0>\u001b[0m in \u001b[0;36m<module>\u001b[0;34m\u001b[0m\n\u001b[1;32m      3\u001b[0m \u001b[0mprint\u001b[0m\u001b[0;34m(\u001b[0m\u001b[0;34m\"hi there {}\"\u001b[0m\u001b[0;34m.\u001b[0m\u001b[0mformat\u001b[0m\u001b[0;34m(\u001b[0m\u001b[0mname\u001b[0m\u001b[0;34m)\u001b[0m\u001b[0;34m)\u001b[0m\u001b[0;34m\u001b[0m\u001b[0;34m\u001b[0m\u001b[0m\n\u001b[1;32m      4\u001b[0m \u001b[0mprint\u001b[0m\u001b[0;34m(\u001b[0m\u001b[0;34m\"hi there %s\"\u001b[0m \u001b[0;34m%\u001b[0m \u001b[0;34m(\u001b[0m\u001b[0mname\u001b[0m\u001b[0;34m,\u001b[0m\u001b[0;34m)\u001b[0m \u001b[0;34m)\u001b[0m \u001b[0;31m# 提供一个单元素的数组而不是一个参数\u001b[0m\u001b[0;34m\u001b[0m\u001b[0;34m\u001b[0m\u001b[0m\n\u001b[0;32m----> 5\u001b[0;31m \u001b[0mprint\u001b[0m\u001b[0;34m(\u001b[0m\u001b[0;34m\"hi there %s\"\u001b[0m \u001b[0;34m%\u001b[0m \u001b[0mname\u001b[0m\u001b[0;34m)\u001b[0m\u001b[0;34m\u001b[0m\u001b[0;34m\u001b[0m\u001b[0m\n\u001b[0m",
      "\u001b[0;31mTypeError\u001b[0m: not all arguments converted during string formatting"
     ]
    }
   ],
   "source": [
    "# 字符串(4): 字符串格式化\n",
    "name=(1,2,3)\n",
    "print(\"hi there {}\".format(name))\n",
    "print(\"hi there %s\" % (name,) ) # 提供一个单元素的数组而不是一个参数\n",
    "print(\"hi there %s\" % name)"
   ]
  },
  {
   "cell_type": "code",
   "execution_count": 10,
   "metadata": {},
   "outputs": [
    {
     "name": "stdout",
     "output_type": "stream",
     "text": [
      "abcdefghijklmnopqrstuvwxyz\n",
      "abcdefghijklmnopqrstuvwxyz\n"
     ]
    }
   ],
   "source": [
    "# 字符串(5): 常用操作\n",
    "    # 生成26个小写字母\n",
    "\n",
    "import string\n",
    "letters = string.ascii_lowercase\n",
    "print(letters)\n",
    "\n",
    "letters = \"\".join(map(chr, range(ord('a'), ord('z') + 1)))\n",
    "print(letters)"
   ]
  },
  {
   "cell_type": "code",
   "execution_count": 11,
   "metadata": {},
   "outputs": [
    {
     "name": "stdout",
     "output_type": "stream",
     "text": [
      "abd  bnd\n"
     ]
    }
   ],
   "source": [
    "# 字符串(5): 常用操作\n",
    "    # 去除标点\n",
    "import string\n",
    "text = \"abd, bnd\"\n",
    "text = text.translate(str.maketrans(string.punctuation, ' ' * len(string.punctuation)))\n",
    "print(text)"
   ]
  },
  {
   "cell_type": "code",
   "execution_count": null,
   "metadata": {},
   "outputs": [],
   "source": [
    "# 文件读写\n",
    "    # (1): 读\n",
    "\t# read 读取整个文件\n",
    "\t# readline 读取下一行，使用生成器方法\n",
    "\t# readlines 读取整个文件到一个迭代器以供我们遍历\n",
    "    # (2): 写\n",
    "        # f.write()\n",
    "        # f.flush()\n",
    "    # (3): 文件对象\n",
    "\t# f.fileno()"
   ]
  },
  {
   "cell_type": "code",
   "execution_count": null,
   "metadata": {},
   "outputs": [],
   "source": [
    "# 文件读写(1): 读\n",
    "def get_lines():\n",
    "    with open('file.txt','rb') as f: # r是只读，r+是读写\n",
    "        return f.readlines()\n",
    "def get_lines(): # 现在要处理一个大小为10G的文件，但是内存只有4G  -->   需要分批读入，太小会在读取操作花费过多时间\n",
    "    with open('file.txt','rb') as f:\n",
    "        for i in f:\n",
    "            yield i\n",
    "\n",
    "# 还可借助mmap"
   ]
  }
 ],
 "metadata": {
  "interpreter": {
   "hash": "8e0a5121830260c2b3ba71b278117289a5158901009d117b6fbf784f99dd631f"
  },
  "kernelspec": {
   "display_name": "Python 3.6.13 64-bit ('ctrtf': conda)",
   "language": "python",
   "name": "python3"
  },
  "language_info": {
   "codemirror_mode": {
    "name": "ipython",
    "version": 3
   },
   "file_extension": ".py",
   "mimetype": "text/x-python",
   "name": "python",
   "nbconvert_exporter": "python",
   "pygments_lexer": "ipython3",
   "version": "3.6.13"
  },
  "orig_nbformat": 4
 },
 "nbformat": 4,
 "nbformat_minor": 2
}
