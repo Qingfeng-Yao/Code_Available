{
 "metadata": {
  "language_info": {
   "codemirror_mode": {
    "name": "ipython",
    "version": 3
   },
   "file_extension": ".py",
   "mimetype": "text/x-python",
   "name": "python",
   "nbconvert_exporter": "python",
   "pygments_lexer": "ipython3",
   "version": "3.6.13"
  },
  "orig_nbformat": 2,
  "kernelspec": {
   "name": "python3613jvsc74a57bd072506cc1e4b0dce5eb876f653d1c5faf29777724f7cbfb23a9a7a2a764425624",
   "display_name": "Python 3.6.13 64-bit ('lnf': conda)"
  },
  "metadata": {
   "interpreter": {
    "hash": "72506cc1e4b0dce5eb876f653d1c5faf29777724f7cbfb23a9a7a2a764425624"
   }
  }
 },
 "nbformat": 4,
 "nbformat_minor": 2,
 "cells": [
  {
   "cell_type": "code",
   "execution_count": null,
   "metadata": {},
   "outputs": [],
   "source": [
    "'''\n",
    "1、三角形\n",
    "    三角形判断+排序+贪心: 976(假设a小于等于b小于等于c，充要条件是a+b>c)\n",
    "    三角形面积计算: 812/已知三个点\n",
    "2、数学\n",
    "    直接公式推导: 1685\n",
    "    假设给出公式: 1686(石子游戏)\n",
    "3、约束限制\n",
    "    以限制排序和构建图: 1697\n",
    "    最值+动态规划(限制遍历): 1687\n",
    "4、空间优化: \n",
    "    使用已有空间: 1480\n",
    "    当对相邻的数组元素进行计算时，可不用维护一整个数组，而只要记录上一个数组元素即可: 696\n",
    "'''"
   ]
  },
  {
   "source": [
    "### 976: 三角形的最大周长"
   ],
   "cell_type": "markdown",
   "metadata": {}
  },
  {
   "cell_type": "code",
   "execution_count": null,
   "metadata": {},
   "outputs": [],
   "source": [
    "def largestPerimeter(nums: List[int]) -> int:\n",
    "    nums.sort(reverse=True)\n",
    "    for i in range(len(nums)-2):\n",
    "        if nums[i] < nums[i+1]+nums[i+2]:\n",
    "            return nums[i]+nums[i+1]+nums[i+2]\n",
    "\n",
    "    return 0"
   ]
  },
  {
   "source": [
    "### 812: 最大三角形面积"
   ],
   "cell_type": "markdown",
   "metadata": {}
  },
  {
   "cell_type": "code",
   "execution_count": null,
   "metadata": {},
   "outputs": [],
   "source": [
    "def largestTriangleArea(points):\n",
    "    def area(p, q, r):\n",
    "        return .5 * abs(p[0]*q[1]+q[0]*r[1]+r[0]*p[1]\n",
    "                        -p[1]*q[0]-q[1]*r[0]-r[1]*p[0])\n",
    "\n",
    "    return max(area(*triangle)\n",
    "        for triangle in itertools.combinations(points, 3))"
   ]
  },
  {
   "source": [
    "### 1685: 有序数组中差绝对值之和 "
   ],
   "cell_type": "markdown",
   "metadata": {}
  },
  {
   "cell_type": "code",
   "execution_count": null,
   "metadata": {},
   "outputs": [],
   "source": [
    "def getSumAbsoluteDifferences(nums: List[int]) -> List[int]:\n",
    "    sums = sum(nums)\n",
    "    n = len(nums)\n",
    "    res = [0] * n\n",
    "    s = 0\n",
    "    for i in range(n):\n",
    "        res[i] = sums - nums[i]*n + (i*nums[i]-s)*2\n",
    "        s += nums[i]\n",
    "    return res"
   ]
  },
  {
   "source": [
    "### 1686: 石子游戏 VI"
   ],
   "cell_type": "markdown",
   "metadata": {}
  },
  {
   "cell_type": "code",
   "execution_count": null,
   "metadata": {},
   "outputs": [],
   "source": [
    "### 假设(Alice wants the largest difference between her and Bob, then a1 - b2 >= a2 - b1, i.e., a1 + b1 >= a2 + b2)\n",
    "def stoneGameVI(aliceValues: List[int], bobValues: List[int]) -> int:\n",
    "    def cmp(a,b):\n",
    "        if a>b:\n",
    "            return 1\n",
    "        elif a<b:\n",
    "            return -1\n",
    "        else:\n",
    "            return 0\n",
    "    A = sorted(zip(aliceValues, bobValues), key=sum)\n",
    "    return cmp(sum(a for a, b in A[::-2]), sum(b for a, b in A[-2::-2]))"
   ]
  },
  {
   "source": [
    "### 1697: 检查边长度限制的路径是否存在"
   ],
   "cell_type": "markdown",
   "metadata": {}
  },
  {
   "cell_type": "code",
   "execution_count": null,
   "metadata": {},
   "outputs": [],
   "source": [
    "def distanceLimitedPathsExist(n: int, edgeList: List[List[int]], queries: List[List[int]]) -> List[bool]:\n",
    "    res = [None] * len(queries)\n",
    "    edgeList.sort(key=lambda x: x[2])\n",
    "    queries = sorted([q + [i] for i, q in enumerate(queries)], key=lambda x: x[2]) # 因为要排序，所以存储原有索引\n",
    "    \n",
    "    root = list(range(n))\n",
    "    def find(x): # 判断连通性\n",
    "        if root[x] != x:\n",
    "            root[x] = find(root[x])\n",
    "        return root[x]\n",
    "    \n",
    "    def union(x, y): # 构建连通性\n",
    "        rx, ry = find(x), find(y)\n",
    "        if rx != ry:\n",
    "            root[ry] = rx\n",
    "            return \n",
    "    \n",
    "    i = 0\n",
    "    for a, b, limit, idx in queries:\n",
    "        while i < len(edgeList) and edgeList[i][2] < limit:\n",
    "            x, y, d = edgeList[i]\n",
    "            union(x, y)\n",
    "            i += 1\n",
    "        res[idx] = find(a) == find(b)   \n",
    "        \n",
    "    return res"
   ]
  },
  {
   "source": [
    "### 1687: 从仓库到码头运输箱子"
   ],
   "cell_type": "markdown",
   "metadata": {}
  },
  {
   "cell_type": "code",
   "execution_count": null,
   "metadata": {},
   "outputs": [],
   "source": [
    "def boxDelivering(boxes: List[List[int]], portsCount: int, maxBoxes: int, maxWeight: int) -> int:\n",
    "    n = len(boxes)\n",
    "    need = j = lastj = 0\n",
    "    dp = [0] + [float('inf')] * n\n",
    "    for i in range(n):\n",
    "        ## 关联j和lastj + 条件限制(一次装载)\n",
    "        while j < n and maxBoxes > 0 and maxWeight >= boxes[j][1]:\n",
    "            maxBoxes -= 1\n",
    "            maxWeight -= boxes[j][1]\n",
    "            if j == 0 or boxes[j][0] != boxes[j - 1][0]:\n",
    "                lastj = j\n",
    "                need += 1\n",
    "            j += 1\n",
    "\n",
    "        dp[j] = min(dp[j], dp[i] + need + 1)\n",
    "        dp[lastj] = min(dp[lastj], dp[i] + need)\n",
    "        \n",
    "        ## 关联i\n",
    "        maxBoxes += 1\n",
    "        maxWeight += boxes[i][1]\n",
    "        if i == n - 1 or boxes[i][0] != boxes[i + 1][0]:\n",
    "            need -= 1\n",
    "    return dp[-1]"
   ]
  },
  {
   "source": [
    "### 1480: 一维数组的动态和"
   ],
   "cell_type": "markdown",
   "metadata": {}
  },
  {
   "cell_type": "code",
   "execution_count": null,
   "metadata": {},
   "outputs": [],
   "source": [
    "def runningSum(nums: List[int]) -> List[int]:\n",
    "    i = 1\n",
    "    while i<len(nums):\n",
    "        nums[i]+=nums[i-1]\n",
    "        i+=1\n",
    "    return nums"
   ]
  },
  {
   "source": [
    "### 696: 计数二进制子串"
   ],
   "cell_type": "markdown",
   "metadata": {}
  },
  {
   "cell_type": "code",
   "execution_count": null,
   "metadata": {},
   "outputs": [],
   "source": [
    "def countBinarySubstrings(s):\n",
    "    ptr = 0\n",
    "    n = len(s)\n",
    "    last = 0\n",
    "    ans = 0\n",
    "    while ptr<n:\n",
    "        c = s[ptr]\n",
    "        count = 0\n",
    "        while (ptr<n and s[ptr]==c):\n",
    "            ptr += 1\n",
    "            count += 1\n",
    "        ans +=  min(count, last)\n",
    "        last = count\n",
    "\n",
    "    return ans"
   ]
  }
 ]
}