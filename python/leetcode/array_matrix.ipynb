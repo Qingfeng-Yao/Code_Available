{
 "metadata": {
  "language_info": {
   "codemirror_mode": {
    "name": "ipython",
    "version": 3
   },
   "file_extension": ".py",
   "mimetype": "text/x-python",
   "name": "python",
   "nbconvert_exporter": "python",
   "pygments_lexer": "ipython3",
   "version": 3
  },
  "orig_nbformat": 2
 },
 "nbformat": 4,
 "nbformat_minor": 2,
 "cells": [
  {
   "cell_type": "code",
   "execution_count": null,
   "metadata": {},
   "outputs": [],
   "source": [
    "'''\n",
    "遍历:\n",
    "    获取行列长度(引入额外的空间):\n",
    "        867(矩阵转置)\n",
    "        566(矩阵重塑)\n",
    "        48(图像旋转)\n",
    "\n",
    "        498(对角线遍历)\n",
    "        54/59(螺旋矩阵)\n",
    "        74(行列递增矩阵查找数字)(二分行+二分列) | 240(行列递增矩阵查找数字/有交叉)(迭代对角线/分别二分行与列)\n",
    "        深度优先搜索/递归: 200(岛屿数量) | 463(岛屿周长)\n",
    "        生成树(递归): 427\n",
    "    利用zip: 944 | 14\n",
    "'''"
   ]
  },
  {
   "source": [
    "### 867: 转置矩阵"
   ],
   "cell_type": "markdown",
   "metadata": {}
  },
  {
   "cell_type": "code",
   "execution_count": null,
   "metadata": {},
   "outputs": [],
   "source": [
    "def transpose(matrix: List[List[int]]) -> List[List[int]]:\n",
    "    m, n = len(matrix), len(matrix[0])\n",
    "    transposed = [[0] * m for _ in range(n)]\n",
    "    for i in range(m):\n",
    "        for j in range(n):\n",
    "            transposed[j][i] = matrix[i][j]\n",
    "    return transposed"
   ]
  },
  {
   "source": [
    "### 566: 重塑矩阵"
   ],
   "cell_type": "markdown",
   "metadata": {}
  },
  {
   "cell_type": "code",
   "execution_count": null,
   "metadata": {},
   "outputs": [],
   "source": [
    "def matrixReshape(nums: List[List[int]], r: int, c: int) -> List[List[int]]:\n",
    "    m, n = len(nums), len(nums[0])\n",
    "    if m * n != r * c:\n",
    "        return nums\n",
    "    \n",
    "    ans = [[0] * c for _ in range(r)]\n",
    "    for x in range(m * n):\n",
    "        ans[x // c][x % c] = nums[x // n][x % n]\n",
    "    \n",
    "    return ans"
   ]
  },
  {
   "source": [
    "### 48: 旋转图像 "
   ],
   "cell_type": "markdown",
   "metadata": {}
  },
  {
   "cell_type": "code",
   "execution_count": null,
   "metadata": {},
   "outputs": [],
   "source": [
    "def rotate(self, matrix: List[List[int]]) -> None:\n",
    "    \"\"\"\n",
    "    Do not return anything, modify matrix in-place instead.\n",
    "    \"\"\"\n",
    "    n = len(matrix)\n",
    "    # 水平翻转\n",
    "    for i in range(n // 2):\n",
    "        for j in range(n):\n",
    "            matrix[i][j], matrix[n - i - 1][j] = matrix[n - i - 1][j], matrix[i][j]\n",
    "    # 主对角线翻转\n",
    "    for i in range(n):\n",
    "        for j in range(i):\n",
    "            matrix[i][j], matrix[j][i] = matrix[j][i], matrix[i][j]"
   ]
  },
  {
   "source": [
    "### 498: 对角线遍历"
   ],
   "cell_type": "markdown",
   "metadata": {}
  },
  {
   "cell_type": "code",
   "execution_count": null,
   "metadata": {},
   "outputs": [],
   "source": [
    "def findDiagonalOrder(self, mat: List[List[int]]) -> List[int]:\n",
    "    if not mat or not mat[0]:\n",
    "        return []\n",
    "\n",
    "    N, M = len(mat), len(mat[0])\n",
    "    row, column = 0, 0\n",
    "    direction = 1\n",
    "    result = []\n",
    "\n",
    "    while row < N and column < M:\n",
    "        result.append(mat[row][column])\n",
    "        new_row = row + (-1 if direction == 1 else 1)\n",
    "        new_column = column + (1 if direction == 1 else -1)\n",
    "\n",
    "        if new_row < 0 or new_row == N or new_column < 0 or new_column == M:\n",
    "            if direction:\n",
    "                row += (column == M - 1)\n",
    "                column += (column < M - 1)\n",
    "            else:\n",
    "                column += (row == N - 1)\n",
    "                row += (row < N - 1)\n",
    "\n",
    "            direction = 1 - direction  \n",
    "        else:\n",
    "            row = new_row\n",
    "            column = new_column\n",
    "                    \n",
    "    return result  "
   ]
  },
  {
   "source": [
    "### 54: 螺旋矩阵"
   ],
   "cell_type": "markdown",
   "metadata": {}
  },
  {
   "cell_type": "code",
   "execution_count": null,
   "metadata": {},
   "outputs": [],
   "source": [
    "def spiralOrder(matrix: List[List[int]]) -> List[int]:\n",
    "    rows, columns = len(matrix), len(matrix[0])\n",
    "    order = list()\n",
    "\n",
    "    left, right, top, bottom = 0, columns - 1, 0, rows - 1\n",
    "    while left <= right and top <= bottom:\n",
    "        for column in range(left, right + 1):\n",
    "            order.append(matrix[top][column])\n",
    "        for row in range(top + 1, bottom + 1):\n",
    "            order.append(matrix[row][right])\n",
    "        if left < right and top < bottom:\n",
    "            for column in range(right - 1, left, -1):\n",
    "                order.append(matrix[bottom][column])\n",
    "            for row in range(bottom, top, -1):\n",
    "                order.append(matrix[row][left])\n",
    "        left, right, top, bottom = left + 1, right - 1, top + 1, bottom - 1\n",
    "    return order"
   ]
  },
  {
   "source": [
    "### 59. 螺旋矩阵 II"
   ],
   "cell_type": "markdown",
   "metadata": {}
  },
  {
   "cell_type": "code",
   "execution_count": null,
   "metadata": {},
   "outputs": [],
   "source": [
    "def generateMatrix(self, n: int) -> List[List[int]]:\n",
    "    rows, columns = n, n\n",
    "    matrix = [[0]*n for _ in range(n)]\n",
    "\n",
    "    left, right, top, bottom = 0, columns - 1, 0, rows - 1\n",
    "    i = 1\n",
    "    while left <= right and top <= bottom:\n",
    "        for column in range(left, right + 1):\n",
    "            matrix[top][column] = i\n",
    "            i += 1\n",
    "        for row in range(top + 1, bottom + 1):\n",
    "            matrix[row][right]=i\n",
    "            i += 1\n",
    "        if left < right and top < bottom:\n",
    "            for column in range(right - 1, left, -1):\n",
    "                matrix[bottom][column] = i\n",
    "                i += 1\n",
    "            for row in range(bottom, top, -1):\n",
    "                matrix[row][left] = i\n",
    "                i += 1\n",
    "        left, right, top, bottom = left + 1, right - 1, top + 1, bottom - 1\n",
    "    return matrix"
   ]
  },
  {
   "source": [
    "### 74: 行列递增矩阵查找数字"
   ],
   "cell_type": "markdown",
   "metadata": {}
  },
  {
   "cell_type": "code",
   "execution_count": null,
   "metadata": {},
   "outputs": [],
   "source": [
    "# 从二维数组的右上角开始查找。如果当前元素等于目标值，则返回 true。如果当前元素大于目标值，则移到左边一列。如果当前元素小于目标值，则移到下边一行\n",
    "def findNumberIn2DArray(self, matrix: List[List[int]], target: int) -> bool:\n",
    "    if matrix == None or len(matrix) == 0 or len(matrix[0]) == 0:\n",
    "        return False\n",
    "\n",
    "    rows, columns = len(matrix), len(matrix[0])\n",
    "    row = 0\n",
    "    column = columns - 1\n",
    "    while row < rows and column >= 0:\n",
    "        num = matrix[row][column]\n",
    "        if num == target:\n",
    "            return True\n",
    "        elif num > target:\n",
    "            column -= 1\n",
    "        else:\n",
    "            row += 1\n",
    "    return False\n",
    "\n",
    "# 二分查找\n",
    "def searchMatrix(self, matrix: List[List[int]], target: int) -> bool:\n",
    "    if len(matrix) < 1:return False\n",
    "    def getRow(matrix, target):\n",
    "        top = 0\n",
    "        bottom = len(matrix) - 1\n",
    "        col = len(matrix[0]) - 1\n",
    "        while top < bottom:\n",
    "            mid = (top+bottom)//2\n",
    "            if matrix[mid][col] < target:\n",
    "                top = mid + 1\n",
    "            else:\n",
    "                bottom = mid\n",
    "        return top\n",
    "    def find(data, target):\n",
    "        l = 0\n",
    "        r = len(data) - 1\n",
    "        while l <= r:\n",
    "            mid = (l+r)//2\n",
    "            if data[mid] == target:\n",
    "                return True\n",
    "            elif data[mid] < target:\n",
    "                l = mid + 1\n",
    "            else:\n",
    "                r = mid - 1\n",
    "        return False\n",
    "    row = getRow(matrix, target)\n",
    "    return find(matrix[row], target)"
   ]
  },
  {
   "source": [
    "### 240: 搜索二维矩阵 II"
   ],
   "cell_type": "markdown",
   "metadata": {}
  },
  {
   "cell_type": "code",
   "execution_count": null,
   "metadata": {},
   "outputs": [],
   "source": [
    "# 迭代矩阵对角线\n",
    "def searchMatrix(self, matrix: List[List[int]], target: int) -> bool:\n",
    "    if not matrix:\n",
    "        return False\n",
    "\n",
    "    def binary_search(matrix, target, start, vertical):\n",
    "        lo = start\n",
    "        hi = len(matrix)-1 if vertical else len(matrix[0])-1\n",
    "\n",
    "        while lo<=hi:\n",
    "            mid = (lo + hi)//2\n",
    "            if vertical: # searching a column\n",
    "                if matrix[mid][start] < target:\n",
    "                    lo = mid + 1\n",
    "                elif matrix[mid][start] > target:\n",
    "                    hi = mid - 1\n",
    "                else:\n",
    "                    return True\n",
    "            else: # searching a row\n",
    "                if matrix[start][mid] < target:\n",
    "                    lo = mid + 1\n",
    "                elif matrix[start][mid] > target:\n",
    "                    hi = mid - 1\n",
    "                else:\n",
    "                    return True\n",
    "        \n",
    "        return False\n",
    "\n",
    "    # iterate over matrix diagonals starting in bottom left.\n",
    "    for i in range(min(len(matrix), len(matrix[0]))):\n",
    "        vertical_found = binary_search(matrix, target, i, True)\n",
    "        horizontal_found = binary_search(matrix, target, i, False)\n",
    "        if vertical_found or horizontal_found:\n",
    "            return True\n",
    "    \n",
    "    return False\n",
    "# 从左下角开始\n",
    "def searchMatrix(self, matrix: List[List[int]], target: int) -> bool:\n",
    "        if matrix == None or len(matrix) == 0 or len(matrix[0]) == 0:\n",
    "            return False\n",
    "\n",
    "        rows, columns = len(matrix), len(matrix[0])\n",
    "        row = rows - 1\n",
    "        column = 0\n",
    "        while column < columns and row >= 0:\n",
    "            num = matrix[row][column]\n",
    "            if num == target:\n",
    "                return True\n",
    "            elif num > target:\n",
    "                row -= 1\n",
    "            else:\n",
    "                column += 1\n",
    "        return False"
   ]
  },
  {
   "source": [
    "### 200: 岛屿数量"
   ],
   "cell_type": "markdown",
   "metadata": {}
  },
  {
   "cell_type": "code",
   "execution_count": null,
   "metadata": {},
   "outputs": [],
   "source": [
    "def numIslands(self, grid: List[List[str]]) -> int:\n",
    "    dx = [0, 1, 0, -1]\n",
    "    dy = [1, 0, -1, 0]\n",
    "\n",
    "    def dfs(x, y, grid, n, m):\n",
    "        grid[x][y] = 0\n",
    "        for i in range(4):\n",
    "            tx = x + dx[i]\n",
    "            ty = y + dy[i]\n",
    "            if 0 <= tx < n and 0 <= ty < m and grid[tx][ty] == \"1\":\n",
    "                dfs(tx, ty, grid, n, m)\n",
    "\n",
    "    n = len(grid)\n",
    "    if n==0:\n",
    "        return 0\n",
    "    m = len(grid[0])\n",
    "    num = 0\n",
    "    for i in range(n):\n",
    "        for j in range(m):\n",
    "            if grid[i][j] == \"1\":\n",
    "                num += 1\n",
    "                dfs(i, j, grid, n, m)\n",
    "\n",
    "    return num"
   ]
  },
  {
   "source": [
    "### 463: 岛屿的周长"
   ],
   "cell_type": "markdown",
   "metadata": {}
  },
  {
   "cell_type": "code",
   "execution_count": null,
   "metadata": {},
   "outputs": [],
   "source": [
    "def islandPerimeter(grid: List[List[int]]) -> int:\n",
    "    dx = [0, 1, 0, -1]\n",
    "    dy = [1, 0, -1, 0]\n",
    "\n",
    "    def dfs(x, y, grid, n, m):\n",
    "        if x<0 or x>=n or y<0 or y>=m or not grid[x][y]:\n",
    "            return 1\n",
    "        if grid[x][y] == 2:\n",
    "            return 0\n",
    "        \n",
    "        grid[x][y] = 2\n",
    "        res = 0\n",
    "        for i in range(4):\n",
    "            tx = x + dx[i]\n",
    "            ty = y + dy[i]\n",
    "            res += dfs(tx, ty, grid, n, m)\n",
    "\n",
    "        return res\n",
    "\n",
    "    ans = 0\n",
    "    n, m = len(grid), len(grid[0])\n",
    "    for i in range(n):\n",
    "        for j in range(m):\n",
    "            if grid[i][j]:\n",
    "                ans += dfs(i, j, grid, n, m)\n",
    "\n",
    "    return ans"
   ]
  },
  {
   "source": [
    "### 427: 建立四叉树"
   ],
   "cell_type": "markdown",
   "metadata": {}
  },
  {
   "cell_type": "code",
   "execution_count": null,
   "metadata": {},
   "outputs": [],
   "source": [
    "class Node:\n",
    "    def __init__(self, val, isLeaf, topLeft, topRight, bottomLeft, bottomRight):\n",
    "        self.val = val\n",
    "        self.isLeaf = isLeaf\n",
    "        self.topLeft = topLeft\n",
    "        self.topRight = topRight\n",
    "        self.bottomLeft = bottomLeft\n",
    "        self.bottomRight = bottomRight\n",
    "        \n",
    "def construct(grid: List[List[int]]) -> 'Node':\n",
    "    m = len(grid)\n",
    "    n = len(grid[0])\n",
    "\n",
    "    def constructTree(grid, lx, ly, hx, hy):\n",
    "        isleaf = True\n",
    "        for i in range(lx, hx+1):\n",
    "            for j in range(ly, hy+1):\n",
    "                if grid[i][j] != grid[lx][ly]:\n",
    "                    isleaf = False\n",
    "                    break\n",
    "\n",
    "        if isleaf:\n",
    "            return Node(grid[lx][ly], isleaf)\n",
    "        mx = (lx+hx)//2\n",
    "        my = (ly+hy)//2\n",
    "        topleft = constructTree(grid, lx, ly, mx, my)\n",
    "        topright = constructTree(grid, lx, my+1, mx, hy)\n",
    "        bottomleft = constructTree(grid, mx+1, ly, hx, my)\n",
    "        bottomright = constructTree(grid, mx+1, my+1, hx, hy)\n",
    "\n",
    "        return Node(True, isleaf, topleft, topright, bottomleft, bottomright)\n",
    "\n",
    "    return constructTree(grid, 0, 0, m-1, n-1)"
   ]
  },
  {
   "source": [
    "### 944: 删列造序"
   ],
   "cell_type": "markdown",
   "metadata": {}
  },
  {
   "cell_type": "code",
   "execution_count": null,
   "metadata": {},
   "outputs": [],
   "source": [
    "def minDeletionSize(A):\n",
    "    ans = 0\n",
    "    for col in zip(*A):\n",
    "        if any(col[i] > col[i+1] for i in range(len(col) - 1)):\n",
    "            ans += 1\n",
    "    return ans"
   ]
  },
  {
   "source": [
    "### 14: 最长公共前缀"
   ],
   "cell_type": "markdown",
   "metadata": {}
  },
  {
   "cell_type": "code",
   "execution_count": null,
   "metadata": {},
   "outputs": [],
   "source": [
    "def longestCommonPrefix(strs: List[str]) -> str:\n",
    "    ans = \"\"\n",
    "    n = len(strs)\n",
    "    for col in zip(*strs):\n",
    "        if any(c!=col[0] for c in col):\n",
    "            return ans\n",
    "        ans += col[0]\n",
    "\n",
    "    return ans"
   ]
  }
 ]
}