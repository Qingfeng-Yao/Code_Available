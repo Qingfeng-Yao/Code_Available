{
 "metadata": {
  "language_info": {
   "codemirror_mode": {
    "name": "ipython",
    "version": 3
   },
   "file_extension": ".py",
   "mimetype": "text/x-python",
   "name": "python",
   "nbconvert_exporter": "python",
   "pygments_lexer": "ipython3",
   "version": 3
  },
  "orig_nbformat": 2
 },
 "nbformat": 4,
 "nbformat_minor": 2,
 "cells": [
  {
   "cell_type": "code",
   "execution_count": null,
   "metadata": {},
   "outputs": [],
   "source": [
    "'''\n",
    "遍历+迭代/递归: 206/92(反转) | 21(合并) | 剑指 Offer 06 从尾到头打印链表\n",
    "    迭代: 循环\n",
    "    递归: 边界条件\n",
    "    迭代遍历+双指针(查找): 160(两个链表) | 876/234/141/142(一个链表/快慢指针) | 剑指 Offer 22(一个链表/差距指针) | 19\n",
    "    链表的创建:\n",
    "        利用伪头部: 21 | 25 | 92\n",
    "        复制: 138\n",
    "'''"
   ]
  },
  {
   "cell_type": "code",
   "execution_count": null,
   "metadata": {},
   "outputs": [],
   "source": [
    "# 链表的定义\n",
    "class ListNode:\n",
    "    def __init__(self, x):\n",
    "        self.val = x\n",
    "        self.next = None"
   ]
  },
  {
   "source": [
    "### 206: 反转链表"
   ],
   "cell_type": "markdown",
   "metadata": {}
  },
  {
   "cell_type": "code",
   "execution_count": null,
   "metadata": {},
   "outputs": [],
   "source": [
    "# 迭代\n",
    "def reverseList(head: ListNode) -> ListNode:\n",
    "    prev = None\n",
    "    curr = head\n",
    "    while curr != None:\n",
    "        temp = curr.next\n",
    "        curr.next = prev\n",
    "        prev = curr \n",
    "        curr = temp\n",
    "    return prev\n",
    "\n",
    "# 递归\n",
    "def reverseList(head: ListNode) -> ListNode:\n",
    "    if head == None or head.next == None:\n",
    "        return head\n",
    "    p = reverseList(head.next)\n",
    "    head.next.next = head\n",
    "    head.next = None\n",
    "\n",
    "    return p"
   ]
  },
  {
   "source": [
    "### 92: 反转链表 II"
   ],
   "cell_type": "markdown",
   "metadata": {}
  },
  {
   "cell_type": "code",
   "execution_count": null,
   "metadata": {},
   "outputs": [],
   "source": [
    "def reverseBetween(self, head: ListNode, left: int, right: int) -> ListNode:\n",
    "    def reverseList(head):\n",
    "        prev = None\n",
    "        curr = head\n",
    "        while curr:\n",
    "            temp = curr.next\n",
    "            curr.next = prev\n",
    "            prev = curr \n",
    "            curr = temp\n",
    "        return prev\n",
    "\n",
    "    dummy_node = ListNode(-1)\n",
    "    dummy_node.next = head\n",
    "    pre = dummy_node\n",
    "    # 第 1 步：从虚拟头节点走 left - 1 步，来到 left 节点的前一个节点\n",
    "    for _ in range(left - 1):\n",
    "        pre = pre.next\n",
    "\n",
    "    # 第 2 步：从 pre 再走 right - left + 1 步，来到 right 节点\n",
    "    right_node = pre\n",
    "    for _ in range(right - left + 1):\n",
    "        right_node = right_node.next\n",
    "    # 第 3 步：切断出一个子链表（截取链表）\n",
    "    left_node = pre.next\n",
    "    curr = right_node.next\n",
    "\n",
    "    # 注意：切断链接\n",
    "    pre.next = None\n",
    "    right_node.next = None\n",
    "\n",
    "    # 第 4 步：反转链表的子区间\n",
    "    reverseList(left_node)\n",
    "    # 第 5 步：接回到原来的链表中\n",
    "    pre.next = right_node\n",
    "    left_node.next = curr\n",
    "    return dummy_node.next"
   ]
  },
  {
   "source": [
    "### 21: 合并两个有序链表"
   ],
   "cell_type": "markdown",
   "metadata": {}
  },
  {
   "cell_type": "code",
   "execution_count": null,
   "metadata": {},
   "outputs": [],
   "source": [
    "# 迭代\n",
    "## 设置一个伪头部结点\n",
    "## 遍历两个链表\n",
    "def mergeTwoLists(l1: ListNode, l2: ListNode) -> ListNode:\n",
    "    prehead = ListNode(-1)\n",
    "    prev = prehead\n",
    "\n",
    "    while l1!=None and l2!=None:\n",
    "        if l1.val<=l2.val:\n",
    "            prev.next = l1\n",
    "            l1 = l1.next\n",
    "        else:\n",
    "            prev.next = l2\n",
    "            l2 = l2.next\n",
    "        prev = prev.next\n",
    "\n",
    "    # 合并后 l1 和 l2 最多只有一个还未被合并完，我们直接将链表末尾指向未合并完的链表即可\n",
    "    if l1==None:\n",
    "        prev.next = l2\n",
    "    else:\n",
    "        prev.next = l1\n",
    "\n",
    "    return prehead.next\n",
    "\n",
    "# 递归\n",
    "def mergeTwoLists(l1: ListNode, l2: ListNode) -> ListNode:\n",
    "    if l1==None:\n",
    "        return l2\n",
    "    elif l2==None:\n",
    "        return l1\n",
    "    elif l1.val<l2.val:\n",
    "        l1.next = mergeTwoLists(l1.next, l2)\n",
    "        return l1\n",
    "    else:\n",
    "        l2.next = mergeTwoLists(l1, l2.next)\n",
    "        return l2"
   ]
  },
  {
   "source": [
    "### 剑指 Offer 06 从尾到头打印链表"
   ],
   "cell_type": "markdown",
   "metadata": {}
  },
  {
   "cell_type": "code",
   "execution_count": null,
   "metadata": {},
   "outputs": [],
   "source": [
    "def reversePrint(self, head: ListNode) -> List[int]:\n",
    "        temp = []\n",
    "        curr = head\n",
    "        while curr:\n",
    "            temp.append(curr.val)\n",
    "            curr = curr.next\n",
    "        return temp[::-1]"
   ]
  },
  {
   "source": [
    "### 160: 相交链表"
   ],
   "cell_type": "markdown",
   "metadata": {}
  },
  {
   "cell_type": "code",
   "execution_count": null,
   "metadata": {},
   "outputs": [],
   "source": [
    "# 创建两个指针 pA 和 pB，分别初始化为链表 A 和 B 的头结点\n",
    "# 然后让它们向后逐结点遍历\n",
    "# 当 pA 到达链表的尾部时，将它重定位到链表 B 的头结点 ; 类似的，当 pB 到达链表的尾部时，将它重定位到链表 A 的头结点\n",
    "# 若在某一时刻 pA 和 pB 相遇，则 pA/pB 为相交结点\n",
    "def getIntersectionNode(headA: ListNode, headB: ListNode) -> ListNode:\n",
    "    head1 = headA\n",
    "    head2 = headB\n",
    "\n",
    "    while head1 != head2:\n",
    "        if head1:\n",
    "            head1 = head1.next\n",
    "        else:\n",
    "            head1 = headB\n",
    "        if head2:\n",
    "            head2 = head2.next\n",
    "        else:\n",
    "            head2 = headA\n",
    "\n",
    "    return head1"
   ]
  },
  {
   "source": [
    "### 876: 链表的中间结点"
   ],
   "cell_type": "markdown",
   "metadata": {}
  },
  {
   "cell_type": "code",
   "execution_count": null,
   "metadata": {},
   "outputs": [],
   "source": [
    "# 快慢指针法\n",
    "def middleNode(head: ListNode) -> ListNode:\n",
    "    slow = fast = head\n",
    "    while fast and fast.next:\n",
    "        slow = slow.next\n",
    "        fast = fast.next.next\n",
    "    return slow"
   ]
  },
  {
   "source": [
    "### 234: 回文链表"
   ],
   "cell_type": "markdown",
   "metadata": {}
  },
  {
   "cell_type": "code",
   "execution_count": null,
   "metadata": {},
   "outputs": [],
   "source": [
    "def isPalindrome(head: ListNode) -> bool:\n",
    "    slow = fast = head\n",
    "    prev = None\n",
    "    curr = head\n",
    "    while fast and fast.next:\n",
    "        curr = slow\n",
    "        slow = slow.next\n",
    "        fast = fast.next.next\n",
    "        curr.next = prev\n",
    "        prev = curr\n",
    "\n",
    "    if fast:\n",
    "        slow = slow.next\n",
    "    while curr and slow:\n",
    "        if curr.val != slow.val:\n",
    "            return False\n",
    "        curr = curr.next\n",
    "        slow = slow.next\n",
    "\n",
    "    return True"
   ]
  },
  {
   "source": [
    "### 141: 环形链表"
   ],
   "cell_type": "markdown",
   "metadata": {}
  },
  {
   "cell_type": "code",
   "execution_count": null,
   "metadata": {},
   "outputs": [],
   "source": [
    "def hasCycle(head: ListNode) -> bool:\n",
    "    if not head or not head.next:\n",
    "        return False\n",
    "    \n",
    "    slow = head\n",
    "    fast = head.next\n",
    "\n",
    "    while slow != fast:\n",
    "        if not fast or not fast.next:\n",
    "            return False\n",
    "        slow = slow.next\n",
    "        fast = fast.next.next\n",
    "    \n",
    "    return True"
   ]
  },
  {
   "source": [
    "### 142: 环形链表 II"
   ],
   "cell_type": "markdown",
   "metadata": {}
  },
  {
   "cell_type": "code",
   "execution_count": null,
   "metadata": {},
   "outputs": [],
   "source": [
    "def detectCycle(head: ListNode) -> ListNode:\n",
    "    if not head:\n",
    "        return head\n",
    "    \n",
    "    slow = fast = head\n",
    "    while fast:\n",
    "        slow = slow.next\n",
    "        if fast.next:\n",
    "            fast = fast.next.next\n",
    "        else:\n",
    "            return None\n",
    "        if fast == slow:\n",
    "            ptr = head\n",
    "            while ptr != slow:\n",
    "                ptr = ptr.next\n",
    "                slow = slow.next\n",
    "\n",
    "            return ptr\n",
    "\n",
    "    return None"
   ]
  },
  {
   "source": [
    "### 剑指 Offer 22: 链表中倒数第k个节点"
   ],
   "cell_type": "markdown",
   "metadata": {}
  },
  {
   "cell_type": "code",
   "execution_count": null,
   "metadata": {},
   "outputs": [],
   "source": [
    "def getKthFromEnd(head: ListNode, k: int) -> ListNode:\n",
    "    former, latter = head, head\n",
    "    for _ in range(k):\n",
    "        former = former.next\n",
    "    while former:\n",
    "        former, latter = former.next, latter.next\n",
    "    return latter"
   ]
  },
  {
   "source": [
    "### 19: 删除链表的倒数第 N 个结点"
   ],
   "cell_type": "markdown",
   "metadata": {}
  },
  {
   "cell_type": "code",
   "execution_count": null,
   "metadata": {},
   "outputs": [],
   "source": [
    "def removeNthFromEnd(head: ListNode, n: int) -> ListNode:\n",
    "    dummy = ListNode(0, head)\n",
    "    first = head\n",
    "    second = dummy\n",
    "    for i in range(n):\n",
    "        first = first.next\n",
    "\n",
    "    while first:\n",
    "        first = first.next\n",
    "        second = second.next\n",
    "    \n",
    "    second.next = second.next.next\n",
    "    return dummy.next"
   ]
  },
  {
   "source": [
    "### 25: K 个一组翻转链表"
   ],
   "cell_type": "markdown",
   "metadata": {}
  },
  {
   "cell_type": "code",
   "execution_count": null,
   "metadata": {},
   "outputs": [],
   "source": [
    "def reverse(head: ListNode, tail: ListNode):\n",
    "        prev = tail.next\n",
    "        p = head\n",
    "        while prev != tail:\n",
    "            nex = p.next\n",
    "            p.next = prev\n",
    "            prev = p\n",
    "            p = nex\n",
    "        return tail, head\n",
    "\n",
    "def reverseKGroup(head: ListNode, k: int) -> ListNode:\n",
    "        hair = ListNode(0)\n",
    "        hair.next = head\n",
    "        pre = hair\n",
    "\n",
    "        while head:\n",
    "            tail = pre\n",
    "            # 查看剩余部分长度是否大于等于 k\n",
    "            for i in range(k):\n",
    "                tail = tail.next\n",
    "                if not tail:\n",
    "                    return hair.next\n",
    "            nex = tail.next\n",
    "            head, tail = reverse(head, tail)\n",
    "            # 把子链表重新接回原链表\n",
    "            pre.next = head\n",
    "            tail.next = nex\n",
    "            pre = tail\n",
    "            head = tail.next\n",
    "\n",
    "        return hair.next"
   ]
  },
  {
   "source": [
    "### 138: 复制带随机指针的链表"
   ],
   "cell_type": "markdown",
   "metadata": {}
  },
  {
   "cell_type": "code",
   "execution_count": null,
   "metadata": {},
   "outputs": [],
   "source": [
    "def copyRandomList(head: 'Node') -> 'Node':\n",
    "    if not head:\n",
    "        return head\n",
    "\n",
    "    ptr = head\n",
    "    while ptr:\n",
    "        new_node = Node(ptr.val, None, None)\n",
    "        new_node.next = ptr.next\n",
    "        ptr.next = new_node\n",
    "        ptr = new_node.next\n",
    "\n",
    "    ptr = head\n",
    "    while ptr:\n",
    "        ptr.next.random = ptr.random.next if ptr.random else None\n",
    "        ptr = ptr.next.next\n",
    "\n",
    "    ptr_old_list = head # A->B->C\n",
    "    ptr_new_list = head.next # A'->B'->C'\n",
    "    head_old = head.next\n",
    "    while ptr_old_list:\n",
    "        ptr_old_list.next = ptr_old_list.next.next\n",
    "        ptr_new_list.next = ptr_new_list.next.next if ptr_new_list.next else None\n",
    "        ptr_old_list = ptr_old_list.next\n",
    "        ptr_new_list = ptr_new_list.next\n",
    "    return head_old"
   ]
  }
 ]
}