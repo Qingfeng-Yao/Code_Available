{
 "metadata": {
  "language_info": {
   "codemirror_mode": {
    "name": "ipython",
    "version": 3
   },
   "file_extension": ".py",
   "mimetype": "text/x-python",
   "name": "python",
   "nbconvert_exporter": "python",
   "pygments_lexer": "ipython3",
   "version": "3.6.13"
  },
  "orig_nbformat": 2,
  "kernelspec": {
   "name": "python3613jvsc74a57bd072506cc1e4b0dce5eb876f653d1c5faf29777724f7cbfb23a9a7a2a764425624",
   "display_name": "Python 3.6.13 64-bit ('lnf': conda)"
  }
 },
 "nbformat": 4,
 "nbformat_minor": 2,
 "cells": [
  {
   "cell_type": "code",
   "execution_count": null,
   "metadata": {},
   "outputs": [],
   "source": [
    "'''\n",
    "1、排序\n",
    "    .sort(key)或sorted(): 905 | 937 | 179\n",
    "    让所有奇数都在偶数前面，而且奇数升序排列，偶数降序排序，如字符串'1982376455',变成'1355798642'\n",
    "2、遍历\n",
    "    哈希表: 1 | 41(优化空间复杂度)\n",
    "    栈: 496(找右边第 1 个大于比自己大的数)(栈尾元素)\n",
    "    队列: 239(单调队列)\n",
    "    双指针: \n",
    "        两边指针: 15(三数之和) | 977(有序数组的平方) | 189(旋转数组)\n",
    "        两个输入: 350/88(整数数组) | 415(字符串)\n",
    "        排序(涉及索引): 922(奇偶排序) | 283(移动零) | 942(增减字符串匹配) | 31(下一个排列)\n",
    "3、动态规划(最值/递推公式): 动态数组(索引和元素值/动态转移公式): 122/青蛙跳跃 | 1696(使用队列存储历史记录进而实现动态转移) | 1691(元素值叠加: 动态数组长度加1) | 509/70(递推公式)\n",
    "    最值: 设置数组，值与目标值有关，但索引不是动态的: 1674(索引为和/遍历动态索引/差分数组做区间更新)\n",
    "    最值: 堆(最小值): 1675\n",
    "    动态函数+递归+字典: 788\n",
    "    博弈: 1690\n",
    "4、二分查找(查找部分有序数组中的某个值)(确定中间索引+while): 852(山脉数组) | 33(旋转数组查找) | 153(旋转数组最小值) | 154(旋转数组最小值/有重复) | 69(平方根) | 34(排序数组查找)\n",
    "\n",
    "优化：\n",
    "    剑指 Offer 39: 数组中出现次数超过一半的数字\n",
    "'''"
   ]
  },
  {
   "source": [
    "### 905: 按奇偶排序数组"
   ],
   "cell_type": "markdown",
   "metadata": {}
  },
  {
   "cell_type": "code",
   "execution_count": null,
   "metadata": {},
   "outputs": [],
   "source": [
    "def sortArrayByParity(A):\n",
    "    A.sort(key = lambda x: x % 2)\n",
    "    return A"
   ]
  },
  {
   "source": [
    "### 937: 重新排列日志文件"
   ],
   "cell_type": "markdown",
   "metadata": {}
  },
  {
   "cell_type": "code",
   "execution_count": null,
   "metadata": {},
   "outputs": [],
   "source": [
    "def reorderLogFiles(logs):\n",
    "    def f(log):\n",
    "        id_, rest = log.split(\" \", 1)\n",
    "        return (0, rest, id_) if rest[0].isalpha() else (1,)\n",
    "\n",
    "    return sorted(logs, key = f)"
   ]
  },
  {
   "source": [
    "### 179: 最大数"
   ],
   "cell_type": "markdown",
   "metadata": {}
  },
  {
   "cell_type": "code",
   "execution_count": null,
   "metadata": {},
   "outputs": [],
   "source": [
    "def largestNumber(nums: List[int]) -> str:\n",
    "    ans = sorted(map(str, nums), key=cmp_to_key(lambda x,y: int(y+x)-int(x+y)))\n",
    "    return str(int(\"\".join(ans)))"
   ]
  },
  {
   "source": [
    "### 所有奇数都在偶数前面，而且奇数升序排列，偶数降序排序"
   ],
   "cell_type": "markdown",
   "metadata": {}
  },
  {
   "cell_type": "code",
   "execution_count": 4,
   "metadata": {},
   "outputs": [
    {
     "output_type": "stream",
     "name": "stdout",
     "text": [
      "1355798642\n1355798642\n"
     ]
    }
   ],
   "source": [
    "def func(l):\n",
    "    print(\"\".join(sorted(l, key=lambda x: int(x) % 2 == 0 and 20 - int(x) or int(x))))\n",
    "def func1(l):\n",
    "    def f(x):\n",
    "        return (1, 10-int(x)) if int(x) % 2 == 0 else (0, int(x))\n",
    "    print(\"\".join(sorted(l, key=f)))\n",
    "func(s)\n",
    "func1(s)"
   ]
  },
  {
   "source": [
    "### 1: 两数之和"
   ],
   "cell_type": "markdown",
   "metadata": {}
  },
  {
   "cell_type": "code",
   "execution_count": null,
   "metadata": {},
   "outputs": [],
   "source": [
    "def twoSum(nums: List[int], target: int) -> List[int]:\n",
    "    hashtable = dict()\n",
    "    for i, v in enumerate(nums):\n",
    "        if target - v in hashtable:\n",
    "            return [hashtable[target - v], i]\n",
    "        hashtable[v] = i\n",
    "\n",
    "    return [] "
   ]
  },
  {
   "source": [
    "### 41: 缺失的第一个正数"
   ],
   "cell_type": "markdown",
   "metadata": {}
  },
  {
   "cell_type": "code",
   "execution_count": null,
   "metadata": {},
   "outputs": [],
   "source": [
    "# 对于一个长度为 N 的数组，其中没有出现的最小正整数只能在 [1, N+1] 中\n",
    "# 将数组设计成哈希表的思路: 打标记/置换\n",
    "# 打标记/变成负数\n",
    "def firstMissingPositive(self, nums: List[int]) -> int:\n",
    "    n = len(nums)\n",
    "    for i in range(n):\n",
    "        if nums[i] <= 0:\n",
    "            nums[i] = n + 1\n",
    "    \n",
    "    for i in range(n):\n",
    "        num = abs(nums[i])\n",
    "        if num <= n:\n",
    "            nums[num - 1] = -abs(nums[num - 1])\n",
    "    \n",
    "    for i in range(n):\n",
    "        if nums[i] > 0:\n",
    "            return i + 1\n",
    "    \n",
    "    return n + 1\n",
    "\n",
    "# 置换\n",
    "# 如果数组中包含 x \\in [1, N]，那么置换后，数组的第 x - 1 个元素为 x\n",
    "def firstMissingPositive(self, nums: List[int]) -> int:\n",
    "    n = len(nums)\n",
    "    for i in range(n):\n",
    "        while 1 <= nums[i] <= n and nums[nums[i] - 1] != nums[i]: # 避免死循环\n",
    "            nums[nums[i] - 1], nums[i] = nums[i], nums[nums[i] - 1]\n",
    "    for i in range(n):\n",
    "        if nums[i] != i + 1:\n",
    "            return i + 1\n",
    "    return n + 1"
   ]
  },
  {
   "source": [
    "### 496: 下一个更大元素 I"
   ],
   "cell_type": "markdown",
   "metadata": {}
  },
  {
   "cell_type": "code",
   "execution_count": null,
   "metadata": {},
   "outputs": [],
   "source": [
    "def nextGreaterElement(nums1: List[int], nums2: List[int]) -> List[int]:\n",
    "    n1 = len(nums1)\n",
    "    n2 = len(nums2)\n",
    "    stack = []\n",
    "    d = {}\n",
    "    for i in range(n2):\n",
    "        while len(stack) != 0 and stack[-1] < nums2[i]:\n",
    "            d[stack[-1]] = nums2[i]\n",
    "            stack.pop()\n",
    "\n",
    "        stack.append(nums2[i])\n",
    "\n",
    "    ans = []\n",
    "    for i in range(n1):\n",
    "        ans.append(d.get(nums1[i], -1))\n",
    "\n",
    "    return ans"
   ]
  },
  {
   "source": [
    "### 239: 滑动窗口最大值"
   ],
   "cell_type": "markdown",
   "metadata": {}
  },
  {
   "cell_type": "code",
   "execution_count": null,
   "metadata": {},
   "outputs": [],
   "source": [
    "def maxSlidingWindow(nums: List[int], k: int) -> List[int]:\n",
    "    n = len(nums)\n",
    "    q = collections.deque()\n",
    "    for i in range(k):\n",
    "        while q and nums[i] >= nums[q[-1]]:\n",
    "            q.pop()\n",
    "        q.append(i)\n",
    "\n",
    "    ans = [nums[q[0]]]\n",
    "    for i in range(k, n):\n",
    "        while q and nums[i] >= nums[q[-1]]:\n",
    "            q.pop()\n",
    "        q.append(i)\n",
    "        while q[0] <= i - k:\n",
    "            q.popleft()\n",
    "        ans.append(nums[q[0]])\n",
    "    \n",
    "    return ans"
   ]
  },
  {
   "source": [
    "### 15: 三数之和"
   ],
   "cell_type": "markdown",
   "metadata": {}
  },
  {
   "cell_type": "code",
   "execution_count": null,
   "metadata": {},
   "outputs": [],
   "source": [
    "# 将三重循环优化成二重循环，对于最后两重循环优化成双指针，因为第二重和第三重由于和的关系是有联系的\n",
    "def threeSum(nums: List[int]) -> List[List[int]]:\n",
    "    n = len(nums)\n",
    "    nums.sort()\n",
    "    ans = list()\n",
    "\n",
    "    # 枚举 a\n",
    "    for first in range(n):\n",
    "        # 需要和上一次枚举的数不相同\n",
    "        if first > 0 and nums[first] == nums[first - 1]:\n",
    "            continue\n",
    "        # c 对应的指针初始指向数组的最右端\n",
    "        third = n - 1\n",
    "        target = -nums[first]\n",
    "        # 枚举 b\n",
    "        for second in range(first + 1, n):\n",
    "            # 需要和上一次枚举的数不相同\n",
    "            if second > first + 1 and nums[second] == nums[second - 1]:\n",
    "                continue\n",
    "            # 需要保证 b 的指针在 c 的指针的左侧\n",
    "            while second < third and nums[second] + nums[third] > target:\n",
    "                third -= 1\n",
    "            # 如果指针重合，随着 b 后续的增加\n",
    "            # 就不会有满足 a+b+c=0 并且 b<c 的 c 了，可以退出循环\n",
    "            if second == third:\n",
    "                break\n",
    "            if nums[second] + nums[third] == target:\n",
    "                ans.append([nums[first], nums[second], nums[third]])\n",
    "\n",
    "    return ans"
   ]
  },
  {
   "source": [
    "### 977: 有序数组的平方"
   ],
   "cell_type": "markdown",
   "metadata": {}
  },
  {
   "cell_type": "code",
   "execution_count": null,
   "metadata": {},
   "outputs": [],
   "source": [
    "def sortedSquares(nums: List[int]) -> List[int]:\n",
    "    n = len(nums)\n",
    "    ans = [0] * n\n",
    "    \n",
    "    i, j, pos = 0, n - 1, n - 1 # 双指针从两边\n",
    "    while i <= j:\n",
    "        if nums[i] * nums[i] > nums[j] * nums[j]:\n",
    "            ans[pos] = nums[i] * nums[i]\n",
    "            i += 1\n",
    "        else:\n",
    "            ans[pos] = nums[j] * nums[j]\n",
    "            j -= 1\n",
    "        pos -= 1\n",
    "    \n",
    "    return ans"
   ]
  },
  {
   "source": [
    "### 189: 旋转数组"
   ],
   "cell_type": "markdown",
   "metadata": {}
  },
  {
   "cell_type": "code",
   "execution_count": null,
   "metadata": {},
   "outputs": [],
   "source": [
    "def rotate(self, nums: List[int], k: int) -> None:\n",
    "    \"\"\"\n",
    "    Do not return anything, modify nums in-place instead.\n",
    "    \"\"\"\n",
    "    def reverse(nums, start, end):\n",
    "        while start<end:\n",
    "            nums[start], nums[end] = nums[end], nums[start]\n",
    "            start += 1\n",
    "            end -= 1\n",
    "\n",
    "    k %= len(nums)\n",
    "    reverse(nums, 0, len(nums)-1)\n",
    "    reverse(nums, 0, k-1)\n",
    "    reverse(nums, k, len(nums)-1)"
   ]
  },
  {
   "source": [
    "### 350: 两个数组的交集 II"
   ],
   "cell_type": "markdown",
   "metadata": {}
  },
  {
   "cell_type": "code",
   "execution_count": null,
   "metadata": {},
   "outputs": [],
   "source": [
    "def intersect(nums1: List[int], nums2: List[int]) -> List[int]:\n",
    "    nums1.sort()\n",
    "    nums2.sort()\n",
    "\n",
    "    length1, length2 = len(nums1), len(nums2)\n",
    "    intersection = list()\n",
    "    index1 = index2 = 0\n",
    "    while index1 < length1 and index2 < length2:\n",
    "        if nums1[index1] < nums2[index2]:\n",
    "            index1 += 1\n",
    "        elif nums1[index1] > nums2[index2]:\n",
    "            index2 += 1\n",
    "        else:\n",
    "            intersection.append(nums1[index1])\n",
    "            index1 += 1\n",
    "            index2 += 1\n",
    "    \n",
    "    return intersection"
   ]
  },
  {
   "source": [
    "### 88: 合并两个有序数组"
   ],
   "cell_type": "markdown",
   "metadata": {}
  },
  {
   "cell_type": "code",
   "execution_count": null,
   "metadata": {},
   "outputs": [],
   "source": [
    "def merge(nums1: List[int], m: int, nums2: List[int], n: int) -> None:\n",
    "    \"\"\"\n",
    "    Do not return anything, modify nums1 in-place instead.\n",
    "    \"\"\"\n",
    "    i=m-1\n",
    "    j=n-1\n",
    "    tail=m+n-1\n",
    "    while i>=0 or j>=0:\n",
    "        if i==-1:\n",
    "            nums1[tail] = nums2[j]\n",
    "            tail -= 1\n",
    "            j -= 1\n",
    "        elif j==-1:\n",
    "            nums1[tail] = nums1[i]\n",
    "            tail -= 1\n",
    "            i -= 1\n",
    "        elif nums1[i]<nums2[j]:\n",
    "            nums1[tail] = nums2[j]\n",
    "            tail -= 1\n",
    "            j -= 1\n",
    "        else:\n",
    "            nums1[tail] = nums1[i]\n",
    "            tail -= 1\n",
    "            i -= 1"
   ]
  },
  {
   "source": [
    "### 415: 字符串相加"
   ],
   "cell_type": "markdown",
   "metadata": {}
  },
  {
   "cell_type": "code",
   "execution_count": null,
   "metadata": {},
   "outputs": [],
   "source": [
    "# 模拟「竖式加法」的过程\n",
    "# 定义两个指针i和j分别指向num_1和num_2的末尾，即最低位，同时定义一个变量add维护当前是否有进位，然后从末尾到开头逐位相加即可\n",
    "def addStrings(num1: str, num2: str) -> str:\n",
    "    i = len(num1)-1\n",
    "    j = len(num2)-1\n",
    "    add = 0\n",
    "    ans = []\n",
    "    while i>=0 or j>=0 or add!=0:\n",
    "        x = ord(num1[i])-ord('0') if i>=0 else 0\n",
    "        y = ord(num2[j])-ord('0') if j>=0 else 0\n",
    "        result = x+y+add\n",
    "        ans.append(chr(result%10+ord('0')))\n",
    "        add = result//10\n",
    "        i -= 1\n",
    "        j -= 1\n",
    "\n",
    "    return \"\".join(ans[::-1])"
   ]
  },
  {
   "source": [
    "### 922: 按奇偶排序数组 II"
   ],
   "cell_type": "markdown",
   "metadata": {}
  },
  {
   "cell_type": "code",
   "execution_count": null,
   "metadata": {},
   "outputs": [],
   "source": [
    "def sortArrayByParityII(nums: List[int]) -> List[int]:\n",
    "    n = len(nums)\n",
    "    j = 1\n",
    "    for i in range(0, n, 2): # 为数组的偶数下标部分和奇数下标部分分别维护指针i和j\n",
    "        if nums[i] % 2 != 0:\n",
    "            while nums[j] % 2 != 0:\n",
    "                j += 2\n",
    "            nums[i], nums[j] = nums[j], nums[i]\n",
    "\n",
    "    return nums"
   ]
  },
  {
   "source": [
    "### 283: 移动零"
   ],
   "cell_type": "markdown",
   "metadata": {}
  },
  {
   "cell_type": "code",
   "execution_count": null,
   "metadata": {},
   "outputs": [],
   "source": [
    "def moveZeroes(nums: List[int]) -> None: # 使用双指针，左指针指向当前已经处理好的序列的尾部，右指针指向待处理序列的头部\n",
    "    n = len(nums)\n",
    "    left = right = 0\n",
    "    while right < n:\n",
    "        if nums[right] != 0:\n",
    "            nums[left], nums[right] = nums[right], nums[left]\n",
    "            left += 1\n",
    "        right += 1"
   ]
  },
  {
   "source": [
    "### 942: 增减字符串匹配"
   ],
   "cell_type": "markdown",
   "metadata": {}
  },
  {
   "cell_type": "code",
   "execution_count": null,
   "metadata": {},
   "outputs": [],
   "source": [
    "def diStringMatch(S):\n",
    "    lo, hi = 0, len(S)\n",
    "    ans = []\n",
    "    for x in S:\n",
    "        if x == 'I':\n",
    "            ans.append(lo)\n",
    "            lo += 1\n",
    "        else:\n",
    "            ans.append(hi)\n",
    "            hi -= 1\n",
    "\n",
    "    return ans + [lo]"
   ]
  },
  {
   "source": [
    "### 31: 下一个排列"
   ],
   "cell_type": "markdown",
   "metadata": {}
  },
  {
   "cell_type": "code",
   "execution_count": null,
   "metadata": {},
   "outputs": [],
   "source": [
    "# 首先从后向前查找第一个顺序对(i,i+1)，其中a[i]是较小数\n",
    "# 如果找到了顺序对，那么在区间[i+1,n)中从后向前查找第一个元素 j 满足a[i]<a[j]，这样较大数为a[j]\n",
    "# 交换a[i]和a[j]，然后使用双指针反转区间[i+1,n)使其变为升序\n",
    "def nextPermutation(self, nums: List[int]) -> None:\n",
    "    \"\"\"\n",
    "    Do not return anything, modify nums in-place instead.\n",
    "    \"\"\"\n",
    "    i = len(nums) - 2\n",
    "    while i >= 0 and nums[i] >= nums[i + 1]:\n",
    "        i -= 1\n",
    "    if i >= 0:\n",
    "        j = len(nums) - 1\n",
    "        while j >= 0 and nums[i] >= nums[j]:\n",
    "            j -= 1\n",
    "        nums[i], nums[j] = nums[j], nums[i]\n",
    "    \n",
    "    left, right = i + 1, len(nums) - 1\n",
    "    while left < right:\n",
    "        nums[left], nums[right] = nums[right], nums[left]\n",
    "        left += 1\n",
    "        right -= 1"
   ]
  },
  {
   "source": [
    "### 122: 买卖股票的最佳时机 II"
   ],
   "cell_type": "markdown",
   "metadata": {}
  },
  {
   "cell_type": "code",
   "execution_count": null,
   "metadata": {},
   "outputs": [],
   "source": [
    "# 定义状态dp[i][0]表示第 i 天交易完后手里没有股票的最大利润，dp[i][1]表示第 i 天交易完后手里持有一支股票的最大利润\n",
    "def maxProfit(prices: List[int]) -> int:\n",
    "    n = len(prices)\n",
    "    dp = [[0]*2 for _ in range(n)]\n",
    "    dp[0][1] = -prices[0]\n",
    "    for i in range(1,n):\n",
    "        dp[i][0] = max(dp[i-1][0], dp[i-1][1]+prices[i])\n",
    "        dp[i][1] = max(dp[i-1][0]-prices[i], dp[i-1][1])\n",
    "\n",
    "    return dp[-1][0]\n"
   ]
  },
  {
   "source": [
    "### 青蛙跳跃"
   ],
   "cell_type": "markdown",
   "metadata": {}
  },
  {
   "cell_type": "code",
   "execution_count": null,
   "metadata": {},
   "outputs": [],
   "source": [
    "# 输入参数：一个非负整数数组，青蛙位于数组的第一个位置，数组中的每个元素代表你在该位置可以跳跃的最大长度。输出：能否跳到\n",
    "# 例如：输入为[2,3,1,1,4]，输出为true，因为可以先跳1步，从下标0到1，然后再从下标1跳3步达到最后一个下标\n",
    "# 例如：输入为[3,2,1,0,4]，输出为false，因为无论怎样总会到达下标为3的位置，但该下标最大跳跃长度是0，所以永远不可能达到最后一个下标\n",
    "# 定义一个数组dp，dp[i]表示当前可以覆盖的最大范围。当前位置能否可达很简单，判断dp[i-1]是否小于i，如果小于就不可达。如果可达，更新dp[i] = Max(dp[i-1], i+nums[i])\n",
    "def canJump(nums):\n",
    "    dp = [0]*len(nums)\n",
    "    dp[0]=nums[0]\n",
    "    for i in range(1, len(nums)-1):\n",
    "        if dp[i-1]<i:\n",
    "            return False\n",
    "        dp[i] = max(dp[i-1],i+nums[i])\n",
    "    if dp[-1]<len(nums)-1:\n",
    "        return False\n",
    "    return True\n"
   ]
  },
  {
   "source": [
    "### 1696: 跳跃游戏 VI"
   ],
   "cell_type": "markdown",
   "metadata": {}
  },
  {
   "cell_type": "code",
   "execution_count": null,
   "metadata": {},
   "outputs": [],
   "source": [
    "def maxResult(nums: List[int], k: int) -> int:\n",
    "    dp = [0] * len(nums)\n",
    "    dp[0] = nums[0]\n",
    "    d = deque([(nums[0],0)])\n",
    "    for i in range(1, len(nums)):\n",
    "        dp[i] = nums[i] + d[0][0]\n",
    "\n",
    "        while d and d[-1][0] < dp[i]:  \n",
    "            d.pop()                 \n",
    "        d.append((dp[i],i))            \n",
    "\n",
    "        if i-k == d[0][1]:              \n",
    "            d.popleft()              \n",
    "\n",
    "    return dp[-1]"
   ]
  },
  {
   "source": [
    "### 1691: 堆叠长方体的最大高度"
   ],
   "cell_type": "markdown",
   "metadata": {}
  },
  {
   "cell_type": "code",
   "execution_count": null,
   "metadata": {},
   "outputs": [],
   "source": [
    "def maxHeight(cuboids: List[List[int]]) -> int:\n",
    "    cuboids = [[0, 0, 0]] + sorted(map(sorted, cuboids))\n",
    "    dp = [0] * len(cuboids)\n",
    "    for j in range(1, len(cuboids)):\n",
    "        for i in range(j):\n",
    "            if all(cuboids[i][k] <= cuboids[j][k] for k in range(3)):\n",
    "                dp[j] = max(dp[j], dp[i] + cuboids[j][2])\n",
    "    return max(dp)"
   ]
  },
  {
   "source": [
    "### 509: 斐波那契数"
   ],
   "cell_type": "markdown",
   "metadata": {}
  },
  {
   "cell_type": "code",
   "execution_count": null,
   "metadata": {},
   "outputs": [],
   "source": [
    "def fib(n: int) -> int:\n",
    "    if n<2:\n",
    "        return n\n",
    "    dp = [0]*(n+1)\n",
    "    dp[0]=0\n",
    "    dp[1]=1\n",
    "    for i in range(2, n+1):\n",
    "        dp[i]=dp[i-1]+dp[i-2]\n",
    "    return dp[-1]"
   ]
  },
  {
   "cell_type": "code",
   "execution_count": 1,
   "metadata": {},
   "outputs": [
    {
     "output_type": "stream",
     "name": "stdout",
     "text": [
      "Without memoization, it takes 0.316730 seconds.\nWith memoization, it takes 0.0000648 seconds.\n"
     ]
    }
   ],
   "source": [
    "# 带有memoization的实现\n",
    "def fib_m_helper(n, computed):\n",
    "    if n in computed:\n",
    "        return computed[n]\n",
    "    computed[n] = fib_m_helper(n - 1, computed) + fib_m_helper(n - 2, computed)\n",
    "    return computed[n]\n",
    "\n",
    "def fib_m(n):\n",
    "    return fib_m_helper(n, {0: 0, 1: 1})\n",
    "\n",
    "# 没有memoization的实现\n",
    "def fib_helper(n):\n",
    "    if n < 2:\n",
    "        return n\n",
    "    return fib_helper(n - 1) + fib_helper(n - 2)\n",
    "\n",
    "def fib(n):\n",
    "    \"\"\" fib is a wrapper function so that later we can change its behavior\n",
    "    at the top level without affecting the behavior at every recursion step.\n",
    "    \"\"\"\n",
    "    return fib_helper(n)\n",
    "\n",
    "for n in range(20):\n",
    "    assert fib(n) == fib_m(n)\n",
    "\n",
    "import time\n",
    "\n",
    "start = time.time()\n",
    "fib(30)\n",
    "print(f'Without memoization, it takes {time.time() - start:7f} seconds.')\n",
    "\n",
    "start = time.time()\n",
    "fib_m(30)\n",
    "print(f'With memoization, it takes {time.time() - start:.7f} seconds.')\n",
    "\n"
   ]
  },
  {
   "source": [
    "### 70: 爬楼梯"
   ],
   "cell_type": "markdown",
   "metadata": {}
  },
  {
   "cell_type": "code",
   "execution_count": null,
   "metadata": {},
   "outputs": [],
   "source": [
    "# 用 f(x) 表示爬到第 x 级台阶的方案数\n",
    "# 考虑最后一步可能跨了一级台阶，也可能跨了两级台阶\n",
    "def climbStairs(self, n: int) -> int:\n",
    "    if n<=2:\n",
    "        return n\n",
    "    dp = [0]*(n+1)\n",
    "    dp[1]=1\n",
    "    dp[2]=2\n",
    "    for i in range(3, n+1):\n",
    "        dp[i]=dp[i-1]+dp[i-2]\n",
    "    return dp[-1]"
   ]
  },
  {
   "source": [
    "### 1674: 使数组互补的最少操作次数"
   ],
   "cell_type": "markdown",
   "metadata": {}
  },
  {
   "cell_type": "code",
   "execution_count": null,
   "metadata": {},
   "outputs": [],
   "source": [
    "# 假设 res[x] 表示的是，nums[i] + nums[n - 1 - i] 为 x 的时候，需要多少次操作。我们只需要计算出所有的 x 对应的 res[x], 取最小值就好了\n",
    "# nums[i] + nums[n - 1 - i] 最小是 2，即将两个数都修改为 1；最大是 2 * limit，即将两个数都修改成 limit。所以，res[x] 中 x 的取值范围是 [2, 2 * limit]。我们用一个 res[2 * limit + 1] 的数组就好\n",
    "# 关键是，如何求出每一个 res[x] 位置的值，即修改后互补的数字和为 x，需要多少操作？\n",
    "## 为了叙述方便，假设 nums[i] 为 A；nums[n - 1 - i] 为 B。\n",
    "## 如果修改后两个数字的和是 A + B，我们使用的操作数是 0 (没有修改))\n",
    "## 否则的话，如果修改后两个数字和在 [1 + min(A, B), limit + max(A, B)] 的范围，我们使用的操作数是 1 (只需要修改 A 或者 B 就好)\n",
    "## 否则的话，如果修改后两个数字和在 [2, 2 * limit] 的范围，我们使用的操作数是2(两个数字都要修改))\n",
    "# 我们的算法是遍历每一组 nums[i] 和 nums[n - 1 - i]\n",
    "## 先将 [2, 2 * limit] 的范围需要的操作数 + 2\n",
    "## 之后，将 [1 + min(A, B), limit + max(A, B)] 的范围需要的操作数 - 1（即 2 - 1 = 1，操作 1 次）\n",
    "## 之后，将 [A + B] 位置的值再 -1（即 1 - 1 = 0，操作 0 次）\n",
    "# 可以看出，整个过程都是在做区间更新\n",
    "# 差分数组 diff[i]，存储的是 res[i] - res[i - 1]；而差分数组 diff[0...i] 的和，就是 res[i] 的值\n",
    "# 如果我们想给 [l, r] 的区间加上一个数字 a, 只需要 diff[l] += a，diff[r + 1] -= a\n",
    "def minMoves(nums: List[int], limit: int) -> int:\n",
    "    diff = [0] * (2*limit+2)\n",
    "    n = len(nums)\n",
    "\n",
    "    for i in range(n//2):\n",
    "        A = nums[i]\n",
    "        B = nums[n-1-i]\n",
    "\n",
    "        l = 2\n",
    "        r = 2 * limit\n",
    "        diff[l] += 2\n",
    "        diff[r + 1] -= 2\n",
    "\n",
    "        l = 1 + min(A, B)\n",
    "        r = limit + max(A, B)\n",
    "        diff[l] += -1\n",
    "        diff[r + 1] -= -1\n",
    "\n",
    "        l = A + B\n",
    "        r = A + B\n",
    "        diff[l] += -1\n",
    "        diff[r + 1] -= -1\n",
    "\n",
    "    res = n\n",
    "    sum = 0\n",
    "    for i in range(2, 2 * limit+1):\n",
    "        sum += diff[i]\n",
    "        if sum < res:\n",
    "            res = sum\n",
    "    return res"
   ]
  },
  {
   "source": [
    "### 1675: 数组的最小偏移量"
   ],
   "cell_type": "markdown",
   "metadata": {}
  },
  {
   "cell_type": "code",
   "execution_count": null,
   "metadata": {},
   "outputs": [],
   "source": [
    "def minimumDeviation(nums: List[int]) -> int:\n",
    "    h = []\n",
    "    n = len(nums)\n",
    "    curr_min = float('inf')\n",
    "    for n in nums:\n",
    "        if n % 2 == 1:\n",
    "            n *= 2  # odd value can only be multiplied by 2 once. We do it now.\n",
    "        curr_min = min(curr_min, n) # keep track of the minimum value\n",
    "        heappush(h, -n)\n",
    "    devi = -h[0] - curr_min \n",
    "    while h[0] % 2 == 0: # the deviation will stop changing when the maximum value is odd which can not be devided by 2 any more.\n",
    "        e = -heappop(h)\n",
    "        while e % 2 == 0 and e >= -h[0]: # we keep track of the deviation while reducing the maximum number.\n",
    "            devi = min(devi, e - curr_min)\n",
    "            e = e // 2\n",
    "        curr_min = min(curr_min, e)\n",
    "        heappush(h, -e)\n",
    "        devi = min(devi, -h[0] - curr_min)\n",
    "    return devi"
   ]
  },
  {
   "source": [
    "### 788: 旋转数字\n"
   ],
   "cell_type": "markdown",
   "metadata": {}
  },
  {
   "cell_type": "code",
   "execution_count": null,
   "metadata": {},
   "outputs": [],
   "source": [
    "# 状态可以表示为三个变量 i, equality_flag, involution_flag。其中 i 表示当前正在写第 i 位数字；equality_flag 表示已经写出的 j 位数字是否等于 N 的 j 位前缀；involution_flag 表示从最高位到比当前位高一位的这段前缀中是否含有 2569 中的任意一个数字\n",
    "# dp(i, equality_flag, involution_flag) 表示在特定 equality_flag，involution_flag 的状态下，有多少种从 i 到末尾的后缀能组成一个好数。最终的结果为 dp(0, True, False)\n",
    "def rotatedDigits(N): \n",
    "    A = map(int, str(N))  \n",
    "\n",
    "    memo = {}\n",
    "    def dp(i, equality_flag, involution_flag):\n",
    "        if i == len(A): return +(involution_flag)\n",
    "        if (i, equality_flag, involution_flag) not in memo:\n",
    "            ans = 0\n",
    "            for d in range(A[i] + 1 if equality_flag else 10):\n",
    "                if d in {3, 4, 7}: continue\n",
    "                ans += dp(i+1, equality_flag and d == A[i],\n",
    "                            involution_flag or d in {2, 5, 6, 9})\n",
    "            memo[i, equality_flag, involution_flag] = ans\n",
    "        return memo[i, equality_flag, involution_flag]\n",
    "\n",
    "    return dp(0, True, False)"
   ]
  },
  {
   "source": [
    "### 1690: 石子游戏 VII"
   ],
   "cell_type": "markdown",
   "metadata": {}
  },
  {
   "cell_type": "code",
   "execution_count": null,
   "metadata": {},
   "outputs": [],
   "source": [
    "# 设dp[i][j]是当石子只剩下s[i:j]时先手能赢的最大分差\n",
    "# 无论是 B 想要缩短得分差，或者 A 想要扩大得分差，其本质就是这次操作能得到与对手最大的得分差\n",
    "def stoneGameVII(stones: List[int]) -> int:\n",
    "    dp = [[0] * len(stones) for _ in range(len(stones))]\n",
    "    p_sum = [0] + list(accumulate(stones))\n",
    "    for i in range(len(stones) - 2, -1, -1):\n",
    "        for j in range(i + 1, len(stones)):\n",
    "            dp[i][j] = max(p_sum[j + 1] - p_sum[i + 1] - dp[i + 1][j], # 去掉最左边\n",
    "                            p_sum[j] - p_sum[i] - dp[i][j - 1]) # 去掉最右边\n",
    "    return dp[0][len(stones) - 1]"
   ]
  },
  {
   "source": [
    "### 852: 山脉数组的峰顶索引"
   ],
   "cell_type": "markdown",
   "metadata": {}
  },
  {
   "cell_type": "code",
   "execution_count": null,
   "metadata": {},
   "outputs": [],
   "source": [
    "def peakIndexInMountainArray(A):\n",
    "    lo, hi = 0, len(A) - 1\n",
    "    while lo < hi:\n",
    "        mi = (lo + hi) // 2 \n",
    "        if A[mi] < A[mi + 1]:\n",
    "            lo = mi + 1\n",
    "        else:\n",
    "            hi = mi\n",
    "    return lo"
   ]
  },
  {
   "source": [
    "### 162: 寻找峰值"
   ],
   "cell_type": "markdown",
   "metadata": {}
  },
  {
   "cell_type": "code",
   "execution_count": null,
   "metadata": {},
   "outputs": [],
   "source": [
    "def findPeakElement(self, nums: List[int]) -> int:\n",
    "    lo, hi = 0, len(nums) - 1\n",
    "    while lo < hi:\n",
    "        mi = (lo + hi) // 2 \n",
    "        if nums[mi] < nums[mi + 1]:\n",
    "            lo = mi + 1\n",
    "        else:\n",
    "            hi = mi\n",
    "    return lo"
   ]
  },
  {
   "source": [
    "### 33: 搜索旋转排序数组"
   ],
   "cell_type": "markdown",
   "metadata": {}
  },
  {
   "cell_type": "code",
   "execution_count": null,
   "metadata": {},
   "outputs": [],
   "source": [
    "def search(nums: List[int], target: int) -> int:\n",
    "    l, r = 0, len(nums) - 1\n",
    "    while l <= r:\n",
    "        mid = (l + r) // 2\n",
    "        if nums[mid] == target:\n",
    "            return mid\n",
    "        if nums[0] <= nums[mid]:\n",
    "            if nums[0] <= target < nums[mid]:\n",
    "                r = mid - 1\n",
    "            else:\n",
    "                l = mid + 1\n",
    "        else:\n",
    "            if nums[mid] < target <= nums[len(nums) - 1]:\n",
    "                l = mid + 1\n",
    "            else:\n",
    "                r = mid - 1\n",
    "    return -1"
   ]
  },
  {
   "source": [
    "### 153: 寻找旋转排序数组中的最小值"
   ],
   "cell_type": "markdown",
   "metadata": {}
  },
  {
   "cell_type": "code",
   "execution_count": null,
   "metadata": {},
   "outputs": [],
   "source": [
    "def findMin(self, nums: List[int]) -> int:\n",
    "    left = 0\n",
    "    right = len(nums) - 1\n",
    "    while left < right:\n",
    "        mid = (left + right) // 2\n",
    "        if nums[mid] > nums[right]:         \n",
    "            left = mid + 1\n",
    "        else:                               \n",
    "            right = mid\n",
    "    return nums[left]"
   ]
  },
  {
   "source": [
    "### 154: 寻找旋转排序数组中的最小值 II"
   ],
   "cell_type": "markdown",
   "metadata": {}
  },
  {
   "cell_type": "code",
   "execution_count": null,
   "metadata": {},
   "outputs": [],
   "source": [
    "# 多了nums[mid] 等于 nums[right] 时的额外处理;因为 mid 和 right 相等时，最小值既可能在左边，又可能在右边，所以此时自然二分思想作废，咱们就砍掉一个右边界\n",
    "def findMin(self, nums: List[int]) -> int:\n",
    "    left = 0\n",
    "    right = len(nums) - 1\n",
    "    while left < right:\n",
    "        mid = (left + right) // 2\n",
    "        if nums[mid] > nums[right]:         \n",
    "            left = mid + 1\n",
    "        elif nums[mid] < nums[right]:                               \n",
    "            right = mid\n",
    "        else:\n",
    "            right -= 1\n",
    "    return nums[left]"
   ]
  },
  {
   "source": [
    "### 69: x 的平方根"
   ],
   "cell_type": "markdown",
   "metadata": {}
  },
  {
   "cell_type": "code",
   "execution_count": null,
   "metadata": {},
   "outputs": [],
   "source": [
    "def mySqrt(self, x: int) -> int:\n",
    "    if x == 0:return 0\n",
    "    l = 1\n",
    "    r = x//2\n",
    "    while l < r:\n",
    "        mid = (l+r)//2+1 # 需要加1来略微增大搜索空间\n",
    "        if mid*mid > x:\n",
    "            r = mid - 1\n",
    "        else:\n",
    "            l = mid\n",
    "    return l"
   ]
  },
  {
   "source": [
    "### 34: 在排序数组中查找元素的第一个和最后一个位置"
   ],
   "cell_type": "markdown",
   "metadata": {}
  },
  {
   "cell_type": "code",
   "execution_count": null,
   "metadata": {},
   "outputs": [],
   "source": [
    "# 考虑 target 开始和结束位置，其实我们要找的就是数组中「第一个等于 target 的位置」（记为leftIdx）和「第一个大于 target 的位置减一」（记为rightIdx）\n",
    "def searchRange(self, nums: List[int], target: int) -> List[int]:\n",
    "    def binarySearch(nums, target, lower):\n",
    "        l = 0\n",
    "        r = len(nums) - 1\n",
    "        ans = len(nums)\n",
    "        while l <= r:\n",
    "            mid = (l+r)//2\n",
    "            if (nums[mid] > target) or (lower and nums[mid]>=target):\n",
    "                r = mid - 1\n",
    "                ans = mid\n",
    "            else:\n",
    "                l = mid + 1\n",
    "\n",
    "        return ans\n",
    "    \n",
    "    lindex = binarySearch(nums, target, True)\n",
    "    rindex = binarySearch(nums, target, False)-1\n",
    "    if lindex<=rindex and rindex<len(nums) and nums[lindex]==target and nums[rindex]==target:\n",
    "        return [lindex, rindex]\n",
    "    return [-1, -1]"
   ]
  },
  {
   "source": [
    "### 剑指 Offer 39: 数组中出现次数超过一半的数字"
   ],
   "cell_type": "markdown",
   "metadata": {}
  },
  {
   "cell_type": "code",
   "execution_count": null,
   "metadata": {},
   "outputs": [],
   "source": [
    "# 哈希表统计法: 遍历数组 nums ，用 HashMap 统计各数字的数量，即可找出 众数 。此方法时间和空间复杂度均为 O(N)\n",
    "# 数组排序法：将数组 nums 排序，数组中点的元素 一定为众数\n",
    "# 摩尔投票法：核心理念为票数正负抵消 。此方法时间和空间复杂度分别为 O(N) 和 O(1)，为最佳\n",
    "    # 若记 众数 的票数为 +1 ，非众数 的票数为 -1 ，则一定有所有数字的 票数和 > 0\n",
    "    # 若数组的前 a 个数字的 票数和 = 0 ，则 数组剩余 (n-a) 个数字的 票数和一定仍 >0 ，即后 (n-a) 个数字的 众数仍为 x\n",
    "def majorityElement(self, nums: List[int]) -> int:\n",
    "    votes = 0\n",
    "    for num in nums:\n",
    "        if votes == 0: x = num\n",
    "        votes += 1 if num == x else -1\n",
    "    return x\n",
    "# 上述实现不用考虑数组不存在众数的情况。若考虑，需要加入一个 “验证环节” ，遍历数组 nums 统计 x 的数量\n",
    "def majorityElement(self, nums: List[int]) -> int:\n",
    "    votes, count = 0, 0\n",
    "    for num in nums:\n",
    "        if votes == 0: x = num\n",
    "        votes += 1 if num == x else -1\n",
    "    # 验证 x 是否为众数\n",
    "    for num in nums:\n",
    "        if num == x: count += 1\n",
    "    return x if count > len(nums) // 2 else 0 # 当无众数时返回 0"
   ]
  }
 ]
}