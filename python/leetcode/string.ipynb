{
 "metadata": {
  "language_info": {
   "codemirror_mode": {
    "name": "ipython",
    "version": 3
   },
   "file_extension": ".py",
   "mimetype": "text/x-python",
   "name": "python",
   "nbconvert_exporter": "python",
   "pygments_lexer": "ipython3",
   "version": 3
  },
  "orig_nbformat": 2
 },
 "nbformat": 4,
 "nbformat_minor": 2,
 "cells": [
  {
   "cell_type": "code",
   "execution_count": null,
   "metadata": {},
   "outputs": [],
   "source": [
    "'''\n",
    "1、遍历:\n",
    "    栈+哈希表: 20\n",
    "    双指针+队列: 151\n",
    "2、正则: 1694\n",
    "3、利用子串及包含关系: 796\n",
    "4、自动机: 复杂的流程以及条件情况: 8\n",
    "'''"
   ]
  },
  {
   "source": [
    "### 20: 有效的括号"
   ],
   "cell_type": "markdown",
   "metadata": {}
  },
  {
   "cell_type": "code",
   "execution_count": null,
   "metadata": {},
   "outputs": [],
   "source": [
    "# 栈使用列表创建\n",
    "# 后遇到的左括号要先闭合\n",
    "# 当我们遇到一个右括号时，我们需要将一个相同类型的左括号闭合。\n",
    "    # 此时，我们可以取出栈顶的左括号并判断它们是否是相同类型的括号。\n",
    "    # 如果不是相同的类型，或者栈中并没有左括号，那么字符串s无效，返回False。\n",
    "    # 为了快速判断括号的类型，我们可以使用哈希表存储每一种括号。\n",
    "    # 哈希表的键为右括号，值为相同类型的左括号\n",
    "# 在遍历结束后，如果栈中没有左括号，说明我们将字符串s中的所有左括号闭合，返回True，否则返回False。\n",
    "# 注意到有效字符串的长度一定为偶数，因此如果字符串的长度为奇数，我们可以直接返回False，省去后续的遍历判断过程\n",
    "def isValid(s: str) -> bool:\n",
    "    if len(s) % 2 == 1:\n",
    "        return False\n",
    "\n",
    "    pairs = {\n",
    "        \")\": \"(\",\n",
    "        \"]\": \"[\",\n",
    "        \"}\": \"{\",\n",
    "    }\n",
    "    stack = list()\n",
    "    for ch in s:\n",
    "        if ch in pairs:\n",
    "            if not stack or stack[-1] != pairs[ch]:\n",
    "                return False\n",
    "            stack.pop()\n",
    "        else:\n",
    "            stack.append(ch)\n",
    "\n",
    "    return not stack"
   ]
  },
  {
   "source": [
    "### 151: 翻转字符串里的单词"
   ],
   "cell_type": "markdown",
   "metadata": {}
  },
  {
   "cell_type": "code",
   "execution_count": null,
   "metadata": {},
   "outputs": [],
   "source": [
    "def reverseWords(s: str) -> str:\n",
    "    left, right = 0, len(s) - 1\n",
    "    # 去掉字符串开头的空白字符\n",
    "    while left <= right and s[left] == ' ':\n",
    "        left += 1\n",
    "    \n",
    "    # 去掉字符串末尾的空白字符\n",
    "    while left <= right and s[right] == ' ':\n",
    "        right -= 1\n",
    "\n",
    "    d, word = collections.deque(), []\n",
    "    # 将单词 push 到队列的头部\n",
    "    while left <= right:\n",
    "        if s[left] == ' ' and word:\n",
    "            d.appendleft(''.join(word))\n",
    "            word = []\n",
    "        elif s[left] != ' ':\n",
    "            word.append(s[left])\n",
    "        left += 1\n",
    "    d.appendleft(''.join(word))\n",
    "    \n",
    "    return ' '.join(d)"
   ]
  },
  {
   "source": [
    "### 1694: 重新格式化电话号码"
   ],
   "cell_type": "markdown",
   "metadata": {}
  },
  {
   "cell_type": "code",
   "execution_count": null,
   "metadata": {},
   "outputs": [],
   "source": [
    "def reformatNumber(number: str) -> str:\n",
    "    return re.sub('(...?(?=..))', r'\\1-', re.sub('\\D', '', number))"
   ]
  },
  {
   "source": [
    "### 796: 旋转字符串"
   ],
   "cell_type": "markdown",
   "metadata": {}
  },
  {
   "cell_type": "code",
   "execution_count": null,
   "metadata": {},
   "outputs": [],
   "source": [
    "def rotateString(A, B):\n",
    "    return len(A) == len(B) and B in A+A"
   ]
  },
  {
   "source": [
    "### 8: 字符串转换整数 (atoi)"
   ],
   "cell_type": "markdown",
   "metadata": {}
  },
  {
   "cell_type": "code",
   "execution_count": null,
   "metadata": {},
   "outputs": [],
   "source": [
    "# 涉及复杂的流程以及条件情况\n",
    "# 用图或表格来表示自动机，实现时用字典\n",
    "INT_MAX = 2 ** 31 - 1\n",
    "INT_MIN = -2 ** 31\n",
    "\n",
    "class Automaton:\n",
    "    def __init__(self):\n",
    "        self.state = 'start'\n",
    "        self.sign = 1\n",
    "        self.ans = 0\n",
    "        self.table = {\n",
    "            'start': ['start', 'signed', 'in_number', 'end'],\n",
    "            'signed': ['end', 'end', 'in_number', 'end'],\n",
    "            'in_number': ['end', 'end', 'in_number', 'end'],\n",
    "            'end': ['end', 'end', 'end', 'end'],\n",
    "        }\n",
    "\n",
    "    def get_col(self, c):\n",
    "        if c.isspace():\n",
    "            return 0\n",
    "        if c == '+' or c == '-':\n",
    "            return 1\n",
    "        if c.isdigit():\n",
    "            return 2\n",
    "        return 3\n",
    "\n",
    "    def get(self, c):\n",
    "        self.state = self.table[self.state][self.get_col(c)]\n",
    "        if self.state == 'in_number':\n",
    "            self.ans = self.ans * 10 + int(c)\n",
    "            self.ans = min(self.ans, INT_MAX) if self.sign == 1 else min(self.ans, -INT_MIN)\n",
    "        elif self.state == 'signed':\n",
    "            self.sign = 1 if c == '+' else -1\n",
    "\n",
    "def myAtoi(s: str) -> int:\n",
    "    automaton = Automaton()\n",
    "    for c in s:\n",
    "        automaton.get(c)\n",
    "    return automaton.sign * automaton.ans"
   ]
  }
 ]
}