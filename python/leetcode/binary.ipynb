{
 "metadata": {
  "language_info": {
   "codemirror_mode": {
    "name": "ipython",
    "version": 3
   },
   "file_extension": ".py",
   "mimetype": "text/x-python",
   "name": "python",
   "nbconvert_exporter": "python",
   "pygments_lexer": "ipython3",
   "version": "3.6.13"
  },
  "orig_nbformat": 2,
  "kernelspec": {
   "name": "python3613jvsc74a57bd072506cc1e4b0dce5eb876f653d1c5faf29777724f7cbfb23a9a7a2a764425624",
   "display_name": "Python 3.6.13 64-bit ('lnf': conda)"
  },
  "metadata": {
   "interpreter": {
    "hash": "72506cc1e4b0dce5eb876f653d1c5faf29777724f7cbfb23a9a7a2a764425624"
   }
  }
 },
 "nbformat": 4,
 "nbformat_minor": 2,
 "cells": [
  {
   "cell_type": "code",
   "execution_count": null,
   "metadata": {},
   "outputs": [],
   "source": [
    "'''\n",
    "1、异或 ^: \n",
    "    在二进制位上的应用: 461\n",
    "    任何数和0做异或运算，结果仍然是原来的数/任何数和其自身做异或运算，结果是0: 136(出现一次数字，其余两次) | 137(出现一次数字/其余三次) | 268(丢失数字)\n",
    "2、获得二进制:\n",
    "    bin(): \n",
    "        461: count()\n",
    "    移位: \n",
    "        461: while...if xor & 1\n",
    "        868: (N >> i) & 1 for i in range(32)\n",
    "3、二进制运算\n",
    "    n 和 n-1 进行 & 运算: 191(统计1的个数) | 231(2的幂) | 1680(进制转换)\n",
    "    取反操作: 476(考虑加和)  \n",
    "4、二进制的思想:\n",
    "    字母的大小写: 784\n",
    "        由于每个字母都有两种形式，可结合二进制的思想，有n个字母就有2^n(1<<n)种结果。遍历2^n范围内的所有数字，其对应的二进制形式，0代表小写字母，1代表大写字母\n",
    "'''"
   ]
  },
  {
   "source": [
    "### 461: 汉明距离"
   ],
   "cell_type": "markdown",
   "metadata": {}
  },
  {
   "cell_type": "code",
   "execution_count": 1,
   "metadata": {},
   "outputs": [],
   "source": [
    "def hammingDistance(x: int, y: int) -> int: # 使用内置位计数功能\n",
    "    return bin(x ^ y).count('1')\n",
    "\n",
    "def hammingDistance(x: int, y: int) -> int: # 使用移位: 采用右移位，每个位置都会被移动到最右边。移位后检查最右位的位是否为 1 即可。检查最右位是否为 1，可以使用取模运算（i % 2）或者 AND 操作（i & 1），这两个操作都会屏蔽最右位以外的其他位\n",
    "    xor = x ^ y\n",
    "    distance = 0\n",
    "    while xor:\n",
    "        # mask out the rest bits\n",
    "        if xor & 1:\n",
    "            distance += 1\n",
    "        xor = xor >> 1\n",
    "    return distance"
   ]
  },
  {
   "source": [
    "### 136: 只出现一次的数字"
   ],
   "cell_type": "markdown",
   "metadata": {}
  },
  {
   "cell_type": "code",
   "execution_count": null,
   "metadata": {},
   "outputs": [],
   "source": [
    "def singleNumber(nums: List[int]) -> int:\n",
    "    return reduce(lambda x, y: x ^ y, nums)"
   ]
  },
  {
   "source": [
    "### 137: 只出现一次的数字 II"
   ],
   "cell_type": "markdown",
   "metadata": {}
  },
  {
   "cell_type": "code",
   "execution_count": null,
   "metadata": {},
   "outputs": [],
   "source": [
    "def singleNumber(nums: List[int]) -> int:\n",
    "    ones, twos = 0, 0 # 分别追踪出现一次和两次的数字\n",
    "    for n in nums:\n",
    "        ones = (ones ^ n) & ~twos\n",
    "        twos = (twos ^ n) & ~ones\n",
    "        \n",
    "    return ones"
   ]
  },
  {
   "source": [
    "### 268: 丢失的数字"
   ],
   "cell_type": "markdown",
   "metadata": {}
  },
  {
   "cell_type": "code",
   "execution_count": null,
   "metadata": {},
   "outputs": [],
   "source": [
    "def missingNumber(self, nums: List[int]) -> int:\n",
    "    return reduce(lambda x, y: x ^ y, nums+list(range(len(nums)+1)))"
   ]
  },
  {
   "source": [
    "### 868: 二进制间距"
   ],
   "cell_type": "markdown",
   "metadata": {}
  },
  {
   "cell_type": "code",
   "execution_count": null,
   "metadata": {},
   "outputs": [],
   "source": [
    "def binaryGap(N):\n",
    "    last = None\n",
    "    ans = 0\n",
    "    for i in range(32):\n",
    "        if (N >> i) & 1:\n",
    "            if last is not None:\n",
    "                ans = max(ans, i - last)\n",
    "            last = i\n",
    "    return ans"
   ]
  },
  {
   "source": [
    "### 191: 位1的个数"
   ],
   "cell_type": "markdown",
   "metadata": {}
  },
  {
   "cell_type": "code",
   "execution_count": null,
   "metadata": {},
   "outputs": [],
   "source": [
    "# 对于任意一个数，将 n 和 n-1 进行 & 运算，我们都可以把 n 中最低位的 1 变成 0\n",
    "def hammingWeight(n: int) -> int:\n",
    "    count = 0\n",
    "    while n>0:\n",
    "        n &= n-1\n",
    "        count += 1\n",
    "    return count"
   ]
  },
  {
   "source": [
    "### 231: 2的幂"
   ],
   "cell_type": "markdown",
   "metadata": {}
  },
  {
   "cell_type": "code",
   "execution_count": null,
   "metadata": {},
   "outputs": [],
   "source": [
    "# 2的幂的二进制数，最高位为1，其他位为0\n",
    "## 对于N为2的幂的数，都有 N&(N-1)=0 \n",
    "def isPowerOfTwo(n: int) -> bool:\n",
    "    return n>0 and n&(n-1)==0"
   ]
  },
  {
   "source": [
    "### 1680: 连接连续二进制数字"
   ],
   "cell_type": "markdown",
   "metadata": {}
  },
  {
   "cell_type": "code",
   "execution_count": null,
   "metadata": {},
   "outputs": [],
   "source": [
    "# 如果len_2(i-1)和len_2(i)相差1，那么说明i恰好是2的整数次幂\n",
    "def concatenatedBinary(n: int) -> int:\n",
    "    mod = 10**9 + 7\n",
    "    # ans 表示答案，shift 表示 len_{2}(i)\n",
    "    ans = shift = 0\n",
    "    for i in range(1, n + 1):\n",
    "        if (i & (i - 1)) == 0:\n",
    "            shift += 1\n",
    "        ans = ((ans << shift) + i) % mod\n",
    "    return ans"
   ]
  },
  {
   "source": [
    "### 476: 数字的补数"
   ],
   "cell_type": "markdown",
   "metadata": {}
  },
  {
   "cell_type": "code",
   "execution_count": 3,
   "metadata": {},
   "outputs": [],
   "source": [
    "def findComplement(num: int) -> int: # num和补数相加，就是满数位1的二进制数\n",
    "    return 2**(len(bin(num))-2)-num-1"
   ]
  },
  {
   "source": [
    "### 784: 字母大小写全排列"
   ],
   "cell_type": "markdown",
   "metadata": {}
  },
  {
   "cell_type": "code",
   "execution_count": 7,
   "metadata": {},
   "outputs": [
    {
     "output_type": "stream",
     "name": "stdout",
     "text": [
      "['A1B2', 'a1B2', 'A1b2', 'a1b2']\n['a1b2', 'a1B2', 'A1b2', 'A1B2']\n"
     ]
    }
   ],
   "source": [
    "def letterCasePermutation_1(S):\n",
    "    B = sum(letter.isalpha() for letter in S)\n",
    "    ans = []\n",
    "\n",
    "    for bits in range(1 << B):\n",
    "        b = 0\n",
    "        word = []\n",
    "        for letter in S:\n",
    "            if letter.isalpha():\n",
    "                if (bits >> b) & 1:\n",
    "                    word.append(letter.lower())\n",
    "                else:\n",
    "                    word.append(letter.upper())\n",
    "\n",
    "                b += 1\n",
    "            else:\n",
    "                word.append(letter)\n",
    "\n",
    "        ans.append(\"\".join(word))\n",
    "    return ans\n",
    "\n",
    "import itertools\n",
    "def letterCasePermutation_2(S):  # 内置函数/集合的笛卡尔乘积是从所有集合中选择每种可能的组合\n",
    "    f = lambda x: (x.lower(), x.upper()) if x.isalpha() else x\n",
    "    return list(map(\"\".join, itertools.product(*map(f, S))))\n",
    " \n",
    "S = \"a1b2\"\n",
    "print(letterCasePermutation_1(S))\n",
    "print(letterCasePermutation_2(S))"
   ]
  }
 ]
}