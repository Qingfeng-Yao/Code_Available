{
 "metadata": {
  "language_info": {
   "codemirror_mode": {
    "name": "ipython",
    "version": 3
   },
   "file_extension": ".py",
   "mimetype": "text/x-python",
   "name": "python",
   "nbconvert_exporter": "python",
   "pygments_lexer": "ipython3",
   "version": 3
  },
  "orig_nbformat": 2
 },
 "nbformat": 4,
 "nbformat_minor": 2,
 "cells": [
  {
   "cell_type": "code",
   "execution_count": null,
   "metadata": {},
   "outputs": [],
   "source": [
    "'''\n",
    "拒绝采样: 470\n",
    "    核心就是等概率映射\n",
    "    大数生成小数(rand10()-->rand7()): 不断调用 rand10() 即可，直到得到我们要的数\n",
    "    rand 小数生成大数: (rand7()−1)*7+rand7()\n",
    "         (randX() - 1)*Y + randY() 可以等概率的生成[1, X * Y]范围的随机数\n",
    "'''"
   ]
  },
  {
   "source": [
    "### 470:  Rand7() 实现 Rand10()"
   ],
   "cell_type": "markdown",
   "metadata": {}
  },
  {
   "cell_type": "code",
   "execution_count": null,
   "metadata": {},
   "outputs": [],
   "source": [
    "def rand10():\n",
    "    \"\"\"\n",
    "    :rtype: int\n",
    "    \"\"\"\n",
    "    # 首先得到一个数\n",
    "    num = (rand7() - 1) * 7 + rand7()\n",
    "    # 只要它还大于40，那就不断生成\n",
    "    while num > 40:\n",
    "        num = (rand7() - 1) * 7 + rand7()\n",
    "    # 返回结果，+1是为了解决 40%10为0的情况\n",
    "    return 1 + (num-1) % 10"
   ]
  }
 ]
}