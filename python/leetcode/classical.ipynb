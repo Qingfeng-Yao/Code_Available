{
 "cells": [
  {
   "cell_type": "code",
   "execution_count": 1,
   "metadata": {},
   "outputs": [
    {
     "name": "stdout",
     "output_type": "stream",
     "text": [
      "6\n"
     ]
    }
   ],
   "source": [
    "# 二分搜索\n",
    "# 输入数组是有序的\n",
    "# 该算法的运行时间是 O(logn)\n",
    "# Returns index of target in nums array if present, else -1 \n",
    "def binary_search(nums, left, right, target):   \n",
    "    # Base case \n",
    "    if right >= left: \n",
    "        mid = int((left + right)/2)\n",
    "        # If target is present at the mid, return\n",
    "        if nums[mid] == target: \n",
    "            return mid \n",
    "        # Target is smaller than mid search the elements in left\n",
    "        elif nums[mid] > target: \n",
    "            return binary_search(nums, left, mid-1, target) \n",
    "        # Target is larger than mid, search the elements in right\n",
    "        else: \n",
    "            return binary_search(nums, mid+1, right, target) \n",
    "    else: \n",
    "        # Target is not in nums \n",
    "        return -1\n",
    "\n",
    "# ---testing---\n",
    "nums = [1,2,3,4,5,6,7,8,9]\n",
    "print(binary_search(nums, 0, len(nums)-1,7)) # 6"
   ]
  },
  {
   "cell_type": "code",
   "execution_count": 2,
   "metadata": {},
   "outputs": [
    {
     "name": "stdout",
     "output_type": "stream",
     "text": [
      "24\n",
      "8 8\n",
      "8\n"
     ]
    }
   ],
   "source": [
    "# 递归与动态规划\n",
    "'''\n",
    "递归调用函数通常包含两个部分:\n",
    "    基线条件(base case): 递归停止的条件\n",
    "    递归条件: 函数调用自己并逐渐向基线条件移动\n",
    "'''\n",
    "\n",
    "def factorial(n): # 数字阶乘\n",
    "    if n==0:\n",
    "        return 1\n",
    "    return n*factorial(n-1)\n",
    "\n",
    "# 找出第 n 个斐波那契数(Fibonacci Number)\n",
    "def fib(n):\n",
    "    if n<=1:\n",
    "        return 1\n",
    "    return fib(n-1) + fib(n-2)\n",
    "\n",
    "# 多次调用同样的参数, 可添加字典来记忆解\n",
    "memo = {}\n",
    "def fib_memo(n):\n",
    "    if n in memo:\n",
    "        return memo[n]\n",
    "    if n<=1:\n",
    "        memo[n]=1\n",
    "        return 1\n",
    "    memo[n] = fib_memo(n-1) + fib_memo(n-2)\n",
    "    return memo[n]\n",
    "\n",
    "# 动态规划: 迭代地写递归\n",
    "# 从前面的无记忆到有记忆, 再到这里的动态规划, 运行所需时间变少，前者为指数级增长, 后两者均为线性增长; 动态规划仅对每个子问题执行了一次调用\n",
    "def fib_dp(n):\n",
    "    dp_sols = {0:1,1:1}\n",
    "    for i in range(2,n+1):\n",
    "        dp_sols[i] = dp_sols[i-1] + dp_sols[i-2] \n",
    "    return dp_sols[n]\n",
    "\n",
    "# ---testing---\n",
    "print(factorial(4)) # 24\n",
    "print(fib(5), fib_memo(5)) # 8 8\n",
    "print(fib_dp(5)) # 8"
   ]
  },
  {
   "cell_type": "code",
   "execution_count": 3,
   "metadata": {},
   "outputs": [
    {
     "name": "stdout",
     "output_type": "stream",
     "text": [
      "a --> c\n",
      "a --> b\n",
      "c --> b\n",
      "a --> c\n",
      "b --> a\n",
      "b --> c\n",
      "a --> c\n"
     ]
    }
   ],
   "source": [
    "# 汉诺塔\n",
    "def hanoi(n, a, b, c):\n",
    "    if n == 1:\n",
    "        print(a, '-->', c)\n",
    "    else:\n",
    "        hanoi(n-1, a, c, b)\n",
    "        print(a, '-->', c)\n",
    "        hanoi(n-1, b, a, c)\n",
    "\n",
    "hanoi(3, 'a', 'b', 'c')"
   ]
  }
 ],
 "metadata": {
  "interpreter": {
   "hash": "94b8ce2ec9a5bb238eaac0e1491a1a39f3b317a5c834f567228f3f456bc35b60"
  },
  "kernelspec": {
   "display_name": "Python 3.7.11 ('base')",
   "language": "python",
   "name": "python3"
  },
  "language_info": {
   "codemirror_mode": {
    "name": "ipython",
    "version": 3
   },
   "file_extension": ".py",
   "mimetype": "text/x-python",
   "name": "python",
   "nbconvert_exporter": "python",
   "pygments_lexer": "ipython3",
   "version": "3.7.11"
  },
  "orig_nbformat": 4
 },
 "nbformat": 4,
 "nbformat_minor": 2
}
