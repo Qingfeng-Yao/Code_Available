{
 "metadata": {
  "language_info": {
   "codemirror_mode": {
    "name": "ipython",
    "version": 3
   },
   "file_extension": ".py",
   "mimetype": "text/x-python",
   "name": "python",
   "nbconvert_exporter": "python",
   "pygments_lexer": "ipython3",
   "version": "3.8.5"
  },
  "orig_nbformat": 2,
  "kernelspec": {
   "name": "python385jvsc74a57bd031f2aee4e71d21fbe5cf8b01ff0e069b9275f58929596ceb00d14d90e3e16cd6",
   "display_name": "Python 3.8.5 64-bit"
  },
  "metadata": {
   "interpreter": {
    "hash": "31f2aee4e71d21fbe5cf8b01ff0e069b9275f58929596ceb00d14d90e3e16cd6"
   }
  }
 },
 "nbformat": 4,
 "nbformat_minor": 2,
 "cells": [
  {
   "source": [
    "- 排序大的分类可以分为两种：内排序和外排序\n",
    "- 放在内存的称为内排序，需要使用外存的称为外排序；以下涉及的均为内排序\n",
    "- 交换排序包括冒泡排序和快排序\n",
    "- 插入排序这里指直接插入排序\n",
    "- 选择排序包括直接选择排序和堆排序\n",
    "- topk"
   ],
   "cell_type": "markdown",
   "metadata": {}
  },
  {
   "source": [
    "## bubble sort 冒泡排序"
   ],
   "cell_type": "markdown",
   "metadata": {}
  },
  {
   "cell_type": "code",
   "execution_count": 1,
   "metadata": {},
   "outputs": [
    {
     "output_type": "stream",
     "name": "stdout",
     "text": [
      "[-1, 2, 4, 5, 6, 6, 7, 8, 10]\n"
     ]
    }
   ],
   "source": [
    "# 两两比较，若大值沉底，则从后到前逐渐有序\n",
    "# 从数组的第一位开始，和后面的值比较（以2为窗口移动）----> 大值沉底\n",
    "def bubble_sort(a):\n",
    "    length = len(a)\n",
    "    if length <= 1:\n",
    "        return\n",
    "\n",
    "    for i in range(length):\n",
    "        made_swap = False\n",
    "        for j in range(length - i - 1):\n",
    "            if a[j] > a[j + 1]:\n",
    "                a[j], a[j + 1] = a[j + 1], a[j]\n",
    "                made_swap = True\n",
    "        if not made_swap:\n",
    "            break\n",
    "\n",
    "array = [5, 6, -1, 4, 2, 8, 10, 7, 6]\n",
    "bubble_sort(array)\n",
    "print(array)"
   ]
  },
  {
   "source": [
    "## quick sort 快速排序"
   ],
   "cell_type": "markdown",
   "metadata": {}
  },
  {
   "cell_type": "code",
   "execution_count": 2,
   "metadata": {},
   "outputs": [
    {
     "output_type": "stream",
     "name": "stdout",
     "text": [
      "[0, 2, 3, 4, 5, 7, 7, 9, 9, 32]\n"
     ]
    }
   ],
   "source": [
    "# 确定数组的分割位置partition\n",
    "    # 每次都取数组的最后一个元素作为比较标准pivot，凡是小于等于该元素的都放在它的左边，大于它的放在右边\n",
    "    # 上一步中的元素pivot位置即为要找的分割位置\n",
    "# 递归进行算法\n",
    "def quick_sort(items, p, r):\n",
    "    if p < r:\n",
    "        q = partition(items, p, r)\n",
    "        quick_sort(items, p, q-1)\n",
    "        quick_sort(items, q+1, r)\n",
    "\n",
    "def partition(items, p, r):\n",
    "    x = items[r] # pivot的值\n",
    "    i = p-1 \n",
    "    for j in range(p, r):\n",
    "        if items[j] <= x:\n",
    "            i = i + 1\n",
    "            items[i],items[j] = items[j],items[i]\n",
    "\n",
    "    items[i+1],items[r] = items[r],items[i+1]\n",
    "    return i+1 # pivot的索引\n",
    "\n",
    "items = [2,5,9,3,7,32,9,7,0,4]\n",
    "quick_sort(items, 0, len(items)-1)\n",
    "print(items)"
   ]
  },
  {
   "source": [
    "## insertion sort 插入排序"
   ],
   "cell_type": "markdown",
   "metadata": {}
  },
  {
   "cell_type": "code",
   "execution_count": 1,
   "metadata": {},
   "outputs": [
    {
     "output_type": "stream",
     "name": "stdout",
     "text": [
      "[-1, 2, 4, 5, 6, 6, 7, 8, 10]\n"
     ]
    }
   ],
   "source": [
    "# 从数组第2位开始，确定插入位置，逐渐使得数组前部有序\n",
    "def insertion_sort(a):\n",
    "    # 从数组的第二位开始（保存该值），不断和前面比较 ----> 确定插入的位置\n",
    "    length = len(a)\n",
    "    if length <= 1:\n",
    "        return\n",
    "\n",
    "    for i in range(1, length):\n",
    "        value = a[i]\n",
    "        j = i - 1\n",
    "        while j >= 0 and a[j] > value:\n",
    "            a[j + 1] = a[j]\n",
    "            j -= 1\n",
    "        a[j + 1] = value\n",
    "\n",
    "array = [5, 6, -1, 4, 2, 8, 10, 7, 6]\n",
    "insertion_sort(array)\n",
    "print(array)"
   ]
  },
  {
   "source": [
    "## selection sort 选择排序"
   ],
   "cell_type": "markdown",
   "metadata": {}
  },
  {
   "cell_type": "code",
   "execution_count": 2,
   "metadata": {},
   "outputs": [
    {
     "output_type": "stream",
     "name": "stdout",
     "text": [
      "[-1, 2, 4, 5, 6, 6, 7, 8, 10]\n"
     ]
    }
   ],
   "source": [
    "# 从数组第1位开始，筛选最值，逐渐使得数组前部有序\n",
    "def selection_sort(a):\n",
    "    # 从数组的第一位开始，认为它是最小值，然后与后面的所有值进行比较 ----> 将最小值筛选出来\n",
    "    length = len(a)\n",
    "    if length <= 1:\n",
    "        return\n",
    "\n",
    "    for i in range(length):\n",
    "        min_index = i\n",
    "        min_val = a[i]\n",
    "        for j in range(i, length):\n",
    "            if a[j] < min_val:\n",
    "                min_val = a[j]\n",
    "                min_index = j\n",
    "        a[i], a[min_index] = a[min_index], a[i]\n",
    "\n",
    "array = [5, 6, -1, 4, 2, 8, 10, 7, 6]\n",
    "selection_sort(array)\n",
    "print(array)"
   ]
  },
  {
   "source": [
    "## heapsort 堆排序"
   ],
   "cell_type": "markdown",
   "metadata": {}
  },
  {
   "cell_type": "code",
   "execution_count": 3,
   "metadata": {},
   "outputs": [
    {
     "output_type": "stream",
     "name": "stdout",
     "text": [
      "[1, 2, 3, 4, 7, 8, 9, 10, 14, 16]\n"
     ]
    }
   ],
   "source": [
    "# 使用堆数据结构\n",
    "    # 数组存储结点值(层序)：各节点的索引与其父结点、孩子结点的索引有关\n",
    "    # heap属性：父节点的值大于等于孩子节点的值(根节点的值最大)\n",
    "# 堆操作\n",
    "    # Heapify(A,i)：保持堆属性，让违反堆属性的结点值下沉\n",
    "    # BuildHeap(A)：从n/2开始直到1，对每个结点调用`Heapify()`\n",
    "# 堆排序：借助BuildHeap(A)，此时数组首位是最大值，然后首尾数值交换，同时缩短数组长度，此时数组末尾总是存储着准确的值\n",
    "    # 结合插入排序和归并排序的优点\n",
    "def parent(i):\n",
    "    return (i-1)//2\n",
    "\n",
    "def left(i):\n",
    "    return 2*i+1\n",
    "\n",
    "def right(i):\n",
    "    return 2*i+2\n",
    "\n",
    "def heap_sort(a):\n",
    "    length = len(a)\n",
    "\n",
    "    _build_max_heap(a, length) # 此时根有最大值\n",
    "\n",
    "    for i in range(length-1, 0, -1): # 一个个交换元素 此时A[n]存储有准确的值\n",
    "        a[0], a[i] = a[i], a[0]\n",
    "        _max_heapify(a, i, 0)\n",
    "\n",
    "def _build_max_heap(a, length):\n",
    "    for i in range(length//2-1, -1, -1):  # 索引从0开始\n",
    "        _max_heapify(a, length , i)\n",
    "\n",
    "# construct a sub-tree whose root is node i\n",
    "def _max_heapify(a, length, i):\n",
    "    l = left(i)\n",
    "    r = right(i)\n",
    "    largest = 0\n",
    "  \n",
    "    if l <= length-1 and a[i] < a[l]: \n",
    "        largest = l \n",
    "    else:\n",
    "        largest = i\n",
    "  \n",
    "    if r <= length-1 and a[largest] < a[r]: \n",
    "        largest = r \n",
    "  \n",
    "    if largest != i: \n",
    "        a[i], a[largest] = a[largest], a[i]  \n",
    "        _max_heapify(a, length, largest) \n",
    "\n",
    "a = [16,14,10,8,7,9,3,2,4,1]\n",
    "heap_sort(a)\n",
    "print(a)"
   ]
  },
  {
   "source": [
    "## merge sort 归并排序"
   ],
   "cell_type": "markdown",
   "metadata": {}
  },
  {
   "cell_type": "code",
   "execution_count": 4,
   "metadata": {},
   "outputs": [
    {
     "output_type": "stream",
     "name": "stdout",
     "text": [
      "[-2, -1, 3, 3, 5, 7, 8, 9, 9]\n"
     ]
    }
   ],
   "source": [
    "def merge_sort(a):\n",
    "    _merge_sort_between(a, 0, len(a) - 1)  # 需要三个参数：待排序的数组，左索引，右索引；然后确定中间索引，递归\n",
    "\n",
    "def _merge_sort_between(a, low, high):\n",
    "    # The indices are inclusive for both low and high.\n",
    "    if low < high:\n",
    "        mid = low + (high - low) // 2\n",
    "        _merge_sort_between(a, low, mid)\n",
    "        _merge_sort_between(a, mid + 1, high)\n",
    "        _merge(a, low, mid, high)\n",
    "\n",
    "def _merge(a, low, mid, high):\n",
    "    # a[low:mid], a[mid+1, high] are sorted.\n",
    "    # _merge() takes two sorted subarrays of a and merges them into a single sorted subarray of a.\n",
    "\n",
    "    i, j = low, mid + 1\n",
    "    tmp = []\n",
    "    while i <= mid and j <= high:\n",
    "        if a[i] <= a[j]:\n",
    "            tmp.append(a[i])\n",
    "            i += 1\n",
    "        else:\n",
    "            tmp.append(a[j])\n",
    "            j += 1\n",
    "    start = i if i <= mid else j\n",
    "    end = mid if i <= mid else high\n",
    "    tmp.extend(a[start:end + 1])\n",
    "    a[low:high + 1] = tmp\n",
    "\n",
    "a = [5, -1, 9, 3, 7, 8, 3, -2, 9]\n",
    "merge_sort(a)\n",
    "print(a)"
   ]
  },
  {
   "source": [
    "## TopK"
   ],
   "cell_type": "markdown",
   "metadata": {}
  },
  {
   "source": [
    "### 暴力解法"
   ],
   "cell_type": "markdown",
   "metadata": {}
  },
  {
   "cell_type": "code",
   "execution_count": 4,
   "metadata": {},
   "outputs": [
    {
     "output_type": "stream",
     "name": "stdout",
     "text": [
      "[5, -1, 4, 2, 6, 8, 7, 6, 10]\n"
     ]
    }
   ],
   "source": [
    "# 时间复杂度为 O(NK)\n",
    "def getTopk(a, k): # 让数组的前k个元素有序\n",
    "    for i in range(k):\n",
    "        made_swap = False\n",
    "        for j in range(len(a)-i-1):\n",
    "            if a[j] > a[j + 1]:\n",
    "                a[j], a[j + 1] = a[j + 1], a[j]\n",
    "                made_swap = True\n",
    "        if not made_swap:\n",
    "            break\n",
    "\n",
    "array = [5, 6, -1, 4, 2, 8, 10, 7, 6]\n",
    "getTopk(array, 1)\n",
    "print(array)\n"
   ]
  },
  {
   "source": [
    "### 快排解法"
   ],
   "cell_type": "markdown",
   "metadata": {}
  },
  {
   "cell_type": "code",
   "execution_count": 4,
   "metadata": {},
   "outputs": [
    {
     "output_type": "stream",
     "name": "stdout",
     "text": [
      "[32, 9, 9, 7]\n"
     ]
    }
   ],
   "source": [
    "# 时间复杂度平均是 O(KlogN)\n",
    "def getTopk(nums, k):\n",
    "    if len(nums)==0:\n",
    "        return []\n",
    "    left=[a for a in nums[1:] if a>nums[0]]\n",
    "    right=[a for a in nums[1:] if a<=nums[0]]\n",
    "    if len(left)==k:\n",
    "        return left\n",
    "    elif len(left)==k-1:\n",
    "        return left+[nums[0]]\n",
    "    elif len(left)>k:\n",
    "        return getTopk(left, k)\n",
    "    else:\n",
    "        return left+[nums[0]]+getTopk(right, k-1-len(left))\n",
    "\n",
    "items = [2,5,9,3,7,32,9,7,0,4]\n",
    "print(getTopk(items, 4))\n",
    "\n"
   ]
  },
  {
   "source": [
    "### 堆排解法"
   ],
   "cell_type": "markdown",
   "metadata": {}
  },
  {
   "cell_type": "code",
   "execution_count": 5,
   "metadata": {},
   "outputs": [
    {
     "output_type": "stream",
     "name": "stdout",
     "text": [
      "[8, 7, 3, 4, 2, 1, 9, 10, 14, 16]\n"
     ]
    }
   ],
   "source": [
    "# 时间复杂度平均是 O(KlogN)\n",
    "def getTopk(a, k):\n",
    "    def left(i):\n",
    "        return 2*i+1\n",
    "\n",
    "    def right(i):\n",
    "        return 2*i+2\n",
    "\n",
    "    # construct a sub-tree whose root is node i\n",
    "    def _max_heapify(a, length, i):\n",
    "        l = left(i)\n",
    "        r = right(i)\n",
    "        largest = 0\n",
    "    \n",
    "        if l <= length-1 and a[i] < a[l]: \n",
    "            largest = l \n",
    "        else:\n",
    "            largest = i\n",
    "    \n",
    "        if r <= length-1 and a[largest] < a[r]: \n",
    "            largest = r \n",
    "    \n",
    "        if largest != i: \n",
    "            a[i], a[largest] = a[largest], a[i]  \n",
    "            _max_heapify(a, length, largest) \n",
    "\n",
    "    def _build_max_heap(a, length):\n",
    "        for i in range(length//2-1, -1, -1):  # 索引从0开始\n",
    "            _max_heapify(a, length , i)\n",
    "\n",
    "    length = len(a)\n",
    "    _build_max_heap(a, length) # 此时根有最大值\n",
    "\n",
    "    for i in range(length-1, length-k-1, -1): # 一个个交换元素 此时A[n]存储有准确的值\n",
    "        a[0], a[i] = a[i], a[0]\n",
    "        _max_heapify(a, i, 0)\n",
    "\n",
    "a = [16,14,10,8,7,9,3,2,4,1]\n",
    "getTopk(a, 4)\n",
    "print(a)"
   ]
  },
  {
   "cell_type": "code",
   "execution_count": null,
   "metadata": {},
   "outputs": [],
   "source": []
  }
 ]
}