{
 "metadata": {
  "language_info": {
   "codemirror_mode": {
    "name": "ipython",
    "version": 3
   },
   "file_extension": ".py",
   "mimetype": "text/x-python",
   "name": "python",
   "nbconvert_exporter": "python",
   "pygments_lexer": "ipython3",
   "version": "3.6.13"
  },
  "orig_nbformat": 2,
  "kernelspec": {
   "name": "python3613jvsc74a57bd072506cc1e4b0dce5eb876f653d1c5faf29777724f7cbfb23a9a7a2a764425624",
   "display_name": "Python 3.6.13 64-bit ('lnf': conda)"
  },
  "metadata": {
   "interpreter": {
    "hash": "72506cc1e4b0dce5eb876f653d1c5faf29777724f7cbfb23a9a7a2a764425624"
   }
  }
 },
 "nbformat": 4,
 "nbformat_minor": 2,
 "cells": [
  {
   "cell_type": "code",
   "execution_count": null,
   "metadata": {},
   "outputs": [],
   "source": [
    "'''\n",
    "1、递归: 700(值搜索) | 617(树的合并) | 101(树的对称) | 100(树的相同) | 572(树和子树)\n",
    "    三种遍历:\n",
    "        前序遍历: 中左右\n",
    "        中序遍历: 左中右\n",
    "        后序遍历: 左右中\n",
    "    深度优先搜索dfs: 965(单值) | 538(累加树) | 236(最近公共祖先) | 543(直径) | 872(叶子相似)\n",
    "2、迭代: \n",
    "    引入while循环: 700\n",
    "    结合队列: \n",
    "        广度优先搜索bfs: 617\n",
    "        层次遍历/102 | 之字遍历/103\n",
    "        层相关: 637 | 429 | 590\n",
    "3、二叉搜索树\n",
    "    每个结点大于左子树上任意一个节点的值，小于右子树上任意一个节点的值\n",
    "4、新建一棵树\n",
    "    根据列表中的节点值，创建等价的只含有右节点的二叉搜索树，其过程等价于根据节点值创建一个链表: 897\n",
    "    从中序与后序遍历序列构造二叉树: 106\n",
    "'''"
   ]
  },
  {
   "cell_type": "code",
   "execution_count": null,
   "metadata": {},
   "outputs": [],
   "source": [
    "# 二叉树的定义\n",
    "class TreeNode:\n",
    "    def __init__(self, x):\n",
    "        self.val = x\n",
    "        self.left = None\n",
    "        self.right = None\n",
    "\n",
    "# 二叉树的前序遍历\n",
    "def pre_order(root):\n",
    "    #根节点非空入队列递归遍历\n",
    "    if root:\n",
    "        #节点值入队列\n",
    "        result.append(root.val)\n",
    "        #递归遍历左节点\n",
    "        pre_order(root.left)\n",
    "        #递归遍历右节点\n",
    "        pre_order(root.right)\n",
    "def pre_order(root):\n",
    "    if root:\n",
    "        stack = []\n",
    "        stack.append(root)\n",
    "        while stack:\n",
    "            temp = stack.pop()\n",
    "            result.append(temp.val)\n",
    "            if temp.right:\n",
    "                stack.append(temp.right)\n",
    "            if temp.left:\n",
    "                stack.append(temp.left)\n",
    "\n",
    "# 二叉树的中序遍历\n",
    "def in_order(root):\n",
    "    #根节点非空入队列递归遍历\n",
    "    if root:\n",
    "        #递归遍历左节点\n",
    "        in_order(root.left)\n",
    "        #节点值入队列\n",
    "        result.append(root.val)\n",
    "        #递归遍历右节点\n",
    "        in_order(root.right)\n",
    "def in_order(root):\n",
    "    if root:\n",
    "        stack = []\n",
    "        while stack or root:\n",
    "            if root:\n",
    "                stack.append(root)\n",
    "                root = root.left\n",
    "            else:\n",
    "                root = stack.pop()\n",
    "                result.append(root.val)\n",
    "                root = root.right\n",
    "\n",
    "# 二叉树的后序遍历\n",
    "def post_order(root):\n",
    "    #根节点非空入队列递归遍历\n",
    "    if root:\n",
    "        #递归遍历左节点\n",
    "        post_order(root.left)\n",
    "        #递归遍历右节点\n",
    "        post_order(root.right)\n",
    "        #节点值入队列\n",
    "        result.append(root.val)\n",
    "def post_order(root):\n",
    "    if root:\n",
    "        stack = []\n",
    "        stack1 = []\n",
    "        stack.append(root)\n",
    "        while stack:\n",
    "            temp = stack.pop()\n",
    "            stack1.append(temp)\n",
    "            if temp.left:\n",
    "                stack.append(temp.left)\n",
    "            if temp.right:\n",
    "                stack.append(temp.right)\n",
    "        while stack1:\n",
    "            result.append(stack1.pop().val)"
   ]
  },
  {
   "source": [
    "### 700: 二叉搜索树中的搜索"
   ],
   "cell_type": "markdown",
   "metadata": {}
  },
  {
   "cell_type": "code",
   "execution_count": null,
   "metadata": {},
   "outputs": [],
   "source": [
    "def searchBST(root: TreeNode, val: int) -> TreeNode: # 递归\n",
    "    if root is None or val == root.val:\n",
    "        return root\n",
    "    \n",
    "    return searchBST(root.left, val) if val < root.val else searchBST(root.right, val)\n",
    "\n",
    "def searchBST(root: TreeNode, val: int) -> TreeNode: # 迭代\n",
    "    while root is not None and root.val != val:\n",
    "        root = root.left if val < root.val else root.right\n",
    "    return root"
   ]
  },
  {
   "source": [
    "### 617: 合并二叉树"
   ],
   "cell_type": "markdown",
   "metadata": {}
  },
  {
   "cell_type": "code",
   "execution_count": null,
   "metadata": {},
   "outputs": [],
   "source": [
    "def mergeTrees(t1: TreeNode, t2: TreeNode) -> TreeNode:\n",
    "    if not t1:\n",
    "        return t2\n",
    "    if not t2:\n",
    "        return t1\n",
    "    \n",
    "    merged = TreeNode(t1.val + t2.val)\n",
    "    merged.left = mergeTrees(t1.left, t2.left)\n",
    "    merged.right = mergeTrees(t1.right, t2.right)\n",
    "    return merged\n",
    "\n",
    "def mergeTrees(t1: TreeNode, t2: TreeNode) -> TreeNode: # bfs\n",
    "    if not t1:\n",
    "        return t2\n",
    "    if not t2:\n",
    "        return t1\n",
    "    \n",
    "    merged = TreeNode(t1.val + t2.val)\n",
    "    queue = collections.deque([merged])\n",
    "    queue1 = collections.deque([t1])\n",
    "    queue2 = collections.deque([t2])\n",
    "\n",
    "    while queue1 and queue2:\n",
    "        node = queue.popleft()\n",
    "        node1 = queue1.popleft()\n",
    "        node2 = queue2.popleft()\n",
    "        left1, right1 = node1.left, node1.right\n",
    "        left2, right2 = node2.left, node2.right\n",
    "        if left1 or left2:\n",
    "            if left1 and left2:\n",
    "                left = TreeNode(left1.val + left2.val)\n",
    "                node.left = left\n",
    "                queue.append(left)\n",
    "                queue1.append(left1)\n",
    "                queue2.append(left2)\n",
    "            elif left1:\n",
    "                node.left = left1\n",
    "            elif left2:\n",
    "                node.left = left2\n",
    "        if right1 or right2:\n",
    "            if right1 and right2:\n",
    "                right = TreeNode(right1.val + right2.val)\n",
    "                node.right = right\n",
    "                queue.append(right)\n",
    "                queue1.append(right1)\n",
    "                queue2.append(right2)\n",
    "            elif right1:\n",
    "                node.right = right1\n",
    "            elif right2:\n",
    "                node.right = right2\n",
    "    \n",
    "    return merged"
   ]
  },
  {
   "source": [
    "### 101: 对称二叉树"
   ],
   "cell_type": "markdown",
   "metadata": {}
  },
  {
   "cell_type": "code",
   "execution_count": null,
   "metadata": {},
   "outputs": [],
   "source": [
    "def isSymmetric(self, root: TreeNode) -> bool:\n",
    "    def check(p, q):\n",
    "        if not p and not q:\n",
    "            return True\n",
    "        if not p or not q:\n",
    "            return False\n",
    "        \n",
    "        return p.val == q.val and check(p.left, q.right) and check(p.right, q.left)\n",
    "\n",
    "    return check(root, root)"
   ]
  },
  {
   "source": [
    "### 100: 相同的树"
   ],
   "cell_type": "markdown",
   "metadata": {}
  },
  {
   "cell_type": "code",
   "execution_count": null,
   "metadata": {},
   "outputs": [],
   "source": [
    "def isSameTree(self, p: TreeNode, q: TreeNode) -> bool:\n",
    "    if not p and not q:\n",
    "        return True\n",
    "    if not p or not q:\n",
    "        return False\n",
    "    \n",
    "    return p.val == q.val and self.isSameTree(p.left, q.left) and self.isSameTree(p.right, q.right)"
   ]
  },
  {
   "source": [
    "### 572: 另一个树的子树"
   ],
   "cell_type": "markdown",
   "metadata": {}
  },
  {
   "cell_type": "code",
   "execution_count": null,
   "metadata": {},
   "outputs": [],
   "source": [
    "def isSubtree(self, root: TreeNode, subRoot: TreeNode) -> bool:\n",
    "    if not root and not subRoot:\n",
    "        return True\n",
    "    if not root or not subRoot:\n",
    "        return False\n",
    "    return self.isSameTree(root, subRoot) or self.isSubtree(root.left, subRoot) or self.isSubtree(root.right, subRoot)\n",
    "    \n",
    "def isSameTree(self, s, t):\n",
    "    if not s and not t:\n",
    "        return True\n",
    "    if not s or not t:\n",
    "        return False\n",
    "    return s.val == t.val and self.isSameTree(s.left, t.left) and self.isSameTree(s.right, t.right)"
   ]
  },
  {
   "source": [
    "### 965: 单值二叉树"
   ],
   "cell_type": "markdown",
   "metadata": {}
  },
  {
   "cell_type": "code",
   "execution_count": null,
   "metadata": {},
   "outputs": [],
   "source": [
    "def isUnivalTree(root): # 深度优先搜索\n",
    "    vals = []\n",
    "\n",
    "    def dfs(node):\n",
    "        if node:\n",
    "            vals.append(node.val)\n",
    "            dfs(node.left)\n",
    "            dfs(node.right)\n",
    "\n",
    "    dfs(root)\n",
    "    return len(set(vals)) == 1"
   ]
  },
  {
   "source": [
    "### 538: 把二叉搜索树转换为累加树"
   ],
   "cell_type": "markdown",
   "metadata": {}
  },
  {
   "cell_type": "code",
   "execution_count": null,
   "metadata": {},
   "outputs": [],
   "source": [
    "def convertBST(root: TreeNode) -> TreeNode: # dfs+nonlocal\n",
    "    def dfs(node):\n",
    "        nonlocal total\n",
    "        if node:\n",
    "            dfs(node.right)\n",
    "            total += node.val\n",
    "            node.val = total\n",
    "            dfs(node.left)\n",
    "\n",
    "    total = 0\n",
    "    dfs(root)\n",
    "    return root"
   ]
  },
  {
   "source": [
    "### 236: 二叉树的最近公共祖先"
   ],
   "cell_type": "markdown",
   "metadata": {}
  },
  {
   "cell_type": "code",
   "execution_count": 1,
   "metadata": {},
   "outputs": [],
   "source": [
    "def lowestCommonAncestor(self, root: 'TreeNode', p: 'TreeNode', q: 'TreeNode') -> 'TreeNode':\n",
    "    def dfs(root, p, q):\n",
    "        nonlocal ans\n",
    "        if not root:\n",
    "            return False\n",
    "        lson = dfs(root.left, p, q)\n",
    "        rson = dfs(root.right, p, q)\n",
    "        if (lson and rson) or ((root.val==p.val or root.val==q.val) and (lson or rson)):\n",
    "            ans = root\n",
    "        return lson or rson or (root.val==p.val or root.val==q.val)\n",
    "\n",
    "    \n",
    "    ans = None\n",
    "    dfs(root, p, q)\n",
    "    return ans"
   ]
  },
  {
   "source": [
    "### 543: 二叉树的直径"
   ],
   "cell_type": "markdown",
   "metadata": {}
  },
  {
   "cell_type": "code",
   "execution_count": null,
   "metadata": {},
   "outputs": [],
   "source": [
    "# 求直径（即求路径长度的最大值）等效于求路径经过节点数的最大值减一\n",
    "def diameterOfBinaryTree(self, root: TreeNode) -> int:\n",
    "    def depth(node):\n",
    "        nonlocal ans\n",
    "        if not node:\n",
    "            return 0\n",
    "        L = depth(node.left)\n",
    "        R = depth(node.right)\n",
    "        ans = max(ans, L + R + 1)\n",
    "        return max(L, R) + 1\n",
    "    ans = 1\n",
    "    depth(root)\n",
    "    return ans - 1"
   ]
  },
  {
   "source": [
    "### 872: 叶子相似的树"
   ],
   "cell_type": "markdown",
   "metadata": {}
  },
  {
   "cell_type": "code",
   "execution_count": null,
   "metadata": {},
   "outputs": [],
   "source": [
    "def leafSimilar(root1: TreeNode, root2: TreeNode) -> bool: # 引入yield\n",
    "    def dfs(node):\n",
    "        if node:\n",
    "            if not node.left and not node.right:\n",
    "                yield node.val\n",
    "            yield from dfs(node.left)\n",
    "            yield from dfs(node.right)\n",
    "\n",
    "    return list(dfs(root1)) == list(dfs(root2))"
   ]
  },
  {
   "source": [
    "### 102: 二叉树的层序遍历"
   ],
   "cell_type": "markdown",
   "metadata": {}
  },
  {
   "cell_type": "code",
   "execution_count": null,
   "metadata": {},
   "outputs": [],
   "source": [
    "def levelOrder(self, root: TreeNode) -> List[List[int]]:\n",
    "    if not root:\n",
    "        return []\n",
    "    result = []\n",
    "    queue = collections.deque([root])\n",
    "    while queue:\n",
    "        size = len(queue)\n",
    "        result.append([])\n",
    "        for _ in range(size):\n",
    "            node = queue.popleft()\n",
    "            result[-1].append(node.val)\n",
    "            left, right = node.left, node.right\n",
    "            if left:\n",
    "                queue.append(left)\n",
    "            if right:\n",
    "                queue.append(right)\n",
    "    return result"
   ]
  },
  {
   "source": [
    "### 103: 二叉树的锯齿形层序遍历"
   ],
   "cell_type": "markdown",
   "metadata": {}
  },
  {
   "cell_type": "code",
   "execution_count": null,
   "metadata": {},
   "outputs": [],
   "source": [
    "def zigzagLevelOrder(self, root: TreeNode) -> List[List[int]]:\n",
    "    if not root:\n",
    "        return []\n",
    "    result = []\n",
    "    cur = [root]\n",
    "    d = 1\n",
    "    while cur:\n",
    "        tmp = cur.copy()\n",
    "        cur = []\n",
    "        nums = []\n",
    "        n = len(tmp)\n",
    "        for i in range(n-1, -1, -1):\n",
    "            node = tmp[i]\n",
    "            nums.append(node.val)\n",
    "            if d == 1:\n",
    "                if node.left:\n",
    "                    cur.append(node.left)\n",
    "                if node.right:\n",
    "                    cur.append(node.right)\n",
    "            else:\n",
    "                if node.right:\n",
    "                    cur.append(node.right)\n",
    "                if node.left:\n",
    "                    cur.append(node.left)\n",
    "        d = -d\n",
    "        result.append(nums.copy())\n",
    "\n",
    "    return result"
   ]
  },
  {
   "source": [
    "### 637: 二叉树的层平均值"
   ],
   "cell_type": "markdown",
   "metadata": {}
  },
  {
   "cell_type": "code",
   "execution_count": null,
   "metadata": {},
   "outputs": [],
   "source": [
    "def averageOfLevels(root: TreeNode) -> List[float]: # 广度优先搜索/考虑层\n",
    "    averages = list()\n",
    "    queue = collections.deque([root])\n",
    "    while queue:\n",
    "        total = 0\n",
    "        size = len(queue)\n",
    "        for _ in range(size):\n",
    "            node = queue.popleft()\n",
    "            total += node.val\n",
    "            left, right = node.left, node.right\n",
    "            if left:\n",
    "                queue.append(left)\n",
    "            if right:\n",
    "                queue.append(right)\n",
    "        averages.append(total / size)\n",
    "    return averages"
   ]
  },
  {
   "source": [
    "### 429: N叉树的层序遍历"
   ],
   "cell_type": "markdown",
   "metadata": {}
  },
  {
   "cell_type": "code",
   "execution_count": null,
   "metadata": {},
   "outputs": [],
   "source": [
    "def levelOrder(root: 'Node') -> List[List[int]]: # 广度优先搜索\n",
    "    if root is None:\n",
    "        return []        \n",
    "\n",
    "    result = []\n",
    "    previous_layer = [root]\n",
    "\n",
    "    while previous_layer:\n",
    "        current_layer = []\n",
    "        result.append([])\n",
    "        for node in previous_layer:\n",
    "            result[-1].append(node.val)\n",
    "            current_layer.extend(node.children)\n",
    "        previous_layer = current_layer\n",
    "    return result"
   ]
  },
  {
   "source": [
    "### 590: N叉树的后序遍历"
   ],
   "cell_type": "markdown",
   "metadata": {}
  },
  {
   "cell_type": "code",
   "execution_count": null,
   "metadata": {},
   "outputs": [],
   "source": [
    "def postorder(root): # 迭代\n",
    "    \"\"\"\n",
    "    :type root: Node\n",
    "    :rtype: List[int]\n",
    "    \"\"\"\n",
    "    if root is None:\n",
    "        return []\n",
    "    \n",
    "    stack, output = [root, ], []\n",
    "    while stack:\n",
    "        root = stack.pop()\n",
    "        if root is not None:\n",
    "            output.append(root.val)\n",
    "        for c in root.children:\n",
    "            stack.append(c)\n",
    "            \n",
    "    return output[::-1]"
   ]
  },
  {
   "source": [
    "### 897: 递增顺序查找树"
   ],
   "cell_type": "markdown",
   "metadata": {}
  },
  {
   "cell_type": "code",
   "execution_count": null,
   "metadata": {},
   "outputs": [],
   "source": [
    "def increasingBST_1(root: TreeNode) -> TreeNode: # 中序遍历之后生成新的树\n",
    "    order = []\n",
    "    def in_order(root):\n",
    "        if root:\n",
    "            in_order(root.left)\n",
    "            order.append(root.val)\n",
    "            in_order(root.right)\n",
    "\n",
    "    in_order(root)\n",
    "    dummyNode = TreeNode(-1)\n",
    "    currNode = dummyNode\n",
    "    for v in order:\n",
    "        currNode.right = TreeNode(v)\n",
    "        currNode = currNode.right\n",
    "\n",
    "    return dummyNode.right\n",
    "\n",
    "def increasingBST_2(root: TreeNode) -> TreeNode: # 在中序遍历的过程中改变节点指向+nonlocal\n",
    "    dummyNode = TreeNode(-1)\n",
    "    currNode = dummyNode\n",
    "    def in_order(root):\n",
    "        nonlocal currNode\n",
    "        if root:\n",
    "            in_order(root.left)\n",
    "            # 在中序遍历的过程中修改节点指向\n",
    "            currNode.right = root\n",
    "            root.left = None\n",
    "            currNode = root\n",
    "            in_order(root.right)\n",
    "    in_order(root)\n",
    "    \n",
    "    return dummyNode.right"
   ]
  },
  {
   "source": [
    "### 106: 从中序与后序遍历序列构造二叉树"
   ],
   "cell_type": "markdown",
   "metadata": {}
  },
  {
   "cell_type": "code",
   "execution_count": null,
   "metadata": {},
   "outputs": [],
   "source": [
    "def buildTree(self, inorder: List[int], postorder: List[int]) -> TreeNode:\n",
    "    def helper(in_left, in_right):\n",
    "        # 如果这里没有节点构造二叉树了，就结束\n",
    "        if in_left > in_right:\n",
    "            return None\n",
    "        \n",
    "        # 选择 post_idx 位置的元素作为当前子树根节点\n",
    "        val = postorder.pop()\n",
    "        root = TreeNode(val)\n",
    "\n",
    "        # 根据 root 所在位置分成左右两棵子树\n",
    "        index = idx_map[val]\n",
    "\n",
    "        # 构造右子树\n",
    "        root.right = helper(index + 1, in_right)\n",
    "        # 构造左子树\n",
    "        root.left = helper(in_left, index - 1)\n",
    "        return root\n",
    "    \n",
    "    # 建立（元素，下标）键值对的哈希表\n",
    "    idx_map = {val:idx for idx, val in enumerate(inorder)} \n",
    "    return helper(0, len(inorder) - 1)"
   ]
  }
 ]
}