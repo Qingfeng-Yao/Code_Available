{
 "metadata": {
  "language_info": {
   "codemirror_mode": {
    "name": "ipython",
    "version": 3
   },
   "file_extension": ".py",
   "mimetype": "text/x-python",
   "name": "python",
   "nbconvert_exporter": "python",
   "pygments_lexer": "ipython3",
   "version": 3
  },
  "orig_nbformat": 2
 },
 "nbformat": 4,
 "nbformat_minor": 2,
 "cells": [
  {
   "cell_type": "code",
   "execution_count": null,
   "metadata": {},
   "outputs": [],
   "source": [
    "'''\n",
    "    寻找所有可行解: 定义递归函数 backtrack(first, output) 表示从左往右填到第 first 个位置，当前排列为 output\n",
    "        如果first==n，说明我们已经填完了 n 个位置（注意下标从 0 开始），找到了一个可行的解，我们将output放入答案数组中，递归结束\n",
    "        如果first<n，我们要考虑这第first个位置我们要填哪个数。根据题目要求我们肯定不能填已经填过的数，因此很容易想到的一个处理手段是我们定义一个标记数组vis[]来标记已经填过的数，那么在填第first个数的时候我们遍历题目给定的 n 个数，如果这个数没有被标记过，我们就尝试填入，并将其标记，继续尝试填下一个位置，即调用函数 backtrack(first + 1, output)。回溯的时候要撤销这一个位置填的数以及标记，并继续尝试其他没被标记过的数\n",
    "        使用标记数组来处理填过的数是一个很直观的思路，但是可不可以去掉这个标记数组呢？毕竟标记数组也增加了我们算法的空间复杂度\n",
    "        可以将题目给定的 n 个数的数组 nums 划分成左右两个部分，左边的表示已经填过的数，右边表示待填的数，我们在回溯的时候只要动态维护这个数组即可\n",
    "        具体来说，假设我们已经填到第 first 个位置，那么 nums 数组中 [0,first−1] 是已填过的数的集合，[first,n−1] 是待填的数的集合。我们肯定是尝试用 [first,n−1] 里的数去填第 first 个数，假设待填的数的下标为 i ，那么填完以后我们将第 i 个数和第 first 个数交换，即能使得在填第 first+1 个数的时候 nums 数组的 [0,first] 部分为已填过的数，[first+1,n−1] 为待填的数，回溯的时候交换回来即能完成撤销操作\n",
    "\n",
    "    实例:\n",
    "        46: 排列\n",
    "        39: 组合\n",
    "'''"
   ]
  },
  {
   "source": [
    "### 46: 全排列"
   ],
   "cell_type": "markdown",
   "metadata": {}
  },
  {
   "cell_type": "code",
   "execution_count": null,
   "metadata": {},
   "outputs": [],
   "source": [
    "def permute(nums: List[int]) -> List[List[int]]:\n",
    "    def backtrack(first = 0):\n",
    "        # 所有数都填完了\n",
    "        if first == n:  \n",
    "            res.append(nums[:])\n",
    "        for i in range(first, n):\n",
    "            # 动态维护数组\n",
    "            nums[first], nums[i] = nums[i], nums[first]\n",
    "            # 继续递归填下一个数\n",
    "            backtrack(first + 1)\n",
    "            # 撤销操作\n",
    "            nums[first], nums[i] = nums[i], nums[first]\n",
    "    \n",
    "    n = len(nums)\n",
    "    res = []\n",
    "    backtrack()\n",
    "    return res"
   ]
  }
 ]
}