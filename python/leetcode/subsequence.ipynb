{
 "metadata": {
  "language_info": {
   "codemirror_mode": {
    "name": "ipython",
    "version": 3
   },
   "file_extension": ".py",
   "mimetype": "text/x-python",
   "name": "python",
   "nbconvert_exporter": "python",
   "pygments_lexer": "ipython3",
   "version": 3
  },
  "orig_nbformat": 2
 },
 "nbformat": 4,
 "nbformat_minor": 2,
 "cells": [
  {
   "cell_type": "code",
   "execution_count": null,
   "metadata": {},
   "outputs": [],
   "source": [
    "'''\n",
    "1、最值: \n",
    "    单个序列: \n",
    "        无重复: 滑动窗口/双指针: 3 | 1695\n",
    "        动态规划: 动态数组(索引和元素值/动态转移公式): 53 | 300 | 5\n",
    "    两个输入: \n",
    "        同等地位: 滑动窗口(交替一个输入不动，另一个滑动): 718\n",
    "        所属关系: 滑动窗口(一个输入用哈希表存储): 76\n",
    "2、while循环遍历: \n",
    "    按相同元素分组: 696\n",
    "    不连续子序列+给定长度(遍历+while循环): 1673\n",
    "'''"
   ]
  },
  {
   "source": [
    "### 3: 无重复字符的最长子串"
   ],
   "cell_type": "markdown",
   "metadata": {}
  },
  {
   "cell_type": "code",
   "execution_count": null,
   "metadata": {},
   "outputs": [],
   "source": [
    "def lengthOfLongestSubstring(s: str) -> int:\n",
    "    occ = set()\n",
    "    left = 0\n",
    "    ans = 0\n",
    "    for i in range(len(s)):\n",
    "        while s[i] in occ:\n",
    "            occ.remove(s[left])\n",
    "            left += 1\n",
    "            \n",
    "        occ.add(s[i])\n",
    "        ans = max(ans, i-left+1)\n",
    "\n",
    "    return ans"
   ]
  },
  {
   "source": [
    "### 1695: 删除子数组的最大得分"
   ],
   "cell_type": "markdown",
   "metadata": {}
  },
  {
   "cell_type": "code",
   "execution_count": null,
   "metadata": {},
   "outputs": [],
   "source": [
    "def maximumUniqueSubarray(nums: List[int]) -> int:\n",
    "    ans = float('-inf')\n",
    "    cur = 0\n",
    "    # sliding window; current value = [i, j]\n",
    "    seen = set()\n",
    "    i = 0\n",
    "    for j in range(len(nums)):\n",
    "        while nums[j] in seen:\n",
    "            cur -= nums[i]\n",
    "            seen.remove(nums[i])\n",
    "            i += 1\n",
    "        seen.add(nums[j])\n",
    "        cur += nums[j]\n",
    "        ans = max(ans, cur)\n",
    "        \n",
    "    return ans"
   ]
  },
  {
   "source": [
    "### 53: 最大子序和"
   ],
   "cell_type": "markdown",
   "metadata": {}
  },
  {
   "cell_type": "code",
   "execution_count": null,
   "metadata": {},
   "outputs": [],
   "source": [
    "def maxSubArray(nums: List[int]) -> int:\n",
    "    n = len(nums)\n",
    "    dp = [0]*n\n",
    "    dp[0]=nums[0]\n",
    "    for i in range(1,n):\n",
    "        dp[i] = max(dp[i-1]+nums[i], nums[i])\n",
    "\n",
    "    return max(dp)"
   ]
  },
  {
   "source": [
    "### 300: 最长递增子序列"
   ],
   "cell_type": "markdown",
   "metadata": {}
  },
  {
   "cell_type": "code",
   "execution_count": null,
   "metadata": {},
   "outputs": [],
   "source": [
    "def lengthOfLIS(nums: List[int]) -> int:\n",
    "    n = len(nums)\n",
    "    dp = [1] * n\n",
    "    for i in range(n):\n",
    "        for j in range(i):\n",
    "            if nums[i]>nums[j]:\n",
    "                dp[i] = max(dp[i], dp[j]+1)\n",
    "\n",
    "    return max(dp)"
   ]
  },
  {
   "source": [
    "### 5: 最长回文子串"
   ],
   "cell_type": "markdown",
   "metadata": {}
  },
  {
   "cell_type": "code",
   "execution_count": null,
   "metadata": {},
   "outputs": [],
   "source": [
    "# 用s(i,j)表示字符串s的第i到j个字母组成的串\n",
    "# 只有s[i+1:j-1]是回文串，并且s的第i和j个字母相同时，s[i:j]才会是回文串\n",
    "# 在状态转移方程中，我们是从长度较短的字符串向长度较长的字符串进行转移的\n",
    "def longestPalindrome(s: str) -> str:\n",
    "    n = len(s)\n",
    "    if n < 2:\n",
    "        return s\n",
    "\n",
    "    max_len = 1\n",
    "    begin = 0\n",
    "    # dp[i][j] 表示 s[i..j] 是否是回文串\n",
    "    dp = [[False] * n for _ in range(n)]\n",
    "    for i in range(n):\n",
    "        dp[i][i] = True\n",
    "\n",
    "    # 递推开始\n",
    "    # 先枚举子串长度\n",
    "    for L in range(2, n + 1):\n",
    "        # 枚举左边界，左边界的上限设置可以宽松一些\n",
    "        for i in range(n):\n",
    "            # 由 L 和 i 可以确定右边界，即 j - i + 1 = L 得\n",
    "            j = L + i - 1\n",
    "            # 如果右边界越界，就可以退出当前循环\n",
    "            if j >= n:\n",
    "                break\n",
    "\n",
    "            if s[i] != s[j]:\n",
    "                dp[i][j] = False \n",
    "            else:\n",
    "                if j - i < 3:\n",
    "                    dp[i][j] = True\n",
    "                else:\n",
    "                    dp[i][j] = dp[i + 1][j - 1]\n",
    "\n",
    "            # 只要 dp[i][L] == true 成立，就表示子串 s[i..L] 是回文，此时记录回文长度和起始位置\n",
    "            if dp[i][j] and j - i + 1 > max_len:\n",
    "                max_len = j - i + 1\n",
    "                begin = i\n",
    "    return s[begin:begin + max_len]"
   ]
  },
  {
   "source": [
    "### 718: 最长重复子数组"
   ],
   "cell_type": "markdown",
   "metadata": {}
  },
  {
   "cell_type": "code",
   "execution_count": null,
   "metadata": {},
   "outputs": [],
   "source": [
    "def findLength(self, nums1: List[int], nums2: List[int]) -> int:\n",
    "        n = len(nums1)\n",
    "        m = len(nums2)\n",
    "        ans = 0\n",
    "\n",
    "        def maxLength(A, B, addA, addB, l):\n",
    "            ans = 0\n",
    "            k = 0\n",
    "            for i in range(l):\n",
    "                if A[addA+i] == B[addB+i]:\n",
    "                    k += 1\n",
    "                else:\n",
    "                    k = 0\n",
    "                ans = max(ans, k)\n",
    "\n",
    "            return ans\n",
    "\n",
    "        for i in range(n):\n",
    "            l = min(m, n-i)\n",
    "            ans = max(ans, maxLength(nums1, nums2, i, 0, l))\n",
    "        for j in range(m):\n",
    "            l = min(n, m-j)\n",
    "            ans = max(ans, maxLength(nums1, nums2, 0, j, l))\n",
    "\n",
    "        return ans"
   ]
  },
  {
   "source": [
    "### 76: 最小覆盖子串"
   ],
   "cell_type": "markdown",
   "metadata": {}
  },
  {
   "cell_type": "code",
   "execution_count": null,
   "metadata": {},
   "outputs": [],
   "source": [
    "def minWindow(s: str, t: str) -> str:\n",
    "    need=collections.defaultdict(int)\n",
    "    for c in t:\n",
    "        need[c]+=1\n",
    "    needCnt=len(t)\n",
    "\n",
    "    i=0\n",
    "    res=(0,float('inf'))\n",
    "    for j,c in enumerate(s):\n",
    "        if need[c]>0:\n",
    "            needCnt-=1\n",
    "        need[c]-=1\n",
    "        if needCnt==0:       #步骤一：滑动窗口包含了所有T元素\n",
    "            while True:      #步骤二：增加i，排除多余元素\n",
    "                c=s[i] \n",
    "                if need[c]==0:\n",
    "                    break\n",
    "                need[c]+=1\n",
    "                i+=1\n",
    "            if j-i<res[1]-res[0]:   #记录结果\n",
    "                res=(i,j)\n",
    "            need[s[i]]+=1  #步骤三：i增加一个位置，寻找新的满足条件滑动窗口\n",
    "            needCnt+=1\n",
    "            i+=1\n",
    "    return '' if res[1]>len(s) else s[res[0]:res[1]+1] "
   ]
  },
  {
   "source": [
    "### 696: 计数二进制子串"
   ],
   "cell_type": "markdown",
   "metadata": {}
  },
  {
   "cell_type": "code",
   "execution_count": null,
   "metadata": {},
   "outputs": [],
   "source": [
    "def countBinarySubstrings(s):\n",
    "    ptr = 0\n",
    "    n = len(s)\n",
    "    last = 0\n",
    "    ans = 0\n",
    "    while ptr<n:\n",
    "        c = s[ptr]\n",
    "        count = 0\n",
    "        while (ptr<n and s[ptr]==c):\n",
    "            ptr += 1\n",
    "            count += 1\n",
    "        ans +=  min(count, last)\n",
    "        last = count\n",
    "\n",
    "    return ans"
   ]
  },
  {
   "source": [
    "### 1673: 找出最具竞争力的子序列"
   ],
   "cell_type": "markdown",
   "metadata": {}
  },
  {
   "cell_type": "code",
   "execution_count": null,
   "metadata": {},
   "outputs": [],
   "source": [
    "def mostCompetitive(nums: List[int], k: int) -> List[int]:\n",
    "    n = len(nums)\n",
    "    s = []\n",
    "    for i, x in enumerate(nums):\n",
    "        while s and s[-1] > x and len(s) + n - i > k:\n",
    "            s.pop()\n",
    "        if len(s) < k:\n",
    "            s.append(x)\n",
    "    return s"
   ]
  }
 ]
}